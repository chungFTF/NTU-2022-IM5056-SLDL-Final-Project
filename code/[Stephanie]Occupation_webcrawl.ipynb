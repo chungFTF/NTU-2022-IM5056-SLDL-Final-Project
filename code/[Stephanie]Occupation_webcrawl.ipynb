{
 "cells": [
  {
   "cell_type": "markdown",
   "metadata": {},
   "source": [
    "Resource: https://www.personality-database.com/profile?pid=3&cid=30&sub_cat_id=4718"
   ]
  },
  {
   "cell_type": "code",
   "execution_count": 1,
   "metadata": {},
   "outputs": [],
   "source": [
    "import pandas as pd\n",
    "from selenium import webdriver\n",
    "from selenium.webdriver.chrome.options import Options\n",
    "from webdriver_manager.chrome import ChromeDriverManager\n",
    "from selenium.webdriver.common.by import By\n",
    "import time\n",
    "import requests\n",
    "from bs4 import BeautifulSoup\n",
    "import pandas as pd \n"
   ]
  },
  {
   "cell_type": "code",
   "execution_count": 12,
   "metadata": {},
   "outputs": [
    {
     "name": "stderr",
     "output_type": "stream",
     "text": [
      "C:\\Users\\STEPHA~1\\AppData\\Local\\Temp/ipykernel_21168/3780900888.py:1: DeprecationWarning: executable_path has been deprecated, please pass in a Service object\n",
      "  browser = webdriver.Chrome(ChromeDriverManager().install())\n"
     ]
    }
   ],
   "source": [
    "browser = webdriver.Chrome(ChromeDriverManager().install())\n",
    "browser.get(\"https://www.personality-database.com/profile?pid=3&cid=30&sub_cat_id=4718\")\n",
    "time.sleep(5) # 等網站loading完才能爬\n",
    "soup = BeautifulSoup(browser.page_source, \"html.parser\")"
   ]
  },
  {
   "cell_type": "code",
   "execution_count": 13,
   "metadata": {},
   "outputs": [
    {
     "name": "stdout",
     "output_type": "stream",
     "text": [
      "1  is complete\n",
      "2  is complete\n",
      "3  is complete\n",
      "4  is complete\n",
      "5  is complete\n",
      "6  is complete\n",
      "7  is complete\n",
      "8  is complete\n",
      "9  is complete\n"
     ]
    }
   ],
   "source": [
    "cnt = 0\n",
    "# create empty dataFrame\n",
    "df = pd.DataFrame(columns=['Occupation', 'MBTI', 'Votes'])\n",
    "\n",
    "for pagenum in range(1,10):\n",
    "    soup = BeautifulSoup(browser.page_source, \"html.parser\")\n",
    "    name = soup.findAll(class_=\"info-name\")\n",
    "    mbti_type = soup.findAll(class_=\"personality\")\n",
    "    votecount = soup.findAll(class_=\"vote-count\")\n",
    "    votecount_list = []\n",
    "    for i in range(len(votecount)):\n",
    "        data = votecount[i].find('label').text.split('/')[0]\n",
    "        if data =='Select Personalities':\n",
    "            continue\n",
    "        votecount_list.append(votecount[i].find('label').text.split('/')[0])\n",
    " \n",
    "    for i in range(len(name)):\n",
    "        occ =name[i].text \n",
    "        mbti = mbti_type[i].text\n",
    "        df.loc[cnt]= [occ,mbti,votecount_list[i]]\n",
    "        cnt += 1\n",
    "\n",
    "    # scroll down to bottom \n",
    "    browser.execute_script(\"window.scrollTo(0,document.body.scrollHeight)\")\n",
    "    last_button = len(browser.find_elements(By.XPATH, \"//button[@class='rc-pagination-item-link']\"))\n",
    "    # click the next page button (最後一個 element 才是 next page button)\n",
    "    browser.find_elements(By.XPATH, \"//button[@class='rc-pagination-item-link']\")[last_button-1].click()\n",
    "    time.sleep(5) # 等網站loading完才能爬\n",
    "    print(pagenum,' is complete')\n"
   ]
  },
  {
   "cell_type": "code",
   "execution_count": 25,
   "metadata": {},
   "outputs": [
    {
     "data": {
      "text/html": [
       "<div>\n",
       "<style scoped>\n",
       "    .dataframe tbody tr th:only-of-type {\n",
       "        vertical-align: middle;\n",
       "    }\n",
       "\n",
       "    .dataframe tbody tr th {\n",
       "        vertical-align: top;\n",
       "    }\n",
       "\n",
       "    .dataframe thead th {\n",
       "        text-align: right;\n",
       "    }\n",
       "</style>\n",
       "<table border=\"1\" class=\"dataframe\">\n",
       "  <thead>\n",
       "    <tr style=\"text-align: right;\">\n",
       "      <th></th>\n",
       "      <th>Occupation</th>\n",
       "      <th>MBTI</th>\n",
       "      <th>Votes</th>\n",
       "    </tr>\n",
       "  </thead>\n",
       "  <tbody>\n",
       "    <tr>\n",
       "      <th>87</th>\n",
       "      <td>Esthetician</td>\n",
       "      <td>XXXX</td>\n",
       "      <td>3</td>\n",
       "    </tr>\n",
       "    <tr>\n",
       "      <th>126</th>\n",
       "      <td>Ethologist</td>\n",
       "      <td>XXXX</td>\n",
       "      <td>4</td>\n",
       "    </tr>\n",
       "    <tr>\n",
       "      <th>174</th>\n",
       "      <td>Car Washer</td>\n",
       "      <td>XXXX</td>\n",
       "      <td>27</td>\n",
       "    </tr>\n",
       "    <tr>\n",
       "      <th>196</th>\n",
       "      <td>Tree Trimmer and Pruner</td>\n",
       "      <td>XXXX</td>\n",
       "      <td>15</td>\n",
       "    </tr>\n",
       "    <tr>\n",
       "      <th>210</th>\n",
       "      <td>Paralegal</td>\n",
       "      <td>XXXX</td>\n",
       "      <td>4</td>\n",
       "    </tr>\n",
       "    <tr>\n",
       "      <th>253</th>\n",
       "      <td>Production Designer</td>\n",
       "      <td>XXXX</td>\n",
       "      <td>2</td>\n",
       "    </tr>\n",
       "    <tr>\n",
       "      <th>255</th>\n",
       "      <td>Geriatric Psychologist</td>\n",
       "      <td>XXXX</td>\n",
       "      <td>2</td>\n",
       "    </tr>\n",
       "  </tbody>\n",
       "</table>\n",
       "</div>"
      ],
      "text/plain": [
       "                  Occupation  MBTI Votes\n",
       "87               Esthetician  XXXX     3\n",
       "126               Ethologist  XXXX     4\n",
       "174               Car Washer  XXXX    27\n",
       "196  Tree Trimmer and Pruner  XXXX    15\n",
       "210                Paralegal  XXXX     4\n",
       "253      Production Designer  XXXX     2\n",
       "255   Geriatric Psychologist  XXXX     2"
      ]
     },
     "execution_count": 25,
     "metadata": {},
     "output_type": "execute_result"
    }
   ],
   "source": [
    "df[df['MBTI'] =='XXXX'] "
   ]
  },
  {
   "cell_type": "code",
   "execution_count": 24,
   "metadata": {},
   "outputs": [],
   "source": [
    "# 把 MBTI = XXXX 的過濾掉，儲存成 CSV\n",
    "df[df['MBTI'] !='XXXX'].to_csv('MBTI_occupation.csv',index=False)"
   ]
  }
 ],
 "metadata": {
  "kernelspec": {
   "display_name": "Python 3.9.7 ('base')",
   "language": "python",
   "name": "python3"
  },
  "language_info": {
   "codemirror_mode": {
    "name": "ipython",
    "version": 3
   },
   "file_extension": ".py",
   "mimetype": "text/x-python",
   "name": "python",
   "nbconvert_exporter": "python",
   "pygments_lexer": "ipython3",
   "version": "3.9.7"
  },
  "orig_nbformat": 4,
  "vscode": {
   "interpreter": {
    "hash": "d16ade73baeaddfef219199a3d3bc5157663164e33b15a18a4f81ca1ba68d45d"
   }
  }
 },
 "nbformat": 4,
 "nbformat_minor": 2
}
