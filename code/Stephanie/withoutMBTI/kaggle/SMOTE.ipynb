{
 "cells": [
  {
   "cell_type": "code",
   "execution_count": 1,
   "metadata": {},
   "outputs": [],
   "source": [
    "# import package\n",
    "import re\n",
    "import nltk\n",
    "from nltk.corpus import stopwords\n",
    "from nltk.tokenize import word_tokenize\n",
    "from nltk.stem import PorterStemmer, SnowballStemmer, WordNetLemmatizer\n",
    "import pandas as pd\n",
    "from sklearn.feature_extraction.text import TfidfVectorizer\n",
    "from sklearn.model_selection import train_test_split\n",
    "from sklearn.metrics import classification_report\n",
    "from sklearn.metrics import confusion_matrix\n",
    "import seaborn as sns\n",
    "import matplotlib.pyplot as plt\n",
    "from sklearn.metrics import f1_score, accuracy_score\n",
    "from tqdm import tqdm\n",
    "from sklearn.preprocessing import OneHotEncoder\n",
    "from sklearn.preprocessing import StandardScaler,MinMaxScaler\n",
    "import numpy as np  \n",
    "from keras.models import Sequential\n",
    "from keras.datasets import mnist\n",
    "from keras.layers import Dense, Dropout, Activation, Flatten, BatchNormalization\n",
    "# from keras.utils import np_utils  # 用來後續將 label 標籤轉為 one-hot-encoding  \n",
    "from imblearn.over_sampling import SMOTE \n",
    "\n",
    "import warnings\n",
    "warnings.filterwarnings(\"ignore\")"
   ]
  },
  {
   "cell_type": "code",
   "execution_count": 2,
   "metadata": {},
   "outputs": [],
   "source": [
    "# # ! pip install --upgrade scikit-learn\n",
    "# # !conda update sklearn\n",
    "# # # \n",
    "# ! pip uninstall imbalanced-learn\n",
    "# # !pip install imbalanced-learn -i https://pypi.org/simple/ --trusted-host pypi.org\n",
    "# pip3 install --trusted-host pypi.org --trusted-host https://pypi.org/simple/imbalanced-learn\n",
    "# pip install --trusted-host pypi.org --trusted-host pypi.python.org --trusted-host files.pythonhosted.org imbalanced-learn\n",
    "# pip install --index-url=https://pypi.python.org/simple/ --trusted-host pypi.python.org imbalanced-learn"
   ]
  },
  {
   "cell_type": "code",
   "execution_count": 3,
   "metadata": {},
   "outputs": [],
   "source": [
    "# # from nltk.tokenize import word_tokenize\n",
    "# nltk.download('punkt')\n",
    "# # from nltk.stem import WordNetLemmatizer\n",
    "# nltk.download('wordnet')\n",
    "# nltk.download('omw-1.4')"
   ]
  },
  {
   "cell_type": "code",
   "execution_count": 4,
   "metadata": {},
   "outputs": [],
   "source": [
    "def Preprocessor(text:str, stemmer: str='Snowball', remove_mbti: bool=False) -> list:\n",
    "\t'''\n",
    "\tInput: str\n",
    "\tOutput: list\n",
    "\t\tPreprocessed tokens\n",
    "\tstemmer: str\n",
    "\t\tCan be 'Snowball' or 'Porter'. Default is Snowball.\n",
    "\tremove_mbti: bool\n",
    "\t\tRemove MBTI keywords like INTJ, ENFP, etc. Default is False.(Keep MBTI keywords.)\n",
    "\t'''\n",
    "\t# Cleaning\n",
    "\ttext = re.sub(r'\\|\\|\\|', ' ', text)  # Split by separator\n",
    "\ttext = re.sub(r'http\\S+', ' ', text)  # Replace hyperlink\n",
    "\ttext = re.sub(r\"[A-Za-z]+\\'+\\w+\", ' ', text)  # Handling apostrophe (e.g. you've, there's)\n",
    "\ttext = re.sub('[^0-9a-zA-Z]',' ', text)  # Keep only numbers and alphabets (remove special characters)\n",
    "\ttext = text.lower()\n",
    "\tif remove_mbti == True:\n",
    "\t\ttext = re.sub('intj|intp|entj|entp|infp|enfj|enfp|istj|isfj|estj|esfj|istp|isfp|estp|esfp|infj', '', text)\n",
    "  \t# Tokenization\n",
    "\ttokens = word_tokenize(text)\n",
    "\tfiltered_tokens = [w for w in tokens if not w in stopwords.words('english')]  # Remove stopwords\n",
    "\t# Stemming\n",
    "\tstemmer_ = SnowballStemmer(\"english\")\n",
    "\tif stemmer == 'Porter|porter':\n",
    "\t\tstemmer_ = PorterStemmer()\n",
    "\tif stemmer not in ['Snowball', 'snowball', 'Porter', 'porter']:\n",
    "\t\traise ValueError(\"Please check passed argument: stemmer must be 'Snowball' or 'Porter'\")\n",
    "\tstemmed = [stemmer_.stem(t) for t in filtered_tokens]\n",
    "\t# Lemmatizing\n",
    "\tlemma = WordNetLemmatizer()\n",
    "\tlemmatized = [lemma.lemmatize(t) for t in stemmed]\n",
    "\treturn lemmatized"
   ]
  },
  {
   "cell_type": "code",
   "execution_count": 5,
   "metadata": {},
   "outputs": [],
   "source": [
    "# raw_data = pd.read_csv('../data/Kaggle_MBTI.csv')\n",
    "# raw_data['prerocessed_posts'] =  raw_data['posts'].apply(Preprocessor)\n",
    "# raw_data"
   ]
  },
  {
   "cell_type": "code",
   "execution_count": 5,
   "metadata": {},
   "outputs": [],
   "source": [
    "raw_data = pd.read_csv('../../../data/no_MBTIpreprocessing.csv')"
   ]
  },
  {
   "cell_type": "code",
   "execution_count": 6,
   "metadata": {},
   "outputs": [
    {
     "data": {
      "text/html": [
       "<div>\n",
       "<style scoped>\n",
       "    .dataframe tbody tr th:only-of-type {\n",
       "        vertical-align: middle;\n",
       "    }\n",
       "\n",
       "    .dataframe tbody tr th {\n",
       "        vertical-align: top;\n",
       "    }\n",
       "\n",
       "    .dataframe thead th {\n",
       "        text-align: right;\n",
       "    }\n",
       "</style>\n",
       "<table border=\"1\" class=\"dataframe\">\n",
       "  <thead>\n",
       "    <tr style=\"text-align: right;\">\n",
       "      <th></th>\n",
       "      <th>10</th>\n",
       "      <th>100</th>\n",
       "      <th>abl</th>\n",
       "      <th>absolut</th>\n",
       "      <th>accept</th>\n",
       "      <th>act</th>\n",
       "      <th>action</th>\n",
       "      <th>activ</th>\n",
       "      <th>actual</th>\n",
       "      <th>add</th>\n",
       "      <th>...</th>\n",
       "      <th>world</th>\n",
       "      <th>worri</th>\n",
       "      <th>wow</th>\n",
       "      <th>write</th>\n",
       "      <th>wrong</th>\n",
       "      <th>xd</th>\n",
       "      <th>yeah</th>\n",
       "      <th>year</th>\n",
       "      <th>yes</th>\n",
       "      <th>MBTI_TYPE</th>\n",
       "    </tr>\n",
       "  </thead>\n",
       "  <tbody>\n",
       "    <tr>\n",
       "      <th>0</th>\n",
       "      <td>0.000000</td>\n",
       "      <td>0.000000</td>\n",
       "      <td>0.000000</td>\n",
       "      <td>0.000000</td>\n",
       "      <td>0.000000</td>\n",
       "      <td>0.0</td>\n",
       "      <td>0.000000</td>\n",
       "      <td>0.0</td>\n",
       "      <td>0.000000</td>\n",
       "      <td>0.0</td>\n",
       "      <td>...</td>\n",
       "      <td>0.109319</td>\n",
       "      <td>0.098292</td>\n",
       "      <td>0.000000</td>\n",
       "      <td>0.000000</td>\n",
       "      <td>0.000000</td>\n",
       "      <td>0.000000</td>\n",
       "      <td>0.000000</td>\n",
       "      <td>0.054478</td>\n",
       "      <td>0.000000</td>\n",
       "      <td>INFJ</td>\n",
       "    </tr>\n",
       "    <tr>\n",
       "      <th>1</th>\n",
       "      <td>0.071446</td>\n",
       "      <td>0.000000</td>\n",
       "      <td>0.060925</td>\n",
       "      <td>0.000000</td>\n",
       "      <td>0.000000</td>\n",
       "      <td>0.0</td>\n",
       "      <td>0.000000</td>\n",
       "      <td>0.0</td>\n",
       "      <td>0.000000</td>\n",
       "      <td>0.0</td>\n",
       "      <td>...</td>\n",
       "      <td>0.000000</td>\n",
       "      <td>0.000000</td>\n",
       "      <td>0.000000</td>\n",
       "      <td>0.000000</td>\n",
       "      <td>0.000000</td>\n",
       "      <td>0.000000</td>\n",
       "      <td>0.000000</td>\n",
       "      <td>0.039898</td>\n",
       "      <td>0.000000</td>\n",
       "      <td>ENTP</td>\n",
       "    </tr>\n",
       "    <tr>\n",
       "      <th>2</th>\n",
       "      <td>0.080407</td>\n",
       "      <td>0.000000</td>\n",
       "      <td>0.068567</td>\n",
       "      <td>0.130172</td>\n",
       "      <td>0.000000</td>\n",
       "      <td>0.0</td>\n",
       "      <td>0.000000</td>\n",
       "      <td>0.0</td>\n",
       "      <td>0.073870</td>\n",
       "      <td>0.0</td>\n",
       "      <td>...</td>\n",
       "      <td>0.053216</td>\n",
       "      <td>0.000000</td>\n",
       "      <td>0.000000</td>\n",
       "      <td>0.064460</td>\n",
       "      <td>0.000000</td>\n",
       "      <td>0.000000</td>\n",
       "      <td>0.000000</td>\n",
       "      <td>0.117169</td>\n",
       "      <td>0.078919</td>\n",
       "      <td>INTP</td>\n",
       "    </tr>\n",
       "    <tr>\n",
       "      <th>3</th>\n",
       "      <td>0.000000</td>\n",
       "      <td>0.000000</td>\n",
       "      <td>0.103279</td>\n",
       "      <td>0.068395</td>\n",
       "      <td>0.072802</td>\n",
       "      <td>0.0</td>\n",
       "      <td>0.134447</td>\n",
       "      <td>0.0</td>\n",
       "      <td>0.081453</td>\n",
       "      <td>0.0</td>\n",
       "      <td>...</td>\n",
       "      <td>0.000000</td>\n",
       "      <td>0.072071</td>\n",
       "      <td>0.149602</td>\n",
       "      <td>0.000000</td>\n",
       "      <td>0.000000</td>\n",
       "      <td>0.000000</td>\n",
       "      <td>0.050103</td>\n",
       "      <td>0.000000</td>\n",
       "      <td>0.000000</td>\n",
       "      <td>INTJ</td>\n",
       "    </tr>\n",
       "    <tr>\n",
       "      <th>4</th>\n",
       "      <td>0.000000</td>\n",
       "      <td>0.000000</td>\n",
       "      <td>0.000000</td>\n",
       "      <td>0.000000</td>\n",
       "      <td>0.000000</td>\n",
       "      <td>0.0</td>\n",
       "      <td>0.000000</td>\n",
       "      <td>0.0</td>\n",
       "      <td>0.044446</td>\n",
       "      <td>0.0</td>\n",
       "      <td>...</td>\n",
       "      <td>0.000000</td>\n",
       "      <td>0.000000</td>\n",
       "      <td>0.000000</td>\n",
       "      <td>0.000000</td>\n",
       "      <td>0.063324</td>\n",
       "      <td>0.103346</td>\n",
       "      <td>0.000000</td>\n",
       "      <td>0.045743</td>\n",
       "      <td>0.080398</td>\n",
       "      <td>ENTJ</td>\n",
       "    </tr>\n",
       "    <tr>\n",
       "      <th>...</th>\n",
       "      <td>...</td>\n",
       "      <td>...</td>\n",
       "      <td>...</td>\n",
       "      <td>...</td>\n",
       "      <td>...</td>\n",
       "      <td>...</td>\n",
       "      <td>...</td>\n",
       "      <td>...</td>\n",
       "      <td>...</td>\n",
       "      <td>...</td>\n",
       "      <td>...</td>\n",
       "      <td>...</td>\n",
       "      <td>...</td>\n",
       "      <td>...</td>\n",
       "      <td>...</td>\n",
       "      <td>...</td>\n",
       "      <td>...</td>\n",
       "      <td>...</td>\n",
       "      <td>...</td>\n",
       "      <td>...</td>\n",
       "      <td>...</td>\n",
       "    </tr>\n",
       "    <tr>\n",
       "      <th>8670</th>\n",
       "      <td>0.000000</td>\n",
       "      <td>0.000000</td>\n",
       "      <td>0.000000</td>\n",
       "      <td>0.000000</td>\n",
       "      <td>0.000000</td>\n",
       "      <td>0.0</td>\n",
       "      <td>0.000000</td>\n",
       "      <td>0.0</td>\n",
       "      <td>0.046196</td>\n",
       "      <td>0.0</td>\n",
       "      <td>...</td>\n",
       "      <td>0.000000</td>\n",
       "      <td>0.000000</td>\n",
       "      <td>0.000000</td>\n",
       "      <td>0.000000</td>\n",
       "      <td>0.000000</td>\n",
       "      <td>0.107415</td>\n",
       "      <td>0.000000</td>\n",
       "      <td>0.000000</td>\n",
       "      <td>0.000000</td>\n",
       "      <td>ISFP</td>\n",
       "    </tr>\n",
       "    <tr>\n",
       "      <th>8671</th>\n",
       "      <td>0.000000</td>\n",
       "      <td>0.000000</td>\n",
       "      <td>0.000000</td>\n",
       "      <td>0.000000</td>\n",
       "      <td>0.000000</td>\n",
       "      <td>0.0</td>\n",
       "      <td>0.000000</td>\n",
       "      <td>0.0</td>\n",
       "      <td>0.034580</td>\n",
       "      <td>0.0</td>\n",
       "      <td>...</td>\n",
       "      <td>0.000000</td>\n",
       "      <td>0.000000</td>\n",
       "      <td>0.063511</td>\n",
       "      <td>0.133316</td>\n",
       "      <td>0.000000</td>\n",
       "      <td>0.000000</td>\n",
       "      <td>0.075580</td>\n",
       "      <td>0.000000</td>\n",
       "      <td>0.000000</td>\n",
       "      <td>ENFP</td>\n",
       "    </tr>\n",
       "    <tr>\n",
       "      <th>8672</th>\n",
       "      <td>0.077298</td>\n",
       "      <td>0.087994</td>\n",
       "      <td>0.000000</td>\n",
       "      <td>0.000000</td>\n",
       "      <td>0.000000</td>\n",
       "      <td>0.0</td>\n",
       "      <td>0.000000</td>\n",
       "      <td>0.0</td>\n",
       "      <td>0.000000</td>\n",
       "      <td>0.0</td>\n",
       "      <td>...</td>\n",
       "      <td>0.000000</td>\n",
       "      <td>0.000000</td>\n",
       "      <td>0.000000</td>\n",
       "      <td>0.061968</td>\n",
       "      <td>0.059756</td>\n",
       "      <td>0.000000</td>\n",
       "      <td>0.000000</td>\n",
       "      <td>0.103007</td>\n",
       "      <td>0.075868</td>\n",
       "      <td>INTP</td>\n",
       "    </tr>\n",
       "    <tr>\n",
       "      <th>8673</th>\n",
       "      <td>0.056094</td>\n",
       "      <td>0.000000</td>\n",
       "      <td>0.080991</td>\n",
       "      <td>0.000000</td>\n",
       "      <td>0.000000</td>\n",
       "      <td>0.0</td>\n",
       "      <td>0.000000</td>\n",
       "      <td>0.0</td>\n",
       "      <td>0.079423</td>\n",
       "      <td>0.0</td>\n",
       "      <td>...</td>\n",
       "      <td>0.000000</td>\n",
       "      <td>0.000000</td>\n",
       "      <td>0.094650</td>\n",
       "      <td>0.044969</td>\n",
       "      <td>0.000000</td>\n",
       "      <td>0.000000</td>\n",
       "      <td>0.082455</td>\n",
       "      <td>0.000000</td>\n",
       "      <td>0.000000</td>\n",
       "      <td>INFP</td>\n",
       "    </tr>\n",
       "    <tr>\n",
       "      <th>8674</th>\n",
       "      <td>0.000000</td>\n",
       "      <td>0.000000</td>\n",
       "      <td>0.057634</td>\n",
       "      <td>0.000000</td>\n",
       "      <td>0.000000</td>\n",
       "      <td>0.0</td>\n",
       "      <td>0.000000</td>\n",
       "      <td>0.0</td>\n",
       "      <td>0.087510</td>\n",
       "      <td>0.0</td>\n",
       "      <td>...</td>\n",
       "      <td>0.116721</td>\n",
       "      <td>0.000000</td>\n",
       "      <td>0.000000</td>\n",
       "      <td>0.000000</td>\n",
       "      <td>0.088463</td>\n",
       "      <td>0.085269</td>\n",
       "      <td>0.000000</td>\n",
       "      <td>0.000000</td>\n",
       "      <td>0.066335</td>\n",
       "      <td>INFP</td>\n",
       "    </tr>\n",
       "  </tbody>\n",
       "</table>\n",
       "<p>8675 rows × 501 columns</p>\n",
       "</div>"
      ],
      "text/plain": [
       "            10       100       abl   absolut    accept  act    action  activ  \\\n",
       "0     0.000000  0.000000  0.000000  0.000000  0.000000  0.0  0.000000    0.0   \n",
       "1     0.071446  0.000000  0.060925  0.000000  0.000000  0.0  0.000000    0.0   \n",
       "2     0.080407  0.000000  0.068567  0.130172  0.000000  0.0  0.000000    0.0   \n",
       "3     0.000000  0.000000  0.103279  0.068395  0.072802  0.0  0.134447    0.0   \n",
       "4     0.000000  0.000000  0.000000  0.000000  0.000000  0.0  0.000000    0.0   \n",
       "...        ...       ...       ...       ...       ...  ...       ...    ...   \n",
       "8670  0.000000  0.000000  0.000000  0.000000  0.000000  0.0  0.000000    0.0   \n",
       "8671  0.000000  0.000000  0.000000  0.000000  0.000000  0.0  0.000000    0.0   \n",
       "8672  0.077298  0.087994  0.000000  0.000000  0.000000  0.0  0.000000    0.0   \n",
       "8673  0.056094  0.000000  0.080991  0.000000  0.000000  0.0  0.000000    0.0   \n",
       "8674  0.000000  0.000000  0.057634  0.000000  0.000000  0.0  0.000000    0.0   \n",
       "\n",
       "        actual  add  ...     world     worri       wow     write     wrong  \\\n",
       "0     0.000000  0.0  ...  0.109319  0.098292  0.000000  0.000000  0.000000   \n",
       "1     0.000000  0.0  ...  0.000000  0.000000  0.000000  0.000000  0.000000   \n",
       "2     0.073870  0.0  ...  0.053216  0.000000  0.000000  0.064460  0.000000   \n",
       "3     0.081453  0.0  ...  0.000000  0.072071  0.149602  0.000000  0.000000   \n",
       "4     0.044446  0.0  ...  0.000000  0.000000  0.000000  0.000000  0.063324   \n",
       "...        ...  ...  ...       ...       ...       ...       ...       ...   \n",
       "8670  0.046196  0.0  ...  0.000000  0.000000  0.000000  0.000000  0.000000   \n",
       "8671  0.034580  0.0  ...  0.000000  0.000000  0.063511  0.133316  0.000000   \n",
       "8672  0.000000  0.0  ...  0.000000  0.000000  0.000000  0.061968  0.059756   \n",
       "8673  0.079423  0.0  ...  0.000000  0.000000  0.094650  0.044969  0.000000   \n",
       "8674  0.087510  0.0  ...  0.116721  0.000000  0.000000  0.000000  0.088463   \n",
       "\n",
       "            xd      yeah      year       yes  MBTI_TYPE  \n",
       "0     0.000000  0.000000  0.054478  0.000000       INFJ  \n",
       "1     0.000000  0.000000  0.039898  0.000000       ENTP  \n",
       "2     0.000000  0.000000  0.117169  0.078919       INTP  \n",
       "3     0.000000  0.050103  0.000000  0.000000       INTJ  \n",
       "4     0.103346  0.000000  0.045743  0.080398       ENTJ  \n",
       "...        ...       ...       ...       ...        ...  \n",
       "8670  0.107415  0.000000  0.000000  0.000000       ISFP  \n",
       "8671  0.000000  0.075580  0.000000  0.000000       ENFP  \n",
       "8672  0.000000  0.000000  0.103007  0.075868       INTP  \n",
       "8673  0.000000  0.082455  0.000000  0.000000       INFP  \n",
       "8674  0.085269  0.000000  0.000000  0.066335       INFP  \n",
       "\n",
       "[8675 rows x 501 columns]"
      ]
     },
     "execution_count": 6,
     "metadata": {},
     "output_type": "execute_result"
    }
   ],
   "source": [
    "#tfidf vector\n",
    "vect = TfidfVectorizer(sublinear_tf=True, max_features=500, analyzer='word', stop_words='english')\n",
    "X = vect.fit_transform(raw_data.pop('prerocessed_posts')).toarray()\n",
    "r = raw_data[['type']].copy()\n",
    "data = pd.DataFrame(X, columns=vect.get_feature_names())\n",
    "\n",
    "data['MBTI_TYPE'] = raw_data[['type']].copy()\n",
    "data\n"
   ]
  },
  {
   "cell_type": "code",
   "execution_count": 7,
   "metadata": {},
   "outputs": [],
   "source": [
    "types_16 = ['ENFJ','ENFP' ,'ENTJ' ,'ENTP' \n",
    "            ,'ESFJ' ,'ESFP' ,'ESTJ' ,'ESTP' \n",
    "            ,'INFJ' ,'INFP' ,'INTJ' ,'INTP' \n",
    "            ,'ISFJ' ,'ISFP' ,'ISTJ' ,'ISTP']  \n",
    "def cnt(x):\n",
    "    return types_16.index(x)\n",
    "    \n",
    "data['MBTI_LABEL'] = data['MBTI_TYPE'].apply(cnt)"
   ]
  },
  {
   "cell_type": "code",
   "execution_count": 8,
   "metadata": {},
   "outputs": [],
   "source": [
    "# train test split\n",
    "X = data.drop(['MBTI_TYPE','MBTI_LABEL'], axis=1)\n",
    "y = data['MBTI_TYPE']\n",
    "X_train, X_test, y_train, y_test = train_test_split(X, y, test_size=0.2, random_state=42, stratify=y)"
   ]
  },
  {
   "cell_type": "code",
   "execution_count": 9,
   "metadata": {},
   "outputs": [],
   "source": [
    "sm = SMOTE(random_state=42)\n",
    "X_res, y_res = sm.fit_resample(X_train, y_train)"
   ]
  },
  {
   "cell_type": "markdown",
   "metadata": {},
   "source": [
    "## Logistic Regression"
   ]
  },
  {
   "cell_type": "code",
   "execution_count": 10,
   "metadata": {},
   "outputs": [
    {
     "data": {
      "text/html": [
       "<style>#sk-container-id-1 {color: black;background-color: white;}#sk-container-id-1 pre{padding: 0;}#sk-container-id-1 div.sk-toggleable {background-color: white;}#sk-container-id-1 label.sk-toggleable__label {cursor: pointer;display: block;width: 100%;margin-bottom: 0;padding: 0.3em;box-sizing: border-box;text-align: center;}#sk-container-id-1 label.sk-toggleable__label-arrow:before {content: \"▸\";float: left;margin-right: 0.25em;color: #696969;}#sk-container-id-1 label.sk-toggleable__label-arrow:hover:before {color: black;}#sk-container-id-1 div.sk-estimator:hover label.sk-toggleable__label-arrow:before {color: black;}#sk-container-id-1 div.sk-toggleable__content {max-height: 0;max-width: 0;overflow: hidden;text-align: left;background-color: #f0f8ff;}#sk-container-id-1 div.sk-toggleable__content pre {margin: 0.2em;color: black;border-radius: 0.25em;background-color: #f0f8ff;}#sk-container-id-1 input.sk-toggleable__control:checked~div.sk-toggleable__content {max-height: 200px;max-width: 100%;overflow: auto;}#sk-container-id-1 input.sk-toggleable__control:checked~label.sk-toggleable__label-arrow:before {content: \"▾\";}#sk-container-id-1 div.sk-estimator input.sk-toggleable__control:checked~label.sk-toggleable__label {background-color: #d4ebff;}#sk-container-id-1 div.sk-label input.sk-toggleable__control:checked~label.sk-toggleable__label {background-color: #d4ebff;}#sk-container-id-1 input.sk-hidden--visually {border: 0;clip: rect(1px 1px 1px 1px);clip: rect(1px, 1px, 1px, 1px);height: 1px;margin: -1px;overflow: hidden;padding: 0;position: absolute;width: 1px;}#sk-container-id-1 div.sk-estimator {font-family: monospace;background-color: #f0f8ff;border: 1px dotted black;border-radius: 0.25em;box-sizing: border-box;margin-bottom: 0.5em;}#sk-container-id-1 div.sk-estimator:hover {background-color: #d4ebff;}#sk-container-id-1 div.sk-parallel-item::after {content: \"\";width: 100%;border-bottom: 1px solid gray;flex-grow: 1;}#sk-container-id-1 div.sk-label:hover label.sk-toggleable__label {background-color: #d4ebff;}#sk-container-id-1 div.sk-serial::before {content: \"\";position: absolute;border-left: 1px solid gray;box-sizing: border-box;top: 0;bottom: 0;left: 50%;z-index: 0;}#sk-container-id-1 div.sk-serial {display: flex;flex-direction: column;align-items: center;background-color: white;padding-right: 0.2em;padding-left: 0.2em;position: relative;}#sk-container-id-1 div.sk-item {position: relative;z-index: 1;}#sk-container-id-1 div.sk-parallel {display: flex;align-items: stretch;justify-content: center;background-color: white;position: relative;}#sk-container-id-1 div.sk-item::before, #sk-container-id-1 div.sk-parallel-item::before {content: \"\";position: absolute;border-left: 1px solid gray;box-sizing: border-box;top: 0;bottom: 0;left: 50%;z-index: -1;}#sk-container-id-1 div.sk-parallel-item {display: flex;flex-direction: column;z-index: 1;position: relative;background-color: white;}#sk-container-id-1 div.sk-parallel-item:first-child::after {align-self: flex-end;width: 50%;}#sk-container-id-1 div.sk-parallel-item:last-child::after {align-self: flex-start;width: 50%;}#sk-container-id-1 div.sk-parallel-item:only-child::after {width: 0;}#sk-container-id-1 div.sk-dashed-wrapped {border: 1px dashed gray;margin: 0 0.4em 0.5em 0.4em;box-sizing: border-box;padding-bottom: 0.4em;background-color: white;}#sk-container-id-1 div.sk-label label {font-family: monospace;font-weight: bold;display: inline-block;line-height: 1.2em;}#sk-container-id-1 div.sk-label-container {text-align: center;}#sk-container-id-1 div.sk-container {/* jupyter's `normalize.less` sets `[hidden] { display: none; }` but bootstrap.min.css set `[hidden] { display: none !important; }` so we also need the `!important` here to be able to override the default hidden behavior on the sphinx rendered scikit-learn.org. See: https://github.com/scikit-learn/scikit-learn/issues/21755 */display: inline-block !important;position: relative;}#sk-container-id-1 div.sk-text-repr-fallback {display: none;}</style><div id=\"sk-container-id-1\" class=\"sk-top-container\"><div class=\"sk-text-repr-fallback\"><pre>LogisticRegression(multi_class=&#x27;multinomial&#x27;)</pre><b>In a Jupyter environment, please rerun this cell to show the HTML representation or trust the notebook. <br />On GitHub, the HTML representation is unable to render, please try loading this page with nbviewer.org.</b></div><div class=\"sk-container\" hidden><div class=\"sk-item\"><div class=\"sk-estimator sk-toggleable\"><input class=\"sk-toggleable__control sk-hidden--visually\" id=\"sk-estimator-id-1\" type=\"checkbox\" checked><label for=\"sk-estimator-id-1\" class=\"sk-toggleable__label sk-toggleable__label-arrow\">LogisticRegression</label><div class=\"sk-toggleable__content\"><pre>LogisticRegression(multi_class=&#x27;multinomial&#x27;)</pre></div></div></div></div></div>"
      ],
      "text/plain": [
       "LogisticRegression(multi_class='multinomial')"
      ]
     },
     "execution_count": 10,
     "metadata": {},
     "output_type": "execute_result"
    }
   ],
   "source": [
    "from sklearn.linear_model import LogisticRegression\n",
    "\n",
    "model = LogisticRegression(multi_class='multinomial', solver='lbfgs')\n",
    "model.fit(X_res, y_res)"
   ]
  },
  {
   "cell_type": "code",
   "execution_count": 11,
   "metadata": {},
   "outputs": [
    {
     "name": "stdout",
     "output_type": "stream",
     "text": [
      "              precision    recall  f1-score   support\n",
      "\n",
      "        ENFJ       0.08      0.21      0.12        38\n",
      "        ENFP       0.30      0.33      0.31       135\n",
      "        ENTJ       0.09      0.17      0.12        46\n",
      "        ENTP       0.29      0.28      0.29       137\n",
      "        ESFJ       0.04      0.11      0.06         9\n",
      "        ESFP       0.00      0.00      0.00        10\n",
      "        ESTJ       0.00      0.00      0.00         8\n",
      "        ESTP       0.00      0.00      0.00        18\n",
      "        INFJ       0.46      0.27      0.34       294\n",
      "        INFP       0.56      0.32      0.41       366\n",
      "        INTJ       0.31      0.27      0.29       218\n",
      "        INTP       0.42      0.34      0.37       261\n",
      "        ISFJ       0.12      0.27      0.17        33\n",
      "        ISFP       0.10      0.20      0.14        54\n",
      "        ISTJ       0.10      0.22      0.13        41\n",
      "        ISTP       0.23      0.39      0.29        67\n",
      "\n",
      "    accuracy                           0.29      1735\n",
      "   macro avg       0.19      0.21      0.19      1735\n",
      "weighted avg       0.37      0.29      0.31      1735\n",
      "\n"
     ]
    }
   ],
   "source": [
    "y_pred = model.predict(X_test)\n",
    "print(classification_report(y_test, y_pred))"
   ]
  },
  {
   "cell_type": "code",
   "execution_count": 12,
   "metadata": {},
   "outputs": [
    {
     "data": {
      "text/plain": [
       "[Text(105.0, 0.5, 'True'), Text(0.5, 87.0, 'Predicted')]"
      ]
     },
     "execution_count": 12,
     "metadata": {},
     "output_type": "execute_result"
    },
    {
     "data": {
      "image/png": "[encoded data removed]",
      "text/plain": [
       "<Figure size 1008x864 with 2 Axes>"
      ]
     },
     "metadata": {
      "needs_background": "light"
     },
     "output_type": "display_data"
    }
   ],
   "source": [
    "# plot cm\n",
    "plt.figure(figsize = (14,12))\n",
    "plt.title('Confusion Matrix (Logistic Regression)')\n",
    "cm = confusion_matrix(y_test, y_pred)\n",
    "plt.xlabel('True')\n",
    "plt.ylabel('Predicted')\n",
    "ax = sns.heatmap(cm, annot= True, fmt='g',cmap=\"OrRd\", xticklabels=types_16, yticklabels= types_16)\n",
    "ax.set(ylabel='True', xlabel='Predicted')"
   ]
  },
  {
   "cell_type": "markdown",
   "metadata": {},
   "source": [
    "## KNN"
   ]
  },
  {
   "cell_type": "code",
   "execution_count": 15,
   "metadata": {},
   "outputs": [
    {
     "name": "stdout",
     "output_type": "stream",
     "text": [
      "              precision    recall  f1-score   support\n",
      "\n",
      "        ENFJ       0.04      0.18      0.07        38\n",
      "        ENFP       0.19      0.07      0.11       135\n",
      "        ENTJ       0.06      0.15      0.09        46\n",
      "        ENTP       0.11      0.04      0.06       137\n",
      "        ESFJ       0.01      0.33      0.02         9\n",
      "        ESFP       0.00      0.00      0.00        10\n",
      "        ESTJ       0.01      0.25      0.02         8\n",
      "        ESTP       0.04      0.28      0.06        18\n",
      "        INFJ       0.50      0.00      0.01       294\n",
      "        INFP       0.00      0.00      0.00       366\n",
      "        INTJ       0.33      0.01      0.03       218\n",
      "        INTP       0.00      0.00      0.00       261\n",
      "        ISFJ       0.08      0.39      0.13        33\n",
      "        ISFP       0.01      0.02      0.01        54\n",
      "        ISTJ       0.05      0.22      0.08        41\n",
      "        ISTP       0.05      0.04      0.05        67\n",
      "\n",
      "    accuracy                           0.04      1735\n",
      "   macro avg       0.09      0.13      0.05      1735\n",
      "weighted avg       0.16      0.04      0.03      1735\n",
      "\n"
     ]
    }
   ],
   "source": [
    "from sklearn.neighbors import KNeighborsClassifier\n",
    "knn = KNeighborsClassifier(n_neighbors=20)\n",
    "knn.fit(X_res, y_res)\n",
    "y_pred = knn.predict(X_test)\n",
    "print(classification_report(y_test, y_pred))"
   ]
  },
  {
   "cell_type": "code",
   "execution_count": 16,
   "metadata": {},
   "outputs": [
    {
     "data": {
      "text/plain": [
       "[Text(105.0, 0.5, 'True'), Text(0.5, 87.0, 'Predicted')]"
      ]
     },
     "execution_count": 16,
     "metadata": {},
     "output_type": "execute_result"
    },
    {
     "data": {
      "image/png": "[encoded data removed]",
      "text/plain": [
       "<Figure size 1008x864 with 2 Axes>"
      ]
     },
     "metadata": {
      "needs_background": "light"
     },
     "output_type": "display_data"
    }
   ],
   "source": [
    "# plot cm\n",
    "plt.figure(figsize = (14,12))\n",
    "plt.title('Confusion Matrix (knn)')\n",
    "cm = confusion_matrix(y_test, y_pred)\n",
    "plt.xlabel('True')\n",
    "plt.ylabel('Predicted')\n",
    "ax = sns.heatmap(cm, annot= True, fmt='g',cmap=\"OrRd\", xticklabels=types_16, yticklabels= types_16)\n",
    "ax.set(ylabel='True', xlabel='Predicted')\n"
   ]
  },
  {
   "cell_type": "markdown",
   "metadata": {},
   "source": [
    "## lgbm"
   ]
  },
  {
   "cell_type": "code",
   "execution_count": 17,
   "metadata": {},
   "outputs": [
    {
     "data": {
      "text/html": [
       "<style>#sk-container-id-2 {color: black;background-color: white;}#sk-container-id-2 pre{padding: 0;}#sk-container-id-2 div.sk-toggleable {background-color: white;}#sk-container-id-2 label.sk-toggleable__label {cursor: pointer;display: block;width: 100%;margin-bottom: 0;padding: 0.3em;box-sizing: border-box;text-align: center;}#sk-container-id-2 label.sk-toggleable__label-arrow:before {content: \"▸\";float: left;margin-right: 0.25em;color: #696969;}#sk-container-id-2 label.sk-toggleable__label-arrow:hover:before {color: black;}#sk-container-id-2 div.sk-estimator:hover label.sk-toggleable__label-arrow:before {color: black;}#sk-container-id-2 div.sk-toggleable__content {max-height: 0;max-width: 0;overflow: hidden;text-align: left;background-color: #f0f8ff;}#sk-container-id-2 div.sk-toggleable__content pre {margin: 0.2em;color: black;border-radius: 0.25em;background-color: #f0f8ff;}#sk-container-id-2 input.sk-toggleable__control:checked~div.sk-toggleable__content {max-height: 200px;max-width: 100%;overflow: auto;}#sk-container-id-2 input.sk-toggleable__control:checked~label.sk-toggleable__label-arrow:before {content: \"▾\";}#sk-container-id-2 div.sk-estimator input.sk-toggleable__control:checked~label.sk-toggleable__label {background-color: #d4ebff;}#sk-container-id-2 div.sk-label input.sk-toggleable__control:checked~label.sk-toggleable__label {background-color: #d4ebff;}#sk-container-id-2 input.sk-hidden--visually {border: 0;clip: rect(1px 1px 1px 1px);clip: rect(1px, 1px, 1px, 1px);height: 1px;margin: -1px;overflow: hidden;padding: 0;position: absolute;width: 1px;}#sk-container-id-2 div.sk-estimator {font-family: monospace;background-color: #f0f8ff;border: 1px dotted black;border-radius: 0.25em;box-sizing: border-box;margin-bottom: 0.5em;}#sk-container-id-2 div.sk-estimator:hover {background-color: #d4ebff;}#sk-container-id-2 div.sk-parallel-item::after {content: \"\";width: 100%;border-bottom: 1px solid gray;flex-grow: 1;}#sk-container-id-2 div.sk-label:hover label.sk-toggleable__label {background-color: #d4ebff;}#sk-container-id-2 div.sk-serial::before {content: \"\";position: absolute;border-left: 1px solid gray;box-sizing: border-box;top: 0;bottom: 0;left: 50%;z-index: 0;}#sk-container-id-2 div.sk-serial {display: flex;flex-direction: column;align-items: center;background-color: white;padding-right: 0.2em;padding-left: 0.2em;position: relative;}#sk-container-id-2 div.sk-item {position: relative;z-index: 1;}#sk-container-id-2 div.sk-parallel {display: flex;align-items: stretch;justify-content: center;background-color: white;position: relative;}#sk-container-id-2 div.sk-item::before, #sk-container-id-2 div.sk-parallel-item::before {content: \"\";position: absolute;border-left: 1px solid gray;box-sizing: border-box;top: 0;bottom: 0;left: 50%;z-index: -1;}#sk-container-id-2 div.sk-parallel-item {display: flex;flex-direction: column;z-index: 1;position: relative;background-color: white;}#sk-container-id-2 div.sk-parallel-item:first-child::after {align-self: flex-end;width: 50%;}#sk-container-id-2 div.sk-parallel-item:last-child::after {align-self: flex-start;width: 50%;}#sk-container-id-2 div.sk-parallel-item:only-child::after {width: 0;}#sk-container-id-2 div.sk-dashed-wrapped {border: 1px dashed gray;margin: 0 0.4em 0.5em 0.4em;box-sizing: border-box;padding-bottom: 0.4em;background-color: white;}#sk-container-id-2 div.sk-label label {font-family: monospace;font-weight: bold;display: inline-block;line-height: 1.2em;}#sk-container-id-2 div.sk-label-container {text-align: center;}#sk-container-id-2 div.sk-container {/* jupyter's `normalize.less` sets `[hidden] { display: none; }` but bootstrap.min.css set `[hidden] { display: none !important; }` so we also need the `!important` here to be able to override the default hidden behavior on the sphinx rendered scikit-learn.org. See: https://github.com/scikit-learn/scikit-learn/issues/21755 */display: inline-block !important;position: relative;}#sk-container-id-2 div.sk-text-repr-fallback {display: none;}</style><div id=\"sk-container-id-2\" class=\"sk-top-container\"><div class=\"sk-text-repr-fallback\"><pre>LGBMClassifier(is_unbalance=True)</pre><b>In a Jupyter environment, please rerun this cell to show the HTML representation or trust the notebook. <br />On GitHub, the HTML representation is unable to render, please try loading this page with nbviewer.org.</b></div><div class=\"sk-container\" hidden><div class=\"sk-item\"><div class=\"sk-estimator sk-toggleable\"><input class=\"sk-toggleable__control sk-hidden--visually\" id=\"sk-estimator-id-2\" type=\"checkbox\" checked><label for=\"sk-estimator-id-2\" class=\"sk-toggleable__label sk-toggleable__label-arrow\">LGBMClassifier</label><div class=\"sk-toggleable__content\"><pre>LGBMClassifier(is_unbalance=True)</pre></div></div></div></div></div>"
      ],
      "text/plain": [
       "LGBMClassifier(is_unbalance=True)"
      ]
     },
     "execution_count": 17,
     "metadata": {},
     "output_type": "execute_result"
    }
   ],
   "source": [
    "import lightgbm as lgb\n",
    "model = lgb.LGBMClassifier(is_unbalance=True)\n",
    "model.fit(X_res, y_res)"
   ]
  },
  {
   "cell_type": "code",
   "execution_count": 18,
   "metadata": {},
   "outputs": [
    {
     "name": "stdout",
     "output_type": "stream",
     "text": [
      "              precision    recall  f1-score   support\n",
      "\n",
      "        ENFJ       0.00      0.00      0.00        38\n",
      "        ENFP       0.32      0.19      0.23       135\n",
      "        ENTJ       0.00      0.00      0.00        46\n",
      "        ENTP       0.35      0.24      0.29       137\n",
      "        ESFJ       0.00      0.00      0.00         9\n",
      "        ESFP       0.00      0.00      0.00        10\n",
      "        ESTJ       0.00      0.00      0.00         8\n",
      "        ESTP       0.00      0.00      0.00        18\n",
      "        INFJ       0.32      0.39      0.35       294\n",
      "        INFP       0.38      0.60      0.46       366\n",
      "        INTJ       0.29      0.32      0.30       218\n",
      "        INTP       0.32      0.44      0.37       261\n",
      "        ISFJ       0.00      0.00      0.00        33\n",
      "        ISFP       0.17      0.02      0.03        54\n",
      "        ISTJ       1.00      0.02      0.05        41\n",
      "        ISTP       0.43      0.15      0.22        67\n",
      "\n",
      "    accuracy                           0.34      1735\n",
      "   macro avg       0.22      0.15      0.14      1735\n",
      "weighted avg       0.32      0.34      0.30      1735\n",
      "\n"
     ]
    }
   ],
   "source": [
    "y_pred = model.predict(X_test)\n",
    "print(classification_report(y_test, y_pred))"
   ]
  },
  {
   "cell_type": "code",
   "execution_count": 19,
   "metadata": {},
   "outputs": [
    {
     "data": {
      "text/plain": [
       "[Text(105.0, 0.5, 'True'), Text(0.5, 87.0, 'Predicted')]"
      ]
     },
     "execution_count": 19,
     "metadata": {},
     "output_type": "execute_result"
    },
    {
     "data": {
      "image/png": "[encoded data removed]",
      "text/plain": [
       "<Figure size 1008x864 with 2 Axes>"
      ]
     },
     "metadata": {
      "needs_background": "light"
     },
     "output_type": "display_data"
    }
   ],
   "source": [
    "# plot cm\n",
    "plt.figure(figsize = (14,12))\n",
    "plt.title('Confusion Matrix (LGBM)')\n",
    "cm = confusion_matrix(y_test, y_pred)\n",
    "plt.xlabel('True')\n",
    "plt.ylabel('Predicted')\n",
    "ax = sns.heatmap(cm, annot= True, fmt='g',cmap=\"OrRd\", xticklabels=types_16, yticklabels= types_16)\n",
    "ax.set(ylabel='True', xlabel='Predicted')"
   ]
  },
  {
   "cell_type": "markdown",
   "metadata": {},
   "source": [
    "## DNN"
   ]
  },
  {
   "cell_type": "code",
   "execution_count": 20,
   "metadata": {},
   "outputs": [
    {
     "data": {
      "text/plain": [
       "{0: 2.8536184210526314,\n",
       " 1: 0.8032407407407407,\n",
       " 2: 2.347132034632035,\n",
       " 3: 0.7915145985401459,\n",
       " 4: 12.90922619047619,\n",
       " 5: 11.295572916666666,\n",
       " 6: 13.90224358974359,\n",
       " 7: 6.091994382022472,\n",
       " 8: 0.36883503401360546,\n",
       " 9: 0.2959538755458515,\n",
       " 10: 0.4969637946837763,\n",
       " 11: 0.41578796012269936,\n",
       " 12: 3.2661897590361444,\n",
       " 13: 2.000691881918819,\n",
       " 14: 2.644817073170732,\n",
       " 15: 1.6088649851632046}"
      ]
     },
     "execution_count": 20,
     "metadata": {},
     "output_type": "execute_result"
    }
   ],
   "source": [
    "temp_data = data['MBTI_TYPE'].value_counts().reset_index().sort_values(by='index')\n",
    "temp_data['class_weight'] =   temp_data['MBTI_TYPE'].sum() / (temp_data.shape[0] * temp_data['MBTI_TYPE'])\n",
    "temp_data = temp_data.reset_index()\n",
    "class_weights = temp_data['class_weight'].to_dict()\n",
    "class_weights"
   ]
  },
  {
   "cell_type": "code",
   "execution_count": 33,
   "metadata": {},
   "outputs": [],
   "source": [
    "res = pd.DataFrame(y_res)"
   ]
  },
  {
   "cell_type": "code",
   "execution_count": 34,
   "metadata": {},
   "outputs": [
    {
     "data": {
      "text/html": [
       "<div>\n",
       "<style scoped>\n",
       "    .dataframe tbody tr th:only-of-type {\n",
       "        vertical-align: middle;\n",
       "    }\n",
       "\n",
       "    .dataframe tbody tr th {\n",
       "        vertical-align: top;\n",
       "    }\n",
       "\n",
       "    .dataframe thead th {\n",
       "        text-align: right;\n",
       "    }\n",
       "</style>\n",
       "<table border=\"1\" class=\"dataframe\">\n",
       "  <thead>\n",
       "    <tr style=\"text-align: right;\">\n",
       "      <th></th>\n",
       "      <th>0</th>\n",
       "      <th>1</th>\n",
       "      <th>2</th>\n",
       "      <th>3</th>\n",
       "      <th>4</th>\n",
       "      <th>5</th>\n",
       "      <th>6</th>\n",
       "      <th>7</th>\n",
       "      <th>8</th>\n",
       "      <th>9</th>\n",
       "      <th>10</th>\n",
       "      <th>11</th>\n",
       "      <th>12</th>\n",
       "      <th>13</th>\n",
       "      <th>14</th>\n",
       "      <th>15</th>\n",
       "    </tr>\n",
       "  </thead>\n",
       "  <tbody>\n",
       "    <tr>\n",
       "      <th>0</th>\n",
       "      <td>0.0</td>\n",
       "      <td>0.0</td>\n",
       "      <td>0.0</td>\n",
       "      <td>0.0</td>\n",
       "      <td>0.0</td>\n",
       "      <td>0.0</td>\n",
       "      <td>0.0</td>\n",
       "      <td>0.0</td>\n",
       "      <td>0.0</td>\n",
       "      <td>1.0</td>\n",
       "      <td>0.0</td>\n",
       "      <td>0.0</td>\n",
       "      <td>0.0</td>\n",
       "      <td>0.0</td>\n",
       "      <td>0.0</td>\n",
       "      <td>0.0</td>\n",
       "    </tr>\n",
       "    <tr>\n",
       "      <th>1</th>\n",
       "      <td>0.0</td>\n",
       "      <td>0.0</td>\n",
       "      <td>0.0</td>\n",
       "      <td>0.0</td>\n",
       "      <td>0.0</td>\n",
       "      <td>0.0</td>\n",
       "      <td>0.0</td>\n",
       "      <td>0.0</td>\n",
       "      <td>0.0</td>\n",
       "      <td>0.0</td>\n",
       "      <td>0.0</td>\n",
       "      <td>0.0</td>\n",
       "      <td>0.0</td>\n",
       "      <td>0.0</td>\n",
       "      <td>0.0</td>\n",
       "      <td>1.0</td>\n",
       "    </tr>\n",
       "    <tr>\n",
       "      <th>2</th>\n",
       "      <td>1.0</td>\n",
       "      <td>0.0</td>\n",
       "      <td>0.0</td>\n",
       "      <td>0.0</td>\n",
       "      <td>0.0</td>\n",
       "      <td>0.0</td>\n",
       "      <td>0.0</td>\n",
       "      <td>0.0</td>\n",
       "      <td>0.0</td>\n",
       "      <td>0.0</td>\n",
       "      <td>0.0</td>\n",
       "      <td>0.0</td>\n",
       "      <td>0.0</td>\n",
       "      <td>0.0</td>\n",
       "      <td>0.0</td>\n",
       "      <td>0.0</td>\n",
       "    </tr>\n",
       "    <tr>\n",
       "      <th>3</th>\n",
       "      <td>0.0</td>\n",
       "      <td>0.0</td>\n",
       "      <td>0.0</td>\n",
       "      <td>0.0</td>\n",
       "      <td>0.0</td>\n",
       "      <td>0.0</td>\n",
       "      <td>0.0</td>\n",
       "      <td>0.0</td>\n",
       "      <td>0.0</td>\n",
       "      <td>1.0</td>\n",
       "      <td>0.0</td>\n",
       "      <td>0.0</td>\n",
       "      <td>0.0</td>\n",
       "      <td>0.0</td>\n",
       "      <td>0.0</td>\n",
       "      <td>0.0</td>\n",
       "    </tr>\n",
       "    <tr>\n",
       "      <th>4</th>\n",
       "      <td>0.0</td>\n",
       "      <td>0.0</td>\n",
       "      <td>0.0</td>\n",
       "      <td>0.0</td>\n",
       "      <td>0.0</td>\n",
       "      <td>0.0</td>\n",
       "      <td>0.0</td>\n",
       "      <td>0.0</td>\n",
       "      <td>0.0</td>\n",
       "      <td>1.0</td>\n",
       "      <td>0.0</td>\n",
       "      <td>0.0</td>\n",
       "      <td>0.0</td>\n",
       "      <td>0.0</td>\n",
       "      <td>0.0</td>\n",
       "      <td>0.0</td>\n",
       "    </tr>\n",
       "    <tr>\n",
       "      <th>...</th>\n",
       "      <td>...</td>\n",
       "      <td>...</td>\n",
       "      <td>...</td>\n",
       "      <td>...</td>\n",
       "      <td>...</td>\n",
       "      <td>...</td>\n",
       "      <td>...</td>\n",
       "      <td>...</td>\n",
       "      <td>...</td>\n",
       "      <td>...</td>\n",
       "      <td>...</td>\n",
       "      <td>...</td>\n",
       "      <td>...</td>\n",
       "      <td>...</td>\n",
       "      <td>...</td>\n",
       "      <td>...</td>\n",
       "    </tr>\n",
       "    <tr>\n",
       "      <th>23451</th>\n",
       "      <td>0.0</td>\n",
       "      <td>0.0</td>\n",
       "      <td>0.0</td>\n",
       "      <td>0.0</td>\n",
       "      <td>0.0</td>\n",
       "      <td>0.0</td>\n",
       "      <td>0.0</td>\n",
       "      <td>0.0</td>\n",
       "      <td>0.0</td>\n",
       "      <td>0.0</td>\n",
       "      <td>0.0</td>\n",
       "      <td>0.0</td>\n",
       "      <td>0.0</td>\n",
       "      <td>0.0</td>\n",
       "      <td>0.0</td>\n",
       "      <td>1.0</td>\n",
       "    </tr>\n",
       "    <tr>\n",
       "      <th>23452</th>\n",
       "      <td>0.0</td>\n",
       "      <td>0.0</td>\n",
       "      <td>0.0</td>\n",
       "      <td>0.0</td>\n",
       "      <td>0.0</td>\n",
       "      <td>0.0</td>\n",
       "      <td>0.0</td>\n",
       "      <td>0.0</td>\n",
       "      <td>0.0</td>\n",
       "      <td>0.0</td>\n",
       "      <td>0.0</td>\n",
       "      <td>0.0</td>\n",
       "      <td>0.0</td>\n",
       "      <td>0.0</td>\n",
       "      <td>0.0</td>\n",
       "      <td>1.0</td>\n",
       "    </tr>\n",
       "    <tr>\n",
       "      <th>23453</th>\n",
       "      <td>0.0</td>\n",
       "      <td>0.0</td>\n",
       "      <td>0.0</td>\n",
       "      <td>0.0</td>\n",
       "      <td>0.0</td>\n",
       "      <td>0.0</td>\n",
       "      <td>0.0</td>\n",
       "      <td>0.0</td>\n",
       "      <td>0.0</td>\n",
       "      <td>0.0</td>\n",
       "      <td>0.0</td>\n",
       "      <td>0.0</td>\n",
       "      <td>0.0</td>\n",
       "      <td>0.0</td>\n",
       "      <td>0.0</td>\n",
       "      <td>1.0</td>\n",
       "    </tr>\n",
       "    <tr>\n",
       "      <th>23454</th>\n",
       "      <td>0.0</td>\n",
       "      <td>0.0</td>\n",
       "      <td>0.0</td>\n",
       "      <td>0.0</td>\n",
       "      <td>0.0</td>\n",
       "      <td>0.0</td>\n",
       "      <td>0.0</td>\n",
       "      <td>0.0</td>\n",
       "      <td>0.0</td>\n",
       "      <td>0.0</td>\n",
       "      <td>0.0</td>\n",
       "      <td>0.0</td>\n",
       "      <td>0.0</td>\n",
       "      <td>0.0</td>\n",
       "      <td>0.0</td>\n",
       "      <td>1.0</td>\n",
       "    </tr>\n",
       "    <tr>\n",
       "      <th>23455</th>\n",
       "      <td>0.0</td>\n",
       "      <td>0.0</td>\n",
       "      <td>0.0</td>\n",
       "      <td>0.0</td>\n",
       "      <td>0.0</td>\n",
       "      <td>0.0</td>\n",
       "      <td>0.0</td>\n",
       "      <td>0.0</td>\n",
       "      <td>0.0</td>\n",
       "      <td>0.0</td>\n",
       "      <td>0.0</td>\n",
       "      <td>0.0</td>\n",
       "      <td>0.0</td>\n",
       "      <td>0.0</td>\n",
       "      <td>0.0</td>\n",
       "      <td>1.0</td>\n",
       "    </tr>\n",
       "  </tbody>\n",
       "</table>\n",
       "<p>23456 rows × 16 columns</p>\n",
       "</div>"
      ],
      "text/plain": [
       "        0    1    2    3    4    5    6    7    8    9    10   11   12   13  \\\n",
       "0      0.0  0.0  0.0  0.0  0.0  0.0  0.0  0.0  0.0  1.0  0.0  0.0  0.0  0.0   \n",
       "1      0.0  0.0  0.0  0.0  0.0  0.0  0.0  0.0  0.0  0.0  0.0  0.0  0.0  0.0   \n",
       "2      1.0  0.0  0.0  0.0  0.0  0.0  0.0  0.0  0.0  0.0  0.0  0.0  0.0  0.0   \n",
       "3      0.0  0.0  0.0  0.0  0.0  0.0  0.0  0.0  0.0  1.0  0.0  0.0  0.0  0.0   \n",
       "4      0.0  0.0  0.0  0.0  0.0  0.0  0.0  0.0  0.0  1.0  0.0  0.0  0.0  0.0   \n",
       "...    ...  ...  ...  ...  ...  ...  ...  ...  ...  ...  ...  ...  ...  ...   \n",
       "23451  0.0  0.0  0.0  0.0  0.0  0.0  0.0  0.0  0.0  0.0  0.0  0.0  0.0  0.0   \n",
       "23452  0.0  0.0  0.0  0.0  0.0  0.0  0.0  0.0  0.0  0.0  0.0  0.0  0.0  0.0   \n",
       "23453  0.0  0.0  0.0  0.0  0.0  0.0  0.0  0.0  0.0  0.0  0.0  0.0  0.0  0.0   \n",
       "23454  0.0  0.0  0.0  0.0  0.0  0.0  0.0  0.0  0.0  0.0  0.0  0.0  0.0  0.0   \n",
       "23455  0.0  0.0  0.0  0.0  0.0  0.0  0.0  0.0  0.0  0.0  0.0  0.0  0.0  0.0   \n",
       "\n",
       "        14   15  \n",
       "0      0.0  0.0  \n",
       "1      0.0  1.0  \n",
       "2      0.0  0.0  \n",
       "3      0.0  0.0  \n",
       "4      0.0  0.0  \n",
       "...    ...  ...  \n",
       "23451  0.0  1.0  \n",
       "23452  0.0  1.0  \n",
       "23453  0.0  1.0  \n",
       "23454  0.0  1.0  \n",
       "23455  0.0  1.0  \n",
       "\n",
       "[23456 rows x 16 columns]"
      ]
     },
     "execution_count": 34,
     "metadata": {},
     "output_type": "execute_result"
    }
   ],
   "source": [
    "# one hot encoding\n",
    "onehotencoder = OneHotEncoder()\n",
    "onehot = onehotencoder.fit_transform(res).toarray()\n",
    "y_train_df = pd.DataFrame(onehot)\n",
    "y_train_df"
   ]
  },
  {
   "cell_type": "code",
   "execution_count": 35,
   "metadata": {},
   "outputs": [
    {
     "data": {
      "text/plain": [
       "array([[0.        , 0.        , 0.        , ..., 0.        , 0.26151021,\n",
       "        0.        ],\n",
       "       [0.25541311, 0.        , 0.31310055, ..., 0.        , 0.19151974,\n",
       "        0.        ],\n",
       "       [0.28744891, 0.        , 0.35237193, ..., 0.        , 0.56244232,\n",
       "        0.27105682],\n",
       "       ...,\n",
       "       [0.27633631, 0.25652861, 0.        , ..., 0.        , 0.49446134,\n",
       "        0.26057793],\n",
       "       [0.20053213, 0.        , 0.41621653, ..., 0.25437521, 0.        ,\n",
       "        0.        ],\n",
       "       [0.        , 0.        , 0.29618297, ..., 0.        , 0.        ,\n",
       "        0.22783431]])"
      ]
     },
     "execution_count": 35,
     "metadata": {},
     "output_type": "execute_result"
    }
   ],
   "source": [
    "scaler = MinMaxScaler()\n",
    "X_std = scaler.fit_transform(data.drop(['MBTI_TYPE','MBTI_LABEL'], axis= 1))\n",
    "X_std"
   ]
  },
  {
   "cell_type": "code",
   "execution_count": 36,
   "metadata": {},
   "outputs": [],
   "source": [
    "# # train test split\n",
    "# X = X_std\n",
    "# y = y_train_df.to_numpy()\n",
    "# X_train, X_test, y_train, y_test = train_test_split(X, y, test_size=0.2, random_state=42, stratify=y)"
   ]
  },
  {
   "cell_type": "code",
   "execution_count": 37,
   "metadata": {},
   "outputs": [],
   "source": [
    "model = Sequential()\n",
    "\n",
    "model.add(Dense(units=128, input_dim=500, activation='relu')) \n",
    "model.add(BatchNormalization())\n",
    "# model.add(Dropout(0.5))\n",
    "model.add(Dense(units=64, activation='relu', kernel_regularizer='l2')) \n",
    "model.add(BatchNormalization())\n",
    "model.add(Dropout(0.2))\n",
    "\n",
    "model.add(Dense(units=64, activation='relu', kernel_regularizer='l2')) \n",
    "model.add(BatchNormalization())\n",
    "model.add(Dropout(0.5))\n",
    "# Add output layer\n",
    "model.add(Dense(units=16, activation='softmax'))\n",
    "\n",
    "\n",
    "model.compile(loss='categorical_crossentropy', optimizer='adam', metrics=['accuracy'])  "
   ]
  },
  {
   "cell_type": "code",
   "execution_count": 38,
   "metadata": {},
   "outputs": [
    {
     "name": "stdout",
     "output_type": "stream",
     "text": [
      "Epoch 1/50\n",
      "660/660 [==============================] - 9s 9ms/step - loss: 3.2661 - accuracy: 0.3647 - val_loss: 4.4560 - val_accuracy: 0.0000e+00\n",
      "Epoch 2/50\n",
      "660/660 [==============================] - 6s 8ms/step - loss: 1.7300 - accuracy: 0.6145 - val_loss: 3.8021 - val_accuracy: 8.5251e-04\n",
      "Epoch 3/50\n",
      "660/660 [==============================] - 6s 8ms/step - loss: 1.2084 - accuracy: 0.6961 - val_loss: 3.2162 - val_accuracy: 0.0818\n",
      "Epoch 4/50\n",
      "660/660 [==============================] - 5s 8ms/step - loss: 0.9812 - accuracy: 0.7378 - val_loss: 2.6755 - val_accuracy: 0.1756\n",
      "Epoch 5/50\n",
      "660/660 [==============================] - 5s 8ms/step - loss: 0.8456 - accuracy: 0.7730 - val_loss: 2.6683 - val_accuracy: 0.2161\n",
      "Epoch 6/50\n",
      "660/660 [==============================] - 5s 8ms/step - loss: 0.7629 - accuracy: 0.7976 - val_loss: 2.3075 - val_accuracy: 0.2609\n",
      "Epoch 7/50\n",
      "660/660 [==============================] - 5s 8ms/step - loss: 0.6844 - accuracy: 0.8183 - val_loss: 2.2068 - val_accuracy: 0.3197\n",
      "Epoch 8/50\n",
      "660/660 [==============================] - 5s 8ms/step - loss: 0.6413 - accuracy: 0.8313 - val_loss: 1.9830 - val_accuracy: 0.3662\n",
      "Epoch 9/50\n",
      "660/660 [==============================] - 6s 8ms/step - loss: 0.5955 - accuracy: 0.8460 - val_loss: 1.7639 - val_accuracy: 0.4386\n",
      "Epoch 10/50\n",
      "660/660 [==============================] - 6s 9ms/step - loss: 0.5437 - accuracy: 0.8610 - val_loss: 1.6235 - val_accuracy: 0.4889\n",
      "Epoch 11/50\n",
      "660/660 [==============================] - 5s 8ms/step - loss: 0.5158 - accuracy: 0.8731 - val_loss: 2.4390 - val_accuracy: 0.2745\n",
      "Epoch 12/50\n",
      "660/660 [==============================] - 5s 8ms/step - loss: 0.4790 - accuracy: 0.8835 - val_loss: 1.3122 - val_accuracy: 0.6044\n",
      "Epoch 13/50\n",
      "660/660 [==============================] - 6s 10ms/step - loss: 0.4732 - accuracy: 0.8863 - val_loss: 1.6788 - val_accuracy: 0.5038\n",
      "Epoch 14/50\n",
      "660/660 [==============================] - 6s 9ms/step - loss: 0.4229 - accuracy: 0.9009 - val_loss: 1.2881 - val_accuracy: 0.6125\n",
      "Epoch 15/50\n",
      "660/660 [==============================] - 6s 9ms/step - loss: 0.4205 - accuracy: 0.9030 - val_loss: 1.5933 - val_accuracy: 0.5230\n",
      "Epoch 16/50\n",
      "660/660 [==============================] - 6s 8ms/step - loss: 0.3727 - accuracy: 0.9167 - val_loss: 1.4400 - val_accuracy: 0.5656\n",
      "Epoch 17/50\n",
      "660/660 [==============================] - 5s 8ms/step - loss: 0.3764 - accuracy: 0.9155 - val_loss: 1.0740 - val_accuracy: 0.7106\n",
      "Epoch 18/50\n",
      "660/660 [==============================] - 5s 8ms/step - loss: 0.3566 - accuracy: 0.9221 - val_loss: 1.0381 - val_accuracy: 0.7084\n",
      "Epoch 19/50\n",
      "660/660 [==============================] - 5s 8ms/step - loss: 0.3301 - accuracy: 0.9304 - val_loss: 0.9908 - val_accuracy: 0.7182\n",
      "Epoch 20/50\n",
      "660/660 [==============================] - 6s 8ms/step - loss: 0.3316 - accuracy: 0.9287 - val_loss: 1.0604 - val_accuracy: 0.7076\n",
      "Epoch 21/50\n",
      "660/660 [==============================] - 6s 9ms/step - loss: 0.3223 - accuracy: 0.9350 - val_loss: 0.9264 - val_accuracy: 0.7442\n",
      "Epoch 22/50\n",
      "660/660 [==============================] - 5s 8ms/step - loss: 0.3059 - accuracy: 0.9397 - val_loss: 1.1542 - val_accuracy: 0.6577\n",
      "Epoch 23/50\n",
      "660/660 [==============================] - 6s 9ms/step - loss: 0.2844 - accuracy: 0.9459 - val_loss: 1.0308 - val_accuracy: 0.6850\n",
      "Epoch 24/50\n",
      "660/660 [==============================] - 6s 9ms/step - loss: 0.2813 - accuracy: 0.9444 - val_loss: 1.1381 - val_accuracy: 0.6552\n",
      "Epoch 25/50\n",
      "660/660 [==============================] - 6s 9ms/step - loss: 0.2965 - accuracy: 0.9441 - val_loss: 0.8495 - val_accuracy: 0.7617\n",
      "Epoch 26/50\n",
      "660/660 [==============================] - 6s 9ms/step - loss: 0.2703 - accuracy: 0.9494 - val_loss: 0.6277 - val_accuracy: 0.8269\n",
      "Epoch 27/50\n",
      "660/660 [==============================] - 6s 8ms/step - loss: 0.2667 - accuracy: 0.9516 - val_loss: 0.8442 - val_accuracy: 0.7592\n",
      "Epoch 28/50\n",
      "660/660 [==============================] - 6s 9ms/step - loss: 0.2692 - accuracy: 0.9520 - val_loss: 0.7799 - val_accuracy: 0.7920\n",
      "Epoch 29/50\n",
      "660/660 [==============================] - 6s 9ms/step - loss: 0.2457 - accuracy: 0.9579 - val_loss: 0.9029 - val_accuracy: 0.7634\n",
      "Epoch 30/50\n",
      "660/660 [==============================] - 6s 9ms/step - loss: 0.2386 - accuracy: 0.9590 - val_loss: 0.9604 - val_accuracy: 0.7229\n",
      "Epoch 31/50\n",
      "660/660 [==============================] - 5s 8ms/step - loss: 0.2522 - accuracy: 0.9550 - val_loss: 0.7838 - val_accuracy: 0.7864\n",
      "Epoch 32/50\n",
      "660/660 [==============================] - 5s 8ms/step - loss: 0.2338 - accuracy: 0.9613 - val_loss: 1.1389 - val_accuracy: 0.7170\n",
      "Epoch 33/50\n",
      "660/660 [==============================] - 6s 8ms/step - loss: 0.2364 - accuracy: 0.9605 - val_loss: 0.7978 - val_accuracy: 0.8052\n",
      "Epoch 34/50\n",
      "660/660 [==============================] - 6s 9ms/step - loss: 0.2292 - accuracy: 0.9630 - val_loss: 0.8760 - val_accuracy: 0.8048\n",
      "Epoch 35/50\n",
      "660/660 [==============================] - 5s 8ms/step - loss: 0.2289 - accuracy: 0.9622 - val_loss: 0.8680 - val_accuracy: 0.7771\n",
      "Epoch 36/50\n",
      "660/660 [==============================] - 6s 8ms/step - loss: 0.2358 - accuracy: 0.9613 - val_loss: 0.8061 - val_accuracy: 0.7762\n",
      "Epoch 37/50\n",
      "660/660 [==============================] - 6s 9ms/step - loss: 0.2204 - accuracy: 0.9660 - val_loss: 0.7805 - val_accuracy: 0.7873\n",
      "Epoch 38/50\n",
      "660/660 [==============================] - 6s 8ms/step - loss: 0.2275 - accuracy: 0.9640 - val_loss: 0.5765 - val_accuracy: 0.8606\n",
      "Epoch 39/50\n",
      "660/660 [==============================] - 6s 9ms/step - loss: 0.2087 - accuracy: 0.9686 - val_loss: 0.8895 - val_accuracy: 0.7673\n",
      "Epoch 40/50\n",
      "660/660 [==============================] - 6s 9ms/step - loss: 0.2123 - accuracy: 0.9668 - val_loss: 0.4561 - val_accuracy: 0.8879\n",
      "Epoch 41/50\n",
      "660/660 [==============================] - 6s 8ms/step - loss: 0.2247 - accuracy: 0.9653 - val_loss: 0.7295 - val_accuracy: 0.8188\n",
      "Epoch 42/50\n",
      "660/660 [==============================] - 6s 8ms/step - loss: 0.1999 - accuracy: 0.9713 - val_loss: 0.5830 - val_accuracy: 0.8512\n",
      "Epoch 43/50\n",
      "660/660 [==============================] - 5s 8ms/step - loss: 0.2165 - accuracy: 0.9658 - val_loss: 0.6514 - val_accuracy: 0.8397\n",
      "Epoch 44/50\n",
      "660/660 [==============================] - 6s 9ms/step - loss: 0.2035 - accuracy: 0.9700 - val_loss: 0.7111 - val_accuracy: 0.8137\n",
      "Epoch 45/50\n",
      "660/660 [==============================] - 5s 8ms/step - loss: 0.2044 - accuracy: 0.9688 - val_loss: 0.6896 - val_accuracy: 0.8286\n",
      "Epoch 46/50\n",
      "660/660 [==============================] - 6s 9ms/step - loss: 0.2036 - accuracy: 0.9692 - val_loss: 0.7480 - val_accuracy: 0.8056\n",
      "Epoch 47/50\n",
      "660/660 [==============================] - 6s 9ms/step - loss: 0.1924 - accuracy: 0.9730 - val_loss: 1.1189 - val_accuracy: 0.7046\n",
      "Epoch 48/50\n",
      "660/660 [==============================] - 6s 9ms/step - loss: 0.2117 - accuracy: 0.9674 - val_loss: 0.5285 - val_accuracy: 0.8738\n",
      "Epoch 49/50\n",
      "660/660 [==============================] - 6s 9ms/step - loss: 0.1951 - accuracy: 0.9732 - val_loss: 0.4308 - val_accuracy: 0.8956\n",
      "Epoch 50/50\n",
      "660/660 [==============================] - 6s 8ms/step - loss: 0.2074 - accuracy: 0.9692 - val_loss: 0.4193 - val_accuracy: 0.9007\n"
     ]
    },
    {
     "data": {
      "text/plain": [
       "<keras.callbacks.History at 0x1dda5b09d30>"
      ]
     },
     "execution_count": 38,
     "metadata": {},
     "output_type": "execute_result"
    }
   ],
   "source": [
    "model.fit(X_res, y_train_df, validation_split=0.1, epochs=50, batch_size=32)"
   ]
  },
  {
   "cell_type": "code",
   "execution_count": null,
   "metadata": {},
   "outputs": [],
   "source": []
  },
  {
   "cell_type": "code",
   "execution_count": 41,
   "metadata": {},
   "outputs": [],
   "source": [
    "y_pred = model.predict(X_test)\n",
    "y_pred_list = []\n",
    "total_ypred_list = []\n",
    "for ele in y_pred:\n",
    "    empty_list = np.zeros(16)\n",
    "    temp_list = list(ele)\n",
    "    idx_ = temp_list.index(ele.max())\n",
    "    empty_list[idx_] = 1\n",
    "    total_ypred_list.append(list(empty_list))"
   ]
  },
  {
   "cell_type": "code",
   "execution_count": 43,
   "metadata": {},
   "outputs": [
    {
     "data": {
      "text/plain": [
       "7814    INFP\n",
       "2233    ENFJ\n",
       "7261    INFJ\n",
       "7794    INFJ\n",
       "2950    INTJ\n",
       "        ... \n",
       "2006    INTJ\n",
       "7137    ISTJ\n",
       "6091    ENTP\n",
       "2997    INFJ\n",
       "5458    ENTJ\n",
       "Name: MBTI_TYPE, Length: 1735, dtype: object"
      ]
     },
     "execution_count": 43,
     "metadata": {},
     "output_type": "execute_result"
    }
   ],
   "source": [
    "y_test"
   ]
  },
  {
   "cell_type": "code",
   "execution_count": 49,
   "metadata": {},
   "outputs": [],
   "source": [
    "y_pred_str = []\n",
    "for sele in total_ypred_list:\n",
    "    MBTI_idx = sele.index(1)\n",
    "    y_pred_str.append(types_16[MBTI_idx])"
   ]
  },
  {
   "cell_type": "code",
   "execution_count": 50,
   "metadata": {},
   "outputs": [
    {
     "name": "stdout",
     "output_type": "stream",
     "text": [
      "              precision    recall  f1-score   support\n",
      "\n",
      "        ENFJ       0.00      0.00      0.00        38\n",
      "        ENFP       0.24      0.19      0.21       135\n",
      "        ENTJ       0.09      0.09      0.09        46\n",
      "        ENTP       0.22      0.26      0.24       137\n",
      "        ESFJ       0.00      0.00      0.00         9\n",
      "        ESFP       0.00      0.00      0.00        10\n",
      "        ESTJ       0.00      0.00      0.00         8\n",
      "        ESTP       0.00      0.00      0.00        18\n",
      "        INFJ       0.27      0.34      0.30       294\n",
      "        INFP       0.45      0.26      0.33       366\n",
      "        INTJ       0.21      0.29      0.25       218\n",
      "        INTP       0.30      0.38      0.33       261\n",
      "        ISFJ       0.00      0.00      0.00        33\n",
      "        ISFP       0.14      0.07      0.10        54\n",
      "        ISTJ       0.08      0.07      0.08        41\n",
      "        ISTP       0.16      0.21      0.18        67\n",
      "\n",
      "    accuracy                           0.25      1735\n",
      "   macro avg       0.14      0.13      0.13      1735\n",
      "weighted avg       0.26      0.25      0.25      1735\n",
      "\n"
     ]
    }
   ],
   "source": [
    "\n",
    "\n",
    "print(classification_report(y_test, y_pred_str))"
   ]
  },
  {
   "cell_type": "code",
   "execution_count": 55,
   "metadata": {},
   "outputs": [
    {
     "data": {
      "text/plain": [
       "array([11, 15,  9, ..., 11, 10,  8], dtype=int64)"
      ]
     },
     "execution_count": 55,
     "metadata": {},
     "output_type": "execute_result"
    }
   ],
   "source": [
    "y_pred.argmax(axis=1)"
   ]
  },
  {
   "cell_type": "code",
   "execution_count": 54,
   "metadata": {},
   "outputs": [
    {
     "data": {
      "text/plain": [
       "array([[0., 0., 0., ..., 0., 0., 0.],\n",
       "       [0., 0., 0., ..., 0., 0., 1.],\n",
       "       [0., 0., 0., ..., 0., 0., 0.],\n",
       "       ...,\n",
       "       [0., 0., 0., ..., 0., 0., 0.],\n",
       "       [0., 0., 0., ..., 0., 0., 0.],\n",
       "       [0., 0., 0., ..., 0., 0., 0.]])"
      ]
     },
     "execution_count": 54,
     "metadata": {},
     "output_type": "execute_result"
    }
   ],
   "source": [
    "np.array(total_ypred_list)"
   ]
  },
  {
   "cell_type": "markdown",
   "metadata": {},
   "source": [
    "## 1D CNN"
   ]
  },
  {
   "cell_type": "code",
   "execution_count": null,
   "metadata": {},
   "outputs": [],
   "source": []
  },
  {
   "cell_type": "code",
   "execution_count": 51,
   "metadata": {},
   "outputs": [],
   "source": [
    "from keras.layers.convolutional import Conv1D\n",
    "from keras.layers.convolutional import MaxPooling1D\n",
    "\n",
    "model = Sequential()\n",
    "model.add(Conv1D(filters=128, kernel_size=3, activation='relu', input_shape=(500,1)))\n",
    "model.add(BatchNormalization())\n",
    "model.add(Conv1D(filters=128, kernel_size=3, activation='relu'))\n",
    "model.add(BatchNormalization())\n",
    "\n",
    "model.add(Dropout(0.5))\n",
    "model.add(MaxPooling1D(pool_size=2))\n",
    "\n",
    "model.add(Conv1D(filters=64, kernel_size=3, activation='relu'))\n",
    "model.add(BatchNormalization())\n",
    "model.add(Conv1D(filters=64, kernel_size=3, activation='relu'))\n",
    "model.add(BatchNormalization())\n",
    "\n",
    "model.add(Dropout(0.5))\n",
    "model.add(MaxPooling1D(pool_size=2))\n",
    "\n",
    "model.add(Flatten())\n",
    "model.add(Dense(128, activation='relu'))\n",
    "model.add(BatchNormalization())\n",
    "model.add(Dropout(0.25))\n",
    "model.add(Dense(64, activation='relu'))\n",
    "model.add(BatchNormalization())\n",
    "\n",
    "model.add(BatchNormalization())\n",
    "model.add(Dense(16, activation='softmax'))\n",
    "model.compile(loss='categorical_crossentropy', optimizer='adam', metrics=['accuracy'])\n"
   ]
  },
  {
   "cell_type": "code",
   "execution_count": 52,
   "metadata": {},
   "outputs": [
    {
     "name": "stdout",
     "output_type": "stream",
     "text": [
      "Epoch 1/50\n",
      "196/196 [==============================] - 11s 30ms/step - loss: 2.7666 - accuracy: 0.1763 - val_loss: 5.5717 - val_accuracy: 0.1297\n",
      "Epoch 2/50\n",
      "196/196 [==============================] - 6s 29ms/step - loss: 2.1931 - accuracy: 0.2939 - val_loss: 3.4364 - val_accuracy: 0.0605\n",
      "Epoch 3/50\n",
      "196/196 [==============================] - 6s 29ms/step - loss: 2.0009 - accuracy: 0.3375 - val_loss: 2.6189 - val_accuracy: 0.2017\n",
      "Epoch 4/50\n",
      "196/196 [==============================] - 5s 28ms/step - loss: 1.8855 - accuracy: 0.3729 - val_loss: 2.1731 - val_accuracy: 0.2752\n",
      "Epoch 5/50\n",
      "196/196 [==============================] - 6s 29ms/step - loss: 1.7924 - accuracy: 0.3991 - val_loss: 2.1209 - val_accuracy: 0.2954\n",
      "Epoch 6/50\n",
      "196/196 [==============================] - 5s 27ms/step - loss: 1.6946 - accuracy: 0.4347 - val_loss: 2.2660 - val_accuracy: 0.3357\n",
      "Epoch 7/50\n",
      "196/196 [==============================] - 6s 28ms/step - loss: 1.6239 - accuracy: 0.4541 - val_loss: 2.1187 - val_accuracy: 0.3170\n",
      "Epoch 8/50\n",
      "196/196 [==============================] - 6s 28ms/step - loss: 1.5605 - accuracy: 0.4798 - val_loss: 2.1552 - val_accuracy: 0.2997\n",
      "Epoch 9/50\n",
      "196/196 [==============================] - 6s 29ms/step - loss: 1.4889 - accuracy: 0.4896 - val_loss: 2.2038 - val_accuracy: 0.3242\n",
      "Epoch 10/50\n",
      "196/196 [==============================] - 6s 28ms/step - loss: 1.4054 - accuracy: 0.5218 - val_loss: 2.2313 - val_accuracy: 0.2983\n",
      "Epoch 11/50\n",
      "196/196 [==============================] - 5s 28ms/step - loss: 1.3684 - accuracy: 0.5362 - val_loss: 2.2453 - val_accuracy: 0.3069\n",
      "Epoch 12/50\n",
      "196/196 [==============================] - 5s 28ms/step - loss: 1.2731 - accuracy: 0.5714 - val_loss: 2.3678 - val_accuracy: 0.3228\n",
      "Epoch 13/50\n",
      "196/196 [==============================] - 5s 28ms/step - loss: 1.2381 - accuracy: 0.5732 - val_loss: 2.4034 - val_accuracy: 0.2997\n",
      "Epoch 14/50\n",
      "196/196 [==============================] - 6s 28ms/step - loss: 1.1583 - accuracy: 0.5980 - val_loss: 2.4878 - val_accuracy: 0.2925\n",
      "Epoch 15/50\n",
      "196/196 [==============================] - 5s 28ms/step - loss: 1.1081 - accuracy: 0.6122 - val_loss: 2.5218 - val_accuracy: 0.2911\n",
      "Epoch 16/50\n",
      "196/196 [==============================] - 6s 28ms/step - loss: 1.0735 - accuracy: 0.6290 - val_loss: 2.5667 - val_accuracy: 0.2695\n",
      "Epoch 17/50\n",
      "196/196 [==============================] - 6s 28ms/step - loss: 1.0189 - accuracy: 0.6475 - val_loss: 2.5938 - val_accuracy: 0.2738\n",
      "Epoch 17: early stopping\n"
     ]
    },
    {
     "data": {
      "text/plain": [
       "<keras.callbacks.History at 0x1de2c5cdb50>"
      ]
     },
     "execution_count": 52,
     "metadata": {},
     "output_type": "execute_result"
    }
   ],
   "source": [
    "from keras.callbacks import EarlyStopping\n",
    "es = EarlyStopping(monitor='val_loss', mode='min', verbose=1, patience=10)\n",
    "model.fit(X_train, y_train_df, validation_split=0.1, epochs=50, batch_size=32, callbacks=es)"
   ]
  },
  {
   "cell_type": "code",
   "execution_count": 54,
   "metadata": {},
   "outputs": [],
   "source": [
    "y_pred = model.predict(X_test)\n",
    "y_pred_list = []\n",
    "total_ypred_list = []\n",
    "for ele in y_pred:\n",
    "    empty_list = np.zeros(16)\n",
    "    temp_list = list(ele)\n",
    "    idx_ = temp_list.index(ele.max())\n",
    "    empty_list[idx_] = 1\n",
    "    total_ypred_list.append(list(empty_list))"
   ]
  },
  {
   "cell_type": "code",
   "execution_count": 55,
   "metadata": {},
   "outputs": [],
   "source": [
    "y_pred_str = []\n",
    "for sele in total_ypred_list:\n",
    "    MBTI_idx = sele.index(1)\n",
    "    y_pred_str.append(types_16[MBTI_idx])"
   ]
  },
  {
   "cell_type": "code",
   "execution_count": 56,
   "metadata": {},
   "outputs": [
    {
     "name": "stdout",
     "output_type": "stream",
     "text": [
      "              precision    recall  f1-score   support\n",
      "\n",
      "        ENFJ       0.04      0.03      0.03        38\n",
      "        ENFP       0.25      0.39      0.30       135\n",
      "        ENTJ       0.08      0.04      0.06        46\n",
      "        ENTP       0.26      0.23      0.24       137\n",
      "        ESFJ       0.00      0.00      0.00         9\n",
      "        ESFP       0.00      0.00      0.00        10\n",
      "        ESTJ       0.00      0.00      0.00         8\n",
      "        ESTP       0.00      0.00      0.00        18\n",
      "        INFJ       0.27      0.40      0.32       294\n",
      "        INFP       0.39      0.40      0.40       366\n",
      "        INTJ       0.30      0.21      0.25       218\n",
      "        INTP       0.41      0.37      0.39       261\n",
      "        ISFJ       0.15      0.06      0.09        33\n",
      "        ISFP       0.07      0.06      0.06        54\n",
      "        ISTJ       0.04      0.02      0.03        41\n",
      "        ISTP       0.17      0.13      0.15        67\n",
      "\n",
      "    accuracy                           0.29      1735\n",
      "   macro avg       0.15      0.15      0.14      1735\n",
      "weighted avg       0.28      0.29      0.28      1735\n",
      "\n"
     ]
    }
   ],
   "source": [
    "print(classification_report(y_test, y_pred_str))"
   ]
  },
  {
   "cell_type": "code",
   "execution_count": null,
   "metadata": {},
   "outputs": [],
   "source": []
  }
 ],
 "metadata": {
  "kernelspec": {
   "display_name": "Python 3.9.7 ('tf-gpu')",
   "language": "python",
   "name": "python3"
  },
  "language_info": {
   "codemirror_mode": {
    "name": "ipython",
    "version": 3
   },
   "file_extension": ".py",
   "mimetype": "text/x-python",
   "name": "python",
   "nbconvert_exporter": "python",
   "pygments_lexer": "ipython3",
   "version": "3.9.7"
  },
  "orig_nbformat": 4,
  "vscode": {
   "interpreter": {
    "hash": "619ca890e37fc0b5a7bf3970831144904e1971bb38cea205f0f5242315187158"
   }
  }
 },
 "nbformat": 4,
 "nbformat_minor": 2
}
