{
 "cells": [
  {
   "cell_type": "code",
   "execution_count": 15,
   "metadata": {},
   "outputs": [],
   "source": [
    "# import package\n",
    "import re\n",
    "import nltk\n",
    "from nltk.corpus import stopwords\n",
    "from nltk.tokenize import word_tokenize\n",
    "from nltk.stem import PorterStemmer, SnowballStemmer, WordNetLemmatizer\n",
    "import pandas as pd\n",
    "from sklearn.feature_extraction.text import TfidfVectorizer\n",
    "from sklearn.model_selection import train_test_split\n",
    "from sklearn.metrics import classification_report\n",
    "from sklearn.metrics import confusion_matrix\n",
    "import seaborn as sns\n",
    "import matplotlib.pyplot as plt\n",
    "from sklearn.metrics import f1_score, accuracy_score\n",
    "from tqdm import tqdm\n",
    "from sklearn.preprocessing import OneHotEncoder\n",
    "from sklearn.preprocessing import StandardScaler,MinMaxScaler\n",
    "import numpy as np  \n",
    "from keras.models import Sequential\n",
    "from keras.datasets import mnist\n",
    "from keras.layers import Dense, Dropout, Activation, Flatten, BatchNormalization\n",
    "# from keras.utils import np_utils  # 用來後續將 label 標籤轉為 one-hot-encoding  \n",
    "\n",
    "\n",
    "import warnings\n",
    "warnings.filterwarnings(\"ignore\")"
   ]
  },
  {
   "cell_type": "code",
   "execution_count": 2,
   "metadata": {},
   "outputs": [],
   "source": [
    "# # from nltk.tokenize import word_tokenize\n",
    "# nltk.download('punkt')\n",
    "# # from nltk.stem import WordNetLemmatizer\n",
    "# nltk.download('wordnet')\n",
    "# nltk.download('omw-1.4')"
   ]
  },
  {
   "cell_type": "code",
   "execution_count": 3,
   "metadata": {},
   "outputs": [],
   "source": [
    "def Preprocessor(text:str, stemmer: str='Snowball', remove_mbti: bool=False) -> list:\n",
    "\t'''\n",
    "\tInput: str\n",
    "\tOutput: list\n",
    "\t\tPreprocessed tokens\n",
    "\tstemmer: str\n",
    "\t\tCan be 'Snowball' or 'Porter'. Default is Snowball.\n",
    "\tremove_mbti: bool\n",
    "\t\tRemove MBTI keywords like INTJ, ENFP, etc. Default is False.(Keep MBTI keywords.)\n",
    "\t'''\n",
    "\t# Cleaning\n",
    "\ttext = re.sub(r'\\|\\|\\|', ' ', text)  # Split by separator\n",
    "\ttext = re.sub(r'http\\S+', ' ', text)  # Replace hyperlink\n",
    "\ttext = re.sub(r\"[A-Za-z]+\\'+\\w+\", ' ', text)  # Handling apostrophe (e.g. you've, there's)\n",
    "\ttext = re.sub('[^0-9a-zA-Z]',' ', text)  # Keep only numbers and alphabets (remove special characters)\n",
    "\ttext = text.lower()\n",
    "\tif remove_mbti == True:\n",
    "\t\ttext = re.sub('intj|intp|entj|entp|infp|enfj|enfp|istj|isfj|estj|esfj|istp|isfp|estp|esfp|infj', '', text)\n",
    "  \t# Tokenization\n",
    "\ttokens = word_tokenize(text)\n",
    "\tfiltered_tokens = [w for w in tokens if not w in stopwords.words('english')]  # Remove stopwords\n",
    "\t# Stemming\n",
    "\tstemmer_ = SnowballStemmer(\"english\")\n",
    "\tif stemmer == 'Porter|porter':\n",
    "\t\tstemmer_ = PorterStemmer()\n",
    "\tif stemmer not in ['Snowball', 'snowball', 'Porter', 'porter']:\n",
    "\t\traise ValueError(\"Please check passed argument: stemmer must be 'Snowball' or 'Porter'\")\n",
    "\tstemmed = [stemmer_.stem(t) for t in filtered_tokens]\n",
    "\t# Lemmatizing\n",
    "\tlemma = WordNetLemmatizer()\n",
    "\tlemmatized = [lemma.lemmatize(t) for t in stemmed]\n",
    "\treturn lemmatized"
   ]
  },
  {
   "cell_type": "code",
   "execution_count": 4,
   "metadata": {},
   "outputs": [],
   "source": [
    "# raw_data = pd.read_csv('../data/Kaggle_MBTI.csv')\n",
    "# raw_data['prerocessed_posts'] =  raw_data['posts'].apply(Preprocessor)\n",
    "# raw_data"
   ]
  },
  {
   "cell_type": "code",
   "execution_count": 5,
   "metadata": {},
   "outputs": [],
   "source": [
    "raw_data = pd.read_csv('../data/self_design_preprocessing.csv')"
   ]
  },
  {
   "cell_type": "code",
   "execution_count": 6,
   "metadata": {},
   "outputs": [
    {
     "data": {
      "text/html": [
       "<div>\n",
       "<style scoped>\n",
       "    .dataframe tbody tr th:only-of-type {\n",
       "        vertical-align: middle;\n",
       "    }\n",
       "\n",
       "    .dataframe tbody tr th {\n",
       "        vertical-align: top;\n",
       "    }\n",
       "\n",
       "    .dataframe thead th {\n",
       "        text-align: right;\n",
       "    }\n",
       "</style>\n",
       "<table border=\"1\" class=\"dataframe\">\n",
       "  <thead>\n",
       "    <tr style=\"text-align: right;\">\n",
       "      <th></th>\n",
       "      <th>10</th>\n",
       "      <th>100</th>\n",
       "      <th>abl</th>\n",
       "      <th>absolut</th>\n",
       "      <th>accept</th>\n",
       "      <th>act</th>\n",
       "      <th>action</th>\n",
       "      <th>activ</th>\n",
       "      <th>actual</th>\n",
       "      <th>add</th>\n",
       "      <th>...</th>\n",
       "      <th>world</th>\n",
       "      <th>worri</th>\n",
       "      <th>wow</th>\n",
       "      <th>write</th>\n",
       "      <th>wrong</th>\n",
       "      <th>xd</th>\n",
       "      <th>yeah</th>\n",
       "      <th>year</th>\n",
       "      <th>yes</th>\n",
       "      <th>MBTI_TYPE</th>\n",
       "    </tr>\n",
       "  </thead>\n",
       "  <tbody>\n",
       "    <tr>\n",
       "      <th>0</th>\n",
       "      <td>0.000000</td>\n",
       "      <td>0.000000</td>\n",
       "      <td>0.000000</td>\n",
       "      <td>0.000000</td>\n",
       "      <td>0.000000</td>\n",
       "      <td>0.0</td>\n",
       "      <td>0.000000</td>\n",
       "      <td>0.0</td>\n",
       "      <td>0.000000</td>\n",
       "      <td>0.0</td>\n",
       "      <td>...</td>\n",
       "      <td>0.107204</td>\n",
       "      <td>0.096390</td>\n",
       "      <td>0.000000</td>\n",
       "      <td>0.000000</td>\n",
       "      <td>0.000000</td>\n",
       "      <td>0.000000</td>\n",
       "      <td>0.000000</td>\n",
       "      <td>0.053424</td>\n",
       "      <td>0.000000</td>\n",
       "      <td>INFJ</td>\n",
       "    </tr>\n",
       "    <tr>\n",
       "      <th>1</th>\n",
       "      <td>0.068913</td>\n",
       "      <td>0.000000</td>\n",
       "      <td>0.058766</td>\n",
       "      <td>0.000000</td>\n",
       "      <td>0.000000</td>\n",
       "      <td>0.0</td>\n",
       "      <td>0.000000</td>\n",
       "      <td>0.0</td>\n",
       "      <td>0.000000</td>\n",
       "      <td>0.0</td>\n",
       "      <td>...</td>\n",
       "      <td>0.000000</td>\n",
       "      <td>0.000000</td>\n",
       "      <td>0.000000</td>\n",
       "      <td>0.000000</td>\n",
       "      <td>0.000000</td>\n",
       "      <td>0.000000</td>\n",
       "      <td>0.000000</td>\n",
       "      <td>0.038483</td>\n",
       "      <td>0.000000</td>\n",
       "      <td>ENTP</td>\n",
       "    </tr>\n",
       "    <tr>\n",
       "      <th>2</th>\n",
       "      <td>0.080984</td>\n",
       "      <td>0.000000</td>\n",
       "      <td>0.069059</td>\n",
       "      <td>0.131107</td>\n",
       "      <td>0.000000</td>\n",
       "      <td>0.0</td>\n",
       "      <td>0.000000</td>\n",
       "      <td>0.0</td>\n",
       "      <td>0.074400</td>\n",
       "      <td>0.0</td>\n",
       "      <td>...</td>\n",
       "      <td>0.053598</td>\n",
       "      <td>0.000000</td>\n",
       "      <td>0.000000</td>\n",
       "      <td>0.064923</td>\n",
       "      <td>0.000000</td>\n",
       "      <td>0.000000</td>\n",
       "      <td>0.000000</td>\n",
       "      <td>0.118010</td>\n",
       "      <td>0.079486</td>\n",
       "      <td>INTP</td>\n",
       "    </tr>\n",
       "    <tr>\n",
       "      <th>3</th>\n",
       "      <td>0.000000</td>\n",
       "      <td>0.000000</td>\n",
       "      <td>0.101656</td>\n",
       "      <td>0.067320</td>\n",
       "      <td>0.071658</td>\n",
       "      <td>0.0</td>\n",
       "      <td>0.132334</td>\n",
       "      <td>0.0</td>\n",
       "      <td>0.080173</td>\n",
       "      <td>0.0</td>\n",
       "      <td>...</td>\n",
       "      <td>0.000000</td>\n",
       "      <td>0.070939</td>\n",
       "      <td>0.147251</td>\n",
       "      <td>0.000000</td>\n",
       "      <td>0.000000</td>\n",
       "      <td>0.000000</td>\n",
       "      <td>0.049316</td>\n",
       "      <td>0.000000</td>\n",
       "      <td>0.000000</td>\n",
       "      <td>INTJ</td>\n",
       "    </tr>\n",
       "    <tr>\n",
       "      <th>4</th>\n",
       "      <td>0.000000</td>\n",
       "      <td>0.000000</td>\n",
       "      <td>0.000000</td>\n",
       "      <td>0.000000</td>\n",
       "      <td>0.000000</td>\n",
       "      <td>0.0</td>\n",
       "      <td>0.000000</td>\n",
       "      <td>0.0</td>\n",
       "      <td>0.044311</td>\n",
       "      <td>0.0</td>\n",
       "      <td>...</td>\n",
       "      <td>0.000000</td>\n",
       "      <td>0.000000</td>\n",
       "      <td>0.000000</td>\n",
       "      <td>0.000000</td>\n",
       "      <td>0.063132</td>\n",
       "      <td>0.103032</td>\n",
       "      <td>0.000000</td>\n",
       "      <td>0.045604</td>\n",
       "      <td>0.080154</td>\n",
       "      <td>ENTJ</td>\n",
       "    </tr>\n",
       "    <tr>\n",
       "      <th>...</th>\n",
       "      <td>...</td>\n",
       "      <td>...</td>\n",
       "      <td>...</td>\n",
       "      <td>...</td>\n",
       "      <td>...</td>\n",
       "      <td>...</td>\n",
       "      <td>...</td>\n",
       "      <td>...</td>\n",
       "      <td>...</td>\n",
       "      <td>...</td>\n",
       "      <td>...</td>\n",
       "      <td>...</td>\n",
       "      <td>...</td>\n",
       "      <td>...</td>\n",
       "      <td>...</td>\n",
       "      <td>...</td>\n",
       "      <td>...</td>\n",
       "      <td>...</td>\n",
       "      <td>...</td>\n",
       "      <td>...</td>\n",
       "      <td>...</td>\n",
       "    </tr>\n",
       "    <tr>\n",
       "      <th>8670</th>\n",
       "      <td>0.000000</td>\n",
       "      <td>0.000000</td>\n",
       "      <td>0.000000</td>\n",
       "      <td>0.000000</td>\n",
       "      <td>0.000000</td>\n",
       "      <td>0.0</td>\n",
       "      <td>0.000000</td>\n",
       "      <td>0.0</td>\n",
       "      <td>0.046335</td>\n",
       "      <td>0.0</td>\n",
       "      <td>...</td>\n",
       "      <td>0.000000</td>\n",
       "      <td>0.000000</td>\n",
       "      <td>0.000000</td>\n",
       "      <td>0.000000</td>\n",
       "      <td>0.000000</td>\n",
       "      <td>0.107737</td>\n",
       "      <td>0.000000</td>\n",
       "      <td>0.000000</td>\n",
       "      <td>0.000000</td>\n",
       "      <td>ISFP</td>\n",
       "    </tr>\n",
       "    <tr>\n",
       "      <th>8671</th>\n",
       "      <td>0.000000</td>\n",
       "      <td>0.000000</td>\n",
       "      <td>0.000000</td>\n",
       "      <td>0.000000</td>\n",
       "      <td>0.000000</td>\n",
       "      <td>0.0</td>\n",
       "      <td>0.000000</td>\n",
       "      <td>0.0</td>\n",
       "      <td>0.034116</td>\n",
       "      <td>0.0</td>\n",
       "      <td>...</td>\n",
       "      <td>0.000000</td>\n",
       "      <td>0.000000</td>\n",
       "      <td>0.062659</td>\n",
       "      <td>0.131527</td>\n",
       "      <td>0.000000</td>\n",
       "      <td>0.000000</td>\n",
       "      <td>0.074566</td>\n",
       "      <td>0.000000</td>\n",
       "      <td>0.000000</td>\n",
       "      <td>ENFP</td>\n",
       "    </tr>\n",
       "    <tr>\n",
       "      <th>8672</th>\n",
       "      <td>0.076839</td>\n",
       "      <td>0.087471</td>\n",
       "      <td>0.000000</td>\n",
       "      <td>0.000000</td>\n",
       "      <td>0.000000</td>\n",
       "      <td>0.0</td>\n",
       "      <td>0.000000</td>\n",
       "      <td>0.0</td>\n",
       "      <td>0.000000</td>\n",
       "      <td>0.0</td>\n",
       "      <td>...</td>\n",
       "      <td>0.000000</td>\n",
       "      <td>0.000000</td>\n",
       "      <td>0.000000</td>\n",
       "      <td>0.061599</td>\n",
       "      <td>0.059401</td>\n",
       "      <td>0.000000</td>\n",
       "      <td>0.000000</td>\n",
       "      <td>0.102394</td>\n",
       "      <td>0.075417</td>\n",
       "      <td>INTP</td>\n",
       "    </tr>\n",
       "    <tr>\n",
       "      <th>8673</th>\n",
       "      <td>0.055463</td>\n",
       "      <td>0.000000</td>\n",
       "      <td>0.080079</td>\n",
       "      <td>0.000000</td>\n",
       "      <td>0.000000</td>\n",
       "      <td>0.0</td>\n",
       "      <td>0.000000</td>\n",
       "      <td>0.0</td>\n",
       "      <td>0.078529</td>\n",
       "      <td>0.0</td>\n",
       "      <td>...</td>\n",
       "      <td>0.000000</td>\n",
       "      <td>0.000000</td>\n",
       "      <td>0.093585</td>\n",
       "      <td>0.044463</td>\n",
       "      <td>0.000000</td>\n",
       "      <td>0.000000</td>\n",
       "      <td>0.081528</td>\n",
       "      <td>0.000000</td>\n",
       "      <td>0.000000</td>\n",
       "      <td>INFP</td>\n",
       "    </tr>\n",
       "    <tr>\n",
       "      <th>8674</th>\n",
       "      <td>0.000000</td>\n",
       "      <td>0.000000</td>\n",
       "      <td>0.057910</td>\n",
       "      <td>0.000000</td>\n",
       "      <td>0.000000</td>\n",
       "      <td>0.0</td>\n",
       "      <td>0.000000</td>\n",
       "      <td>0.0</td>\n",
       "      <td>0.087930</td>\n",
       "      <td>0.0</td>\n",
       "      <td>...</td>\n",
       "      <td>0.117281</td>\n",
       "      <td>0.000000</td>\n",
       "      <td>0.000000</td>\n",
       "      <td>0.000000</td>\n",
       "      <td>0.088887</td>\n",
       "      <td>0.085678</td>\n",
       "      <td>0.000000</td>\n",
       "      <td>0.000000</td>\n",
       "      <td>0.066653</td>\n",
       "      <td>INFP</td>\n",
       "    </tr>\n",
       "  </tbody>\n",
       "</table>\n",
       "<p>8675 rows × 501 columns</p>\n",
       "</div>"
      ],
      "text/plain": [
       "            10       100       abl   absolut    accept  act    action  activ  \\\n",
       "0     0.000000  0.000000  0.000000  0.000000  0.000000  0.0  0.000000    0.0   \n",
       "1     0.068913  0.000000  0.058766  0.000000  0.000000  0.0  0.000000    0.0   \n",
       "2     0.080984  0.000000  0.069059  0.131107  0.000000  0.0  0.000000    0.0   \n",
       "3     0.000000  0.000000  0.101656  0.067320  0.071658  0.0  0.132334    0.0   \n",
       "4     0.000000  0.000000  0.000000  0.000000  0.000000  0.0  0.000000    0.0   \n",
       "...        ...       ...       ...       ...       ...  ...       ...    ...   \n",
       "8670  0.000000  0.000000  0.000000  0.000000  0.000000  0.0  0.000000    0.0   \n",
       "8671  0.000000  0.000000  0.000000  0.000000  0.000000  0.0  0.000000    0.0   \n",
       "8672  0.076839  0.087471  0.000000  0.000000  0.000000  0.0  0.000000    0.0   \n",
       "8673  0.055463  0.000000  0.080079  0.000000  0.000000  0.0  0.000000    0.0   \n",
       "8674  0.000000  0.000000  0.057910  0.000000  0.000000  0.0  0.000000    0.0   \n",
       "\n",
       "        actual  add  ...     world     worri       wow     write     wrong  \\\n",
       "0     0.000000  0.0  ...  0.107204  0.096390  0.000000  0.000000  0.000000   \n",
       "1     0.000000  0.0  ...  0.000000  0.000000  0.000000  0.000000  0.000000   \n",
       "2     0.074400  0.0  ...  0.053598  0.000000  0.000000  0.064923  0.000000   \n",
       "3     0.080173  0.0  ...  0.000000  0.070939  0.147251  0.000000  0.000000   \n",
       "4     0.044311  0.0  ...  0.000000  0.000000  0.000000  0.000000  0.063132   \n",
       "...        ...  ...  ...       ...       ...       ...       ...       ...   \n",
       "8670  0.046335  0.0  ...  0.000000  0.000000  0.000000  0.000000  0.000000   \n",
       "8671  0.034116  0.0  ...  0.000000  0.000000  0.062659  0.131527  0.000000   \n",
       "8672  0.000000  0.0  ...  0.000000  0.000000  0.000000  0.061599  0.059401   \n",
       "8673  0.078529  0.0  ...  0.000000  0.000000  0.093585  0.044463  0.000000   \n",
       "8674  0.087930  0.0  ...  0.117281  0.000000  0.000000  0.000000  0.088887   \n",
       "\n",
       "            xd      yeah      year       yes  MBTI_TYPE  \n",
       "0     0.000000  0.000000  0.053424  0.000000       INFJ  \n",
       "1     0.000000  0.000000  0.038483  0.000000       ENTP  \n",
       "2     0.000000  0.000000  0.118010  0.079486       INTP  \n",
       "3     0.000000  0.049316  0.000000  0.000000       INTJ  \n",
       "4     0.103032  0.000000  0.045604  0.080154       ENTJ  \n",
       "...        ...       ...       ...       ...        ...  \n",
       "8670  0.107737  0.000000  0.000000  0.000000       ISFP  \n",
       "8671  0.000000  0.074566  0.000000  0.000000       ENFP  \n",
       "8672  0.000000  0.000000  0.102394  0.075417       INTP  \n",
       "8673  0.000000  0.081528  0.000000  0.000000       INFP  \n",
       "8674  0.085678  0.000000  0.000000  0.066653       INFP  \n",
       "\n",
       "[8675 rows x 501 columns]"
      ]
     },
     "execution_count": 6,
     "metadata": {},
     "output_type": "execute_result"
    }
   ],
   "source": [
    "#tfidf vector\n",
    "vect = TfidfVectorizer(sublinear_tf=True, max_features=500, analyzer='word', stop_words='english')\n",
    "X = vect.fit_transform(raw_data.pop('prerocessed_posts')).toarray()\n",
    "r = raw_data[['type']].copy()\n",
    "data = pd.DataFrame(X, columns=vect.get_feature_names())\n",
    "\n",
    "data['MBTI_TYPE'] = raw_data[['type']].copy()\n",
    "data\n"
   ]
  },
  {
   "cell_type": "code",
   "execution_count": 7,
   "metadata": {},
   "outputs": [],
   "source": [
    "types_16 = ['ENFJ','ENFP' ,'ENTJ' ,'ENTP' \n",
    "            ,'ESFJ' ,'ESFP' ,'ESTJ' ,'ESTP' \n",
    "            ,'INFJ' ,'INFP' ,'INTJ' ,'INTP' \n",
    "            ,'ISFJ' ,'ISFP' ,'ISTJ' ,'ISTP']  \n",
    "def cnt(x):\n",
    "    return types_16.index(x)\n",
    "    \n",
    "data['MBTI_LABEL'] = data['MBTI_TYPE'].apply(cnt)"
   ]
  },
  {
   "cell_type": "code",
   "execution_count": 19,
   "metadata": {},
   "outputs": [],
   "source": [
    "# train test split\n",
    "X = data.drop(['MBTI_TYPE','MBTI_LABEL'], axis=1)\n",
    "y = data['MBTI_TYPE']\n",
    "X_train, X_test, y_train, y_test = train_test_split(X, y, test_size=0.2, random_state=42, stratify=y)"
   ]
  },
  {
   "cell_type": "markdown",
   "metadata": {},
   "source": [
    "## Logistic Regression"
   ]
  },
  {
   "cell_type": "code",
   "execution_count": 20,
   "metadata": {},
   "outputs": [
    {
     "data": {
      "text/plain": [
       "LogisticRegression(multi_class='multinomial')"
      ]
     },
     "execution_count": 20,
     "metadata": {},
     "output_type": "execute_result"
    }
   ],
   "source": [
    "from sklearn.linear_model import LogisticRegression\n",
    "\n",
    "model = LogisticRegression(multi_class='multinomial', solver='lbfgs')\n",
    "model.fit(X_train, y_train)"
   ]
  },
  {
   "cell_type": "code",
   "execution_count": 21,
   "metadata": {},
   "outputs": [
    {
     "name": "stdout",
     "output_type": "stream",
     "text": [
      "              precision    recall  f1-score   support\n",
      "\n",
      "        ENFJ       1.00      0.21      0.35        38\n",
      "        ENFP       0.71      0.59      0.65       135\n",
      "        ENTJ       0.79      0.24      0.37        46\n",
      "        ENTP       0.63      0.63      0.63       137\n",
      "        ESFJ       0.00      0.00      0.00         9\n",
      "        ESFP       0.00      0.00      0.00        10\n",
      "        ESTJ       0.00      0.00      0.00         8\n",
      "        ESTP       0.00      0.00      0.00        18\n",
      "        INFJ       0.64      0.76      0.70       294\n",
      "        INFP       0.64      0.82      0.72       366\n",
      "        INTJ       0.64      0.70      0.67       218\n",
      "        INTP       0.68      0.81      0.74       261\n",
      "        ISFJ       0.71      0.15      0.25        33\n",
      "        ISFP       0.62      0.28      0.38        54\n",
      "        ISTJ       0.75      0.22      0.34        41\n",
      "        ISTP       0.70      0.57      0.63        67\n",
      "\n",
      "    accuracy                           0.66      1735\n",
      "   macro avg       0.53      0.37      0.40      1735\n",
      "weighted avg       0.65      0.66      0.63      1735\n",
      "\n"
     ]
    }
   ],
   "source": [
    "y_pred = model.predict(X_test)\n",
    "print(classification_report(y_test, y_pred))"
   ]
  },
  {
   "cell_type": "code",
   "execution_count": 40,
   "metadata": {},
   "outputs": [
    {
     "data": {
      "text/plain": [
       "[Text(105.0, 0.5, 'True'), Text(0.5, 87.0, 'Predicted')]"
      ]
     },
     "execution_count": 40,
     "metadata": {},
     "output_type": "execute_result"
    },
    {
     "data": {
      "image/png": "[encoded data removed]",
      "text/plain": [
       "<Figure size 1008x864 with 2 Axes>"
      ]
     },
     "metadata": {
      "needs_background": "light"
     },
     "output_type": "display_data"
    }
   ],
   "source": [
    "# plot cm\n",
    "plt.figure(figsize = (14,12))\n",
    "plt.title('Confusion Matrix (Logistic Regression)')\n",
    "cm = confusion_matrix(y_test, y_pred)\n",
    "plt.xlabel('True')\n",
    "plt.ylabel('Predicted')\n",
    "ax = sns.heatmap(cm, annot= True, fmt='g',cmap=\"OrRd\", xticklabels=types_16, yticklabels= types_16)\n",
    "ax.set(ylabel='True', xlabel='Predicted')"
   ]
  },
  {
   "cell_type": "markdown",
   "metadata": {},
   "source": [
    "## KNN"
   ]
  },
  {
   "cell_type": "code",
   "execution_count": 30,
   "metadata": {},
   "outputs": [
    {
     "name": "stdout",
     "output_type": "stream",
     "text": [
      "              precision    recall  f1-score   support\n",
      "\n",
      "        ENFJ       0.00      0.00      0.00        38\n",
      "        ENFP       0.63      0.18      0.28       135\n",
      "        ENTJ       0.00      0.00      0.00        46\n",
      "        ENTP       0.69      0.21      0.32       137\n",
      "        ESFJ       0.00      0.00      0.00         9\n",
      "        ESFP       0.00      0.00      0.00        10\n",
      "        ESTJ       0.00      0.00      0.00         8\n",
      "        ESTP       0.00      0.00      0.00        18\n",
      "        INFJ       0.34      0.67      0.45       294\n",
      "        INFP       0.38      0.85      0.52       366\n",
      "        INTJ       0.77      0.22      0.35       218\n",
      "        INTP       0.71      0.47      0.56       261\n",
      "        ISFJ       1.00      0.06      0.11        33\n",
      "        ISFP       1.00      0.04      0.07        54\n",
      "        ISTJ       1.00      0.02      0.05        41\n",
      "        ISTP       0.73      0.12      0.21        67\n",
      "\n",
      "    accuracy                           0.43      1735\n",
      "   macro avg       0.45      0.18      0.18      1735\n",
      "weighted avg       0.55      0.43      0.38      1735\n",
      "\n"
     ]
    }
   ],
   "source": [
    "from sklearn.neighbors import KNeighborsClassifier\n",
    "knn = KNeighborsClassifier(n_neighbors=100)\n",
    "knn.fit(X_train, y_train)\n",
    "y_pred = knn.predict(X_test)\n",
    "print(classification_report(y_test, y_pred))"
   ]
  },
  {
   "cell_type": "code",
   "execution_count": 31,
   "metadata": {},
   "outputs": [
    {
     "data": {
      "text/plain": [
       "[Text(105.0, 0.5, 'True'), Text(0.5, 87.0, 'Predicted')]"
      ]
     },
     "execution_count": 31,
     "metadata": {},
     "output_type": "execute_result"
    },
    {
     "data": {
      "image/png": "[encoded data removed]",
      "text/plain": [
       "<Figure size 1008x864 with 2 Axes>"
      ]
     },
     "metadata": {
      "needs_background": "light"
     },
     "output_type": "display_data"
    }
   ],
   "source": [
    "# plot cm\n",
    "plt.figure(figsize = (14,12))\n",
    "plt.title('Confusion Matrix (knn)')\n",
    "cm = confusion_matrix(y_test, y_pred)\n",
    "plt.xlabel('True')\n",
    "plt.ylabel('Predicted')\n",
    "ax = sns.heatmap(cm, annot= True, fmt='g',cmap=\"OrRd\", xticklabels=types_16, yticklabels= types_16)\n",
    "ax.set(ylabel='True', xlabel='Predicted')\n"
   ]
  },
  {
   "cell_type": "markdown",
   "metadata": {},
   "source": [
    "## lgbm"
   ]
  },
  {
   "cell_type": "code",
   "execution_count": 33,
   "metadata": {},
   "outputs": [
    {
     "data": {
      "text/plain": [
       "LGBMClassifier(is_unbalance=True)"
      ]
     },
     "execution_count": 33,
     "metadata": {},
     "output_type": "execute_result"
    }
   ],
   "source": [
    "import lightgbm as lgb\n",
    "model = lgb.LGBMClassifier(is_unbalance=True)\n",
    "model.fit(X_train,y_train)"
   ]
  },
  {
   "cell_type": "code",
   "execution_count": 34,
   "metadata": {},
   "outputs": [
    {
     "name": "stdout",
     "output_type": "stream",
     "text": [
      "              precision    recall  f1-score   support\n",
      "\n",
      "        ENFJ       0.58      0.37      0.45        38\n",
      "        ENFP       0.73      0.65      0.69       135\n",
      "        ENTJ       0.82      0.39      0.53        46\n",
      "        ENTP       0.61      0.61      0.61       137\n",
      "        ESFJ       1.00      0.22      0.36         9\n",
      "        ESFP       0.00      0.00      0.00        10\n",
      "        ESTJ       1.00      0.12      0.22         8\n",
      "        ESTP       0.55      0.33      0.41        18\n",
      "        INFJ       0.65      0.72      0.68       294\n",
      "        INFP       0.67      0.81      0.73       366\n",
      "        INTJ       0.66      0.69      0.67       218\n",
      "        INTP       0.69      0.78      0.74       261\n",
      "        ISFJ       0.83      0.58      0.68        33\n",
      "        ISFP       0.72      0.39      0.51        54\n",
      "        ISTJ       0.71      0.29      0.41        41\n",
      "        ISTP       0.73      0.61      0.67        67\n",
      "\n",
      "    accuracy                           0.67      1735\n",
      "   macro avg       0.68      0.47      0.52      1735\n",
      "weighted avg       0.68      0.67      0.66      1735\n",
      "\n"
     ]
    }
   ],
   "source": [
    "y_pred = model.predict(X_test)\n",
    "print(classification_report(y_test, y_pred))"
   ]
  },
  {
   "cell_type": "code",
   "execution_count": 35,
   "metadata": {},
   "outputs": [
    {
     "data": {
      "text/plain": [
       "[Text(105.0, 0.5, 'True'), Text(0.5, 87.0, 'Predicted')]"
      ]
     },
     "execution_count": 35,
     "metadata": {},
     "output_type": "execute_result"
    },
    {
     "data": {
      "image/png": "[encoded data removed]",
      "text/plain": [
       "<Figure size 1008x864 with 2 Axes>"
      ]
     },
     "metadata": {
      "needs_background": "light"
     },
     "output_type": "display_data"
    }
   ],
   "source": [
    "# plot cm\n",
    "plt.figure(figsize = (14,12))\n",
    "plt.title('Confusion Matrix (LGBM)')\n",
    "cm = confusion_matrix(y_test, y_pred)\n",
    "plt.xlabel('True')\n",
    "plt.ylabel('Predicted')\n",
    "ax = sns.heatmap(cm, annot= True, fmt='g',cmap=\"OrRd\", xticklabels=types_16, yticklabels= types_16)\n",
    "ax.set(ylabel='True', xlabel='Predicted')"
   ]
  },
  {
   "cell_type": "markdown",
   "metadata": {},
   "source": [
    "## DNN"
   ]
  },
  {
   "cell_type": "code",
   "execution_count": 9,
   "metadata": {},
   "outputs": [
    {
     "data": {
      "text/plain": [
       "{0: 2.8536184210526314,\n",
       " 1: 0.8032407407407407,\n",
       " 2: 2.347132034632035,\n",
       " 3: 0.7915145985401459,\n",
       " 4: 12.90922619047619,\n",
       " 5: 11.295572916666666,\n",
       " 6: 13.90224358974359,\n",
       " 7: 6.091994382022472,\n",
       " 8: 0.36883503401360546,\n",
       " 9: 0.2959538755458515,\n",
       " 10: 0.4969637946837763,\n",
       " 11: 0.41578796012269936,\n",
       " 12: 3.2661897590361444,\n",
       " 13: 2.000691881918819,\n",
       " 14: 2.644817073170732,\n",
       " 15: 1.6088649851632046}"
      ]
     },
     "execution_count": 9,
     "metadata": {},
     "output_type": "execute_result"
    }
   ],
   "source": [
    "temp_data = data['MBTI_TYPE'].value_counts().reset_index().sort_values(by='index')\n",
    "temp_data['class_weight'] =   temp_data['MBTI_TYPE'].sum() / (temp_data.shape[0] * temp_data['MBTI_TYPE'])\n",
    "temp_data = temp_data.reset_index()\n",
    "class_weights = temp_data['class_weight'].to_dict()\n",
    "class_weights"
   ]
  },
  {
   "cell_type": "code",
   "execution_count": 10,
   "metadata": {},
   "outputs": [],
   "source": [
    "# one hot encoding\n",
    "onehotencoder = OneHotEncoder()\n",
    "onehot = onehotencoder.fit_transform(data[['MBTI_TYPE']]).toarray()\n",
    "y_train_df = pd.DataFrame(onehot)"
   ]
  },
  {
   "cell_type": "code",
   "execution_count": 11,
   "metadata": {},
   "outputs": [
    {
     "data": {
      "text/plain": [
       "array([[0.        , 0.        , 0.        , ..., 0.        , 0.28419209,\n",
       "        0.        ],\n",
       "       [0.24373057, 0.        , 0.30048641, ..., 0.        , 0.20471406,\n",
       "        0.        ],\n",
       "       [0.28642418, 0.        , 0.35312178, ..., 0.        , 0.62776096,\n",
       "        0.3314279 ],\n",
       "       ...,\n",
       "       [0.27176272, 0.26880466, 0.        , ..., 0.        , 0.5446927 ,\n",
       "        0.31446279],\n",
       "       [0.19616054, 0.        , 0.40946914, ..., 0.30533893, 0.        ,\n",
       "        0.        ],\n",
       "       [0.        , 0.        , 0.29611104, ..., 0.        , 0.        ,\n",
       "        0.27791959]])"
      ]
     },
     "execution_count": 11,
     "metadata": {},
     "output_type": "execute_result"
    }
   ],
   "source": [
    "scaler = MinMaxScaler()\n",
    "X_std = scaler.fit_transform(data.drop(['MBTI_TYPE','MBTI_LABEL'], axis= 1))\n",
    "X_std"
   ]
  },
  {
   "cell_type": "code",
   "execution_count": 12,
   "metadata": {},
   "outputs": [],
   "source": [
    "# train test split\n",
    "X = X_std\n",
    "y = y_train_df.to_numpy()\n",
    "X_train, X_test, y_train, y_test = train_test_split(X, y, test_size=0.2, random_state=42, stratify=y)"
   ]
  },
  {
   "cell_type": "code",
   "execution_count": 16,
   "metadata": {},
   "outputs": [],
   "source": [
    "model = Sequential()\n",
    "\n",
    "model.add(Dense(units=128, input_dim=500, activation='relu')) \n",
    "model.add(BatchNormalization())\n",
    "# model.add(Dropout(0.5))\n",
    "model.add(Dense(units=64, activation='relu', kernel_regularizer='l2')) \n",
    "model.add(BatchNormalization())\n",
    "model.add(Dropout(0.2))\n",
    "\n",
    "model.add(Dense(units=64, activation='relu', kernel_regularizer='l2')) \n",
    "model.add(BatchNormalization())\n",
    "model.add(Dropout(0.5))\n",
    "# Add output layer\n",
    "model.add(Dense(units=16, activation='softmax'))\n",
    "\n",
    "\n",
    "model.compile(loss='categorical_crossentropy', optimizer='adam', metrics=['accuracy'])  "
   ]
  },
  {
   "cell_type": "code",
   "execution_count": 17,
   "metadata": {},
   "outputs": [
    {
     "name": "stdout",
     "output_type": "stream",
     "text": [
      "Epoch 1/50\n",
      "196/196 [==============================] - 9s 14ms/step - loss: 4.5082 - accuracy: 0.1625 - val_loss: 3.4193 - val_accuracy: 0.3444\n",
      "Epoch 2/50\n",
      "196/196 [==============================] - 3s 13ms/step - loss: 3.2049 - accuracy: 0.3865 - val_loss: 2.7478 - val_accuracy: 0.5000\n",
      "Epoch 3/50\n",
      "196/196 [==============================] - 3s 14ms/step - loss: 2.5721 - accuracy: 0.5171 - val_loss: 2.3863 - val_accuracy: 0.5346\n",
      "Epoch 4/50\n",
      "196/196 [==============================] - 3s 14ms/step - loss: 2.1628 - accuracy: 0.5762 - val_loss: 2.1254 - val_accuracy: 0.5591\n",
      "Epoch 5/50\n",
      "196/196 [==============================] - 3s 15ms/step - loss: 1.8715 - accuracy: 0.6260 - val_loss: 1.9265 - val_accuracy: 0.5908\n",
      "Epoch 6/50\n",
      "196/196 [==============================] - 3s 16ms/step - loss: 1.6324 - accuracy: 0.6491 - val_loss: 1.8794 - val_accuracy: 0.5591\n",
      "Epoch 7/50\n",
      "196/196 [==============================] - 3s 16ms/step - loss: 1.4562 - accuracy: 0.6819 - val_loss: 1.7561 - val_accuracy: 0.5648\n",
      "Epoch 8/50\n",
      "196/196 [==============================] - 3s 15ms/step - loss: 1.3077 - accuracy: 0.7011 - val_loss: 1.7281 - val_accuracy: 0.5764\n",
      "Epoch 9/50\n",
      "196/196 [==============================] - 3s 15ms/step - loss: 1.2050 - accuracy: 0.7201 - val_loss: 1.6495 - val_accuracy: 0.6023\n",
      "Epoch 10/50\n",
      "196/196 [==============================] - 3s 15ms/step - loss: 1.0859 - accuracy: 0.7485 - val_loss: 1.6488 - val_accuracy: 0.6066\n",
      "Epoch 11/50\n",
      "196/196 [==============================] - 3s 13ms/step - loss: 1.0061 - accuracy: 0.7640 - val_loss: 1.7346 - val_accuracy: 0.5879\n",
      "Epoch 12/50\n",
      "196/196 [==============================] - 3s 15ms/step - loss: 0.9563 - accuracy: 0.7646 - val_loss: 1.7612 - val_accuracy: 0.5706\n",
      "Epoch 13/50\n",
      "196/196 [==============================] - 3s 17ms/step - loss: 0.8652 - accuracy: 0.7938 - val_loss: 1.8146 - val_accuracy: 0.5764\n",
      "Epoch 14/50\n",
      "196/196 [==============================] - 3s 17ms/step - loss: 0.8108 - accuracy: 0.8061 - val_loss: 1.8371 - val_accuracy: 0.5836\n",
      "Epoch 15/50\n",
      "196/196 [==============================] - 3s 15ms/step - loss: 0.7725 - accuracy: 0.8213 - val_loss: 1.8419 - val_accuracy: 0.5706\n",
      "Epoch 16/50\n",
      "196/196 [==============================] - 3s 15ms/step - loss: 0.7209 - accuracy: 0.8348 - val_loss: 1.9542 - val_accuracy: 0.5764\n",
      "Epoch 17/50\n",
      "196/196 [==============================] - 3s 16ms/step - loss: 0.7077 - accuracy: 0.8373 - val_loss: 1.9404 - val_accuracy: 0.5850\n",
      "Epoch 18/50\n",
      "196/196 [==============================] - 3s 14ms/step - loss: 0.6134 - accuracy: 0.8610 - val_loss: 1.9161 - val_accuracy: 0.5821\n",
      "Epoch 19/50\n",
      "196/196 [==============================] - 2s 12ms/step - loss: 0.6080 - accuracy: 0.8578 - val_loss: 2.0825 - val_accuracy: 0.5893\n",
      "Epoch 20/50\n",
      "196/196 [==============================] - 3s 15ms/step - loss: 0.5575 - accuracy: 0.8806 - val_loss: 2.0725 - val_accuracy: 0.5879\n",
      "Epoch 21/50\n",
      "196/196 [==============================] - 3s 15ms/step - loss: 0.5595 - accuracy: 0.8730 - val_loss: 2.0714 - val_accuracy: 0.5634\n",
      "Epoch 22/50\n",
      "196/196 [==============================] - 3s 14ms/step - loss: 0.5015 - accuracy: 0.8890 - val_loss: 2.1377 - val_accuracy: 0.5648\n",
      "Epoch 23/50\n",
      "196/196 [==============================] - 3s 16ms/step - loss: 0.4843 - accuracy: 0.8972 - val_loss: 2.2321 - val_accuracy: 0.5605\n",
      "Epoch 24/50\n",
      "196/196 [==============================] - 3s 14ms/step - loss: 0.4897 - accuracy: 0.8948 - val_loss: 2.2133 - val_accuracy: 0.5677\n",
      "Epoch 25/50\n",
      "196/196 [==============================] - 3s 14ms/step - loss: 0.4820 - accuracy: 0.8953 - val_loss: 2.2633 - val_accuracy: 0.5749\n",
      "Epoch 26/50\n",
      "196/196 [==============================] - 3s 13ms/step - loss: 0.5286 - accuracy: 0.8831 - val_loss: 2.4104 - val_accuracy: 0.5490\n",
      "Epoch 27/50\n",
      "196/196 [==============================] - 3s 16ms/step - loss: 0.4652 - accuracy: 0.9003 - val_loss: 2.3791 - val_accuracy: 0.5504\n",
      "Epoch 28/50\n",
      "196/196 [==============================] - 3s 16ms/step - loss: 0.4041 - accuracy: 0.9193 - val_loss: 2.3498 - val_accuracy: 0.5576\n",
      "Epoch 29/50\n",
      "196/196 [==============================] - 3s 17ms/step - loss: 0.3783 - accuracy: 0.9243 - val_loss: 2.4416 - val_accuracy: 0.5591\n",
      "Epoch 30/50\n",
      "196/196 [==============================] - 3s 18ms/step - loss: 0.4223 - accuracy: 0.9113 - val_loss: 2.3556 - val_accuracy: 0.5620\n",
      "Epoch 31/50\n",
      "196/196 [==============================] - 3s 16ms/step - loss: 0.3659 - accuracy: 0.9292 - val_loss: 2.3524 - val_accuracy: 0.5620\n",
      "Epoch 32/50\n",
      "196/196 [==============================] - 3s 16ms/step - loss: 0.3970 - accuracy: 0.9199 - val_loss: 2.4509 - val_accuracy: 0.5490\n",
      "Epoch 33/50\n",
      "196/196 [==============================] - 3s 16ms/step - loss: 0.3754 - accuracy: 0.9304 - val_loss: 2.5918 - val_accuracy: 0.5504\n",
      "Epoch 34/50\n",
      "196/196 [==============================] - 3s 15ms/step - loss: 0.4052 - accuracy: 0.9183 - val_loss: 2.6568 - val_accuracy: 0.5346\n",
      "Epoch 35/50\n",
      "196/196 [==============================] - 3s 15ms/step - loss: 0.3987 - accuracy: 0.9222 - val_loss: 2.5836 - val_accuracy: 0.5432\n",
      "Epoch 36/50\n",
      "196/196 [==============================] - 3s 15ms/step - loss: 0.3761 - accuracy: 0.9280 - val_loss: 2.5386 - val_accuracy: 0.5576\n",
      "Epoch 37/50\n",
      "196/196 [==============================] - 3s 16ms/step - loss: 0.3445 - accuracy: 0.9339 - val_loss: 2.6241 - val_accuracy: 0.5548\n",
      "Epoch 38/50\n",
      "196/196 [==============================] - 3s 15ms/step - loss: 0.3155 - accuracy: 0.9401 - val_loss: 2.6303 - val_accuracy: 0.5576\n",
      "Epoch 39/50\n",
      "196/196 [==============================] - 3s 15ms/step - loss: 0.3101 - accuracy: 0.9452 - val_loss: 2.5629 - val_accuracy: 0.5706\n",
      "Epoch 40/50\n",
      "196/196 [==============================] - 3s 16ms/step - loss: 0.3823 - accuracy: 0.9254 - val_loss: 2.7131 - val_accuracy: 0.5620\n",
      "Epoch 41/50\n",
      "196/196 [==============================] - 4s 18ms/step - loss: 0.3387 - accuracy: 0.9372 - val_loss: 2.6032 - val_accuracy: 0.5519\n",
      "Epoch 42/50\n",
      "196/196 [==============================] - 4s 19ms/step - loss: 0.3070 - accuracy: 0.9488 - val_loss: 2.6097 - val_accuracy: 0.5519\n",
      "Epoch 43/50\n",
      "196/196 [==============================] - 4s 20ms/step - loss: 0.2859 - accuracy: 0.9515 - val_loss: 2.7644 - val_accuracy: 0.5447\n",
      "Epoch 44/50\n",
      "196/196 [==============================] - 4s 19ms/step - loss: 0.2980 - accuracy: 0.9460 - val_loss: 2.9000 - val_accuracy: 0.5403\n",
      "Epoch 45/50\n",
      "196/196 [==============================] - 3s 15ms/step - loss: 0.2741 - accuracy: 0.9510 - val_loss: 2.6343 - val_accuracy: 0.5490\n",
      "Epoch 46/50\n",
      "196/196 [==============================] - 3s 14ms/step - loss: 0.2803 - accuracy: 0.9518 - val_loss: 2.7833 - val_accuracy: 0.5692\n",
      "Epoch 47/50\n",
      "196/196 [==============================] - 3s 15ms/step - loss: 0.3425 - accuracy: 0.9334 - val_loss: 2.9352 - val_accuracy: 0.5403\n",
      "Epoch 48/50\n",
      "196/196 [==============================] - 3s 15ms/step - loss: 0.3419 - accuracy: 0.9371 - val_loss: 2.7168 - val_accuracy: 0.5504\n",
      "Epoch 49/50\n",
      "196/196 [==============================] - 3s 16ms/step - loss: 0.3250 - accuracy: 0.9395 - val_loss: 2.6860 - val_accuracy: 0.5432\n",
      "Epoch 50/50\n",
      "196/196 [==============================] - 3s 16ms/step - loss: 0.3111 - accuracy: 0.9457 - val_loss: 2.7654 - val_accuracy: 0.5634\n"
     ]
    },
    {
     "data": {
      "text/plain": [
       "<keras.callbacks.History at 0x1e69a679e80>"
      ]
     },
     "execution_count": 17,
     "metadata": {},
     "output_type": "execute_result"
    }
   ],
   "source": [
    "model.fit(X_train, y_train, validation_split=0.1, epochs=50, batch_size=32)"
   ]
  },
  {
   "cell_type": "code",
   "execution_count": 48,
   "metadata": {},
   "outputs": [],
   "source": [
    "total_ypred_list = []\n",
    "for ele in y_pred:\n",
    "    empty_list = np.zeros(16)\n",
    "    temp_list = list(ele)\n",
    "    idx_ = temp_list.index(ele.max())\n",
    "    empty_list[idx_] = 1\n",
    "    total_ypred_list.append(list(empty_list))"
   ]
  },
  {
   "cell_type": "code",
   "execution_count": 49,
   "metadata": {},
   "outputs": [
    {
     "name": "stdout",
     "output_type": "stream",
     "text": [
      "              precision    recall  f1-score   support\n",
      "\n",
      "           0       0.33      0.24      0.28        38\n",
      "           1       0.55      0.42      0.48       135\n",
      "           2       0.36      0.20      0.25        46\n",
      "           3       0.61      0.40      0.48       137\n",
      "           4       0.12      0.11      0.12         9\n",
      "           5       0.00      0.00      0.00        10\n",
      "           6       0.00      0.00      0.00         8\n",
      "           7       0.31      0.28      0.29        18\n",
      "           8       0.59      0.57      0.58       294\n",
      "           9       0.55      0.81      0.66       366\n",
      "          10       0.51      0.56      0.54       218\n",
      "          11       0.63      0.56      0.59       261\n",
      "          12       0.37      0.21      0.27        33\n",
      "          13       0.39      0.37      0.38        54\n",
      "          14       0.33      0.37      0.34        41\n",
      "          15       0.53      0.42      0.47        67\n",
      "\n",
      "   micro avg       0.54      0.54      0.54      1735\n",
      "   macro avg       0.39      0.34      0.36      1735\n",
      "weighted avg       0.54      0.54      0.53      1735\n",
      " samples avg       0.54      0.54      0.54      1735\n",
      "\n"
     ]
    }
   ],
   "source": [
    "y_pred = model.predict(X_test)\n",
    "y_pred_list = []\n",
    "\n",
    "print(classification_report(y_test, total_ypred_list))"
   ]
  },
  {
   "cell_type": "code",
   "execution_count": 55,
   "metadata": {},
   "outputs": [
    {
     "data": {
      "text/plain": [
       "array([11, 15,  9, ..., 11, 10,  8], dtype=int64)"
      ]
     },
     "execution_count": 55,
     "metadata": {},
     "output_type": "execute_result"
    }
   ],
   "source": [
    "y_pred.argmax(axis=1)"
   ]
  },
  {
   "cell_type": "code",
   "execution_count": 54,
   "metadata": {},
   "outputs": [
    {
     "data": {
      "text/plain": [
       "array([[0., 0., 0., ..., 0., 0., 0.],\n",
       "       [0., 0., 0., ..., 0., 0., 1.],\n",
       "       [0., 0., 0., ..., 0., 0., 0.],\n",
       "       ...,\n",
       "       [0., 0., 0., ..., 0., 0., 0.],\n",
       "       [0., 0., 0., ..., 0., 0., 0.],\n",
       "       [0., 0., 0., ..., 0., 0., 0.]])"
      ]
     },
     "execution_count": 54,
     "metadata": {},
     "output_type": "execute_result"
    }
   ],
   "source": [
    "np.array(total_ypred_list)"
   ]
  },
  {
   "cell_type": "markdown",
   "metadata": {},
   "source": [
    "## 1D CNN"
   ]
  },
  {
   "cell_type": "code",
   "execution_count": null,
   "metadata": {},
   "outputs": [],
   "source": []
  },
  {
   "cell_type": "code",
   "execution_count": 90,
   "metadata": {},
   "outputs": [],
   "source": [
    "from keras.layers.convolutional import Conv1D\n",
    "from keras.layers.convolutional import MaxPooling1D\n",
    "\n",
    "model = Sequential()\n",
    "model.add(Conv1D(filters=128, kernel_size=3, activation='relu', input_shape=(500,1)))\n",
    "model.add(BatchNormalization())\n",
    "model.add(Conv1D(filters=128, kernel_size=3, activation='relu'))\n",
    "model.add(BatchNormalization())\n",
    "\n",
    "model.add(Dropout(0.5))\n",
    "model.add(MaxPooling1D(pool_size=2))\n",
    "\n",
    "model.add(Conv1D(filters=64, kernel_size=3, activation='relu'))\n",
    "model.add(BatchNormalization())\n",
    "model.add(Conv1D(filters=64, kernel_size=3, activation='relu'))\n",
    "model.add(BatchNormalization())\n",
    "\n",
    "model.add(Dropout(0.5))\n",
    "model.add(MaxPooling1D(pool_size=2))\n",
    "\n",
    "model.add(Flatten())\n",
    "model.add(Dense(128, activation='relu'))\n",
    "model.add(BatchNormalization())\n",
    "model.add(Dropout(0.25))\n",
    "model.add(Dense(64, activation='relu'))\n",
    "model.add(BatchNormalization())\n",
    "\n",
    "model.add(BatchNormalization())\n",
    "model.add(Dense(16, activation='softmax'))\n",
    "model.compile(loss='categorical_crossentropy', optimizer='adam', metrics=['accuracy'])\n"
   ]
  },
  {
   "cell_type": "code",
   "execution_count": 91,
   "metadata": {},
   "outputs": [
    {
     "name": "stdout",
     "output_type": "stream",
     "text": [
      "Epoch 1/50\n",
      "196/196 [==============================] - 9s 32ms/step - loss: 2.4940 - accuracy: 0.2611 - val_loss: 2.6031 - val_accuracy: 0.2882\n",
      "Epoch 2/50\n",
      "196/196 [==============================] - 6s 29ms/step - loss: 1.7548 - accuracy: 0.4539 - val_loss: 2.8047 - val_accuracy: 0.1052\n",
      "Epoch 3/50\n",
      "196/196 [==============================] - 6s 28ms/step - loss: 1.4861 - accuracy: 0.5343 - val_loss: 1.4732 - val_accuracy: 0.5634\n",
      "Epoch 4/50\n",
      "196/196 [==============================] - 6s 30ms/step - loss: 1.3003 - accuracy: 0.5908 - val_loss: 1.3285 - val_accuracy: 0.6182\n",
      "Epoch 5/50\n",
      "196/196 [==============================] - 6s 33ms/step - loss: 1.1988 - accuracy: 0.6206 - val_loss: 1.3038 - val_accuracy: 0.6297\n",
      "Epoch 6/50\n",
      "196/196 [==============================] - 6s 33ms/step - loss: 1.0925 - accuracy: 0.6500 - val_loss: 1.2955 - val_accuracy: 0.6124\n",
      "Epoch 7/50\n",
      "196/196 [==============================] - 6s 33ms/step - loss: 1.0328 - accuracy: 0.6752 - val_loss: 1.2704 - val_accuracy: 0.6210\n",
      "Epoch 8/50\n",
      "196/196 [==============================] - 5s 27ms/step - loss: 0.9594 - accuracy: 0.6846 - val_loss: 1.3626 - val_accuracy: 0.6311\n",
      "Epoch 9/50\n",
      "196/196 [==============================] - 5s 27ms/step - loss: 0.9170 - accuracy: 0.7008 - val_loss: 1.3642 - val_accuracy: 0.6153\n",
      "Epoch 10/50\n",
      "196/196 [==============================] - 6s 29ms/step - loss: 0.8645 - accuracy: 0.7110 - val_loss: 1.3933 - val_accuracy: 0.6110\n",
      "Epoch 11/50\n",
      "196/196 [==============================] - 6s 30ms/step - loss: 0.8086 - accuracy: 0.7245 - val_loss: 1.3708 - val_accuracy: 0.6239\n",
      "Epoch 12/50\n",
      "196/196 [==============================] - 7s 33ms/step - loss: 0.7793 - accuracy: 0.7389 - val_loss: 1.4418 - val_accuracy: 0.6110\n",
      "Epoch 13/50\n",
      "196/196 [==============================] - 6s 33ms/step - loss: 0.8523 - accuracy: 0.7085 - val_loss: 1.4667 - val_accuracy: 0.6110\n",
      "Epoch 14/50\n",
      "196/196 [==============================] - 6s 33ms/step - loss: 0.6995 - accuracy: 0.7645 - val_loss: 1.4840 - val_accuracy: 0.6023\n",
      "Epoch 15/50\n",
      "196/196 [==============================] - 6s 31ms/step - loss: 0.6820 - accuracy: 0.7691 - val_loss: 1.5205 - val_accuracy: 0.6095\n",
      "Epoch 16/50\n",
      "196/196 [==============================] - 6s 29ms/step - loss: 0.6283 - accuracy: 0.7802 - val_loss: 1.5549 - val_accuracy: 0.5879\n",
      "Epoch 17/50\n",
      "196/196 [==============================] - 6s 29ms/step - loss: 0.6181 - accuracy: 0.7887 - val_loss: 1.5921 - val_accuracy: 0.6210\n",
      "Epoch 17: early stopping\n"
     ]
    },
    {
     "data": {
      "text/plain": [
       "<keras.callbacks.History at 0x1e7756d5df0>"
      ]
     },
     "execution_count": 91,
     "metadata": {},
     "output_type": "execute_result"
    }
   ],
   "source": [
    "from keras.callbacks import EarlyStopping\n",
    "es = EarlyStopping(monitor='val_loss', mode='min', verbose=1, patience=10)\n",
    "model.fit(X_train, y_train, validation_split=0.1, epochs=50, batch_size=32, callbacks=es)"
   ]
  },
  {
   "cell_type": "code",
   "execution_count": 92,
   "metadata": {},
   "outputs": [
    {
     "name": "stdout",
     "output_type": "stream",
     "text": [
      "              precision    recall  f1-score   support\n",
      "\n",
      "           0       0.33      0.32      0.32        38\n",
      "           1       0.47      0.54      0.50       135\n",
      "           2       0.58      0.39      0.47        46\n",
      "           3       0.50      0.59      0.54       137\n",
      "           4       0.00      0.00      0.00         9\n",
      "           5       0.14      0.10      0.12        10\n",
      "           6       0.67      0.25      0.36         8\n",
      "           7       0.59      0.56      0.57        18\n",
      "           8       0.64      0.66      0.65       294\n",
      "           9       0.70      0.69      0.70       366\n",
      "          10       0.55      0.60      0.57       218\n",
      "          11       0.63      0.59      0.61       261\n",
      "          12       0.38      0.48      0.43        33\n",
      "          13       0.51      0.43      0.46        54\n",
      "          14       0.42      0.39      0.41        41\n",
      "          15       0.57      0.39      0.46        67\n",
      "\n",
      "   micro avg       0.58      0.58      0.58      1735\n",
      "   macro avg       0.48      0.44      0.45      1735\n",
      "weighted avg       0.58      0.58      0.58      1735\n",
      " samples avg       0.58      0.58      0.58      1735\n",
      "\n"
     ]
    }
   ],
   "source": [
    "y_pred = model.predict(X_test)\n",
    "total_ypred_list = []\n",
    "for ele in y_pred:\n",
    "    empty_list = np.zeros(16)\n",
    "    temp_list = list(ele)\n",
    "    idx_ = temp_list.index(ele.max())\n",
    "    empty_list[idx_] = 1\n",
    "    total_ypred_list.append(list(empty_list))\n",
    "\n",
    "print(classification_report(y_test, total_ypred_list))"
   ]
  },
  {
   "cell_type": "code",
   "execution_count": null,
   "metadata": {},
   "outputs": [],
   "source": []
  }
 ],
 "metadata": {
  "kernelspec": {
   "display_name": "Python 3.9.7 ('tf-gpu')",
   "language": "python",
   "name": "python3"
  },
  "language_info": {
   "codemirror_mode": {
    "name": "ipython",
    "version": 3
   },
   "file_extension": ".py",
   "mimetype": "text/x-python",
   "name": "python",
   "nbconvert_exporter": "python",
   "pygments_lexer": "ipython3",
   "version": "3.9.7"
  },
  "orig_nbformat": 4,
  "vscode": {
   "interpreter": {
    "hash": "619ca890e37fc0b5a7bf3970831144904e1971bb38cea205f0f5242315187158"
   }
  }
 },
 "nbformat": 4,
 "nbformat_minor": 2
}
