{
 "cells": [
  {
   "cell_type": "markdown",
   "metadata": {},
   "source": [
    "# EDA and Text Preprocessing"
   ]
  },
  {
   "cell_type": "markdown",
   "metadata": {},
   "source": [
    "## Import module"
   ]
  },
  {
   "cell_type": "code",
   "execution_count": 60,
   "metadata": {},
   "outputs": [],
   "source": [
    "# Basic\n",
    "import re\n",
    "import numpy as np\n",
    "import pandas as pd\n",
    "# Plotting\n",
    "import matplotlib.pyplot as plt\n",
    "import seaborn as sns\n",
    "import plotly.express as px\n",
    "import plotly.graph_objects as go\n",
    "from plotly.subplots import make_subplots\n",
    "# Machine Learning\n",
    "from sklearn.model_selection import train_test_split\n",
    "# Text preprocessing\n",
    "from nltk.corpus import stopwords\n",
    "from nltk.tokenize import word_tokenize, TweetTokenizer\n",
    "from nltk.stem import PorterStemmer, SnowballStemmer, WordNetLemmatizer\n",
    "# Other\n",
    "from tqdm.notebook import tqdm\n",
    "import warnings\n",
    "warnings.filterwarnings('ignore')"
   ]
  },
  {
   "cell_type": "markdown",
   "metadata": {},
   "source": [
    "## 1: EDA"
   ]
  },
  {
   "cell_type": "code",
   "execution_count": 61,
   "metadata": {},
   "outputs": [
    {
     "data": {
      "text/plain": [
       "(8675, 2)"
      ]
     },
     "execution_count": 61,
     "metadata": {},
     "output_type": "execute_result"
    }
   ],
   "source": [
    "data = pd.read_csv('../data/Kaggle_MBTI.csv')\n",
    "data.shape"
   ]
  },
  {
   "cell_type": "code",
   "execution_count": 62,
   "metadata": {},
   "outputs": [
    {
     "name": "stdout",
     "output_type": "stream",
     "text": [
      "<class 'pandas.core.frame.DataFrame'>\n",
      "RangeIndex: 8675 entries, 0 to 8674\n",
      "Data columns (total 2 columns):\n",
      " #   Column  Non-Null Count  Dtype \n",
      "---  ------  --------------  ----- \n",
      " 0   type    8675 non-null   object\n",
      " 1   posts   8675 non-null   object\n",
      "dtypes: object(2)\n",
      "memory usage: 135.7+ KB\n"
     ]
    }
   ],
   "source": [
    "data.info()"
   ]
  },
  {
   "cell_type": "code",
   "execution_count": 63,
   "metadata": {},
   "outputs": [
    {
     "data": {
      "text/html": [
       "<div>\n",
       "<style scoped>\n",
       "    .dataframe tbody tr th:only-of-type {\n",
       "        vertical-align: middle;\n",
       "    }\n",
       "\n",
       "    .dataframe tbody tr th {\n",
       "        vertical-align: top;\n",
       "    }\n",
       "\n",
       "    .dataframe thead th {\n",
       "        text-align: right;\n",
       "    }\n",
       "</style>\n",
       "<table border=\"1\" class=\"dataframe\">\n",
       "  <thead>\n",
       "    <tr style=\"text-align: right;\">\n",
       "      <th></th>\n",
       "      <th>type</th>\n",
       "      <th>posts</th>\n",
       "    </tr>\n",
       "  </thead>\n",
       "  <tbody>\n",
       "    <tr>\n",
       "      <th>0</th>\n",
       "      <td>INFJ</td>\n",
       "      <td>'http://www.youtube.com/watch?v=qsXHcwe3krw|||...</td>\n",
       "    </tr>\n",
       "    <tr>\n",
       "      <th>1</th>\n",
       "      <td>ENTP</td>\n",
       "      <td>'I'm finding the lack of me in these posts ver...</td>\n",
       "    </tr>\n",
       "    <tr>\n",
       "      <th>2</th>\n",
       "      <td>INTP</td>\n",
       "      <td>'Good one  _____   https://www.youtube.com/wat...</td>\n",
       "    </tr>\n",
       "    <tr>\n",
       "      <th>3</th>\n",
       "      <td>INTJ</td>\n",
       "      <td>'Dear INTP,   I enjoyed our conversation the o...</td>\n",
       "    </tr>\n",
       "    <tr>\n",
       "      <th>4</th>\n",
       "      <td>ENTJ</td>\n",
       "      <td>'You're fired.|||That's another silly misconce...</td>\n",
       "    </tr>\n",
       "  </tbody>\n",
       "</table>\n",
       "</div>"
      ],
      "text/plain": [
       "   type                                              posts\n",
       "0  INFJ  'http://www.youtube.com/watch?v=qsXHcwe3krw|||...\n",
       "1  ENTP  'I'm finding the lack of me in these posts ver...\n",
       "2  INTP  'Good one  _____   https://www.youtube.com/wat...\n",
       "3  INTJ  'Dear INTP,   I enjoyed our conversation the o...\n",
       "4  ENTJ  'You're fired.|||That's another silly misconce..."
      ]
     },
     "execution_count": 63,
     "metadata": {},
     "output_type": "execute_result"
    }
   ],
   "source": [
    "data.head()"
   ]
  },
  {
   "cell_type": "code",
   "execution_count": 64,
   "metadata": {},
   "outputs": [
    {
     "data": {
      "text/html": [
       "<style  type=\"text/css\" >\n",
       "    #T_f0366_ th {\n",
       "          text-align: left;\n",
       "    }    #T_f0366_ td {\n",
       "          text-align: left;\n",
       "    }</style><table id=\"T_f0366_\" ><thead>    <tr>        <th class=\"blank level0\" ></th>        <th class=\"col_heading level0 col0\" >post</th>    </tr></thead><tbody>\n",
       "                <tr>\n",
       "                        <th id=\"T_f0366_level0_row0\" class=\"row_heading level0 row0\" >44</th>\n",
       "                        <td id=\"T_f0366_row0_col0\" class=\"data row0 col0\" >http://www.youtube.com/watch?v=w8IgImn57aQ</td>\n",
       "            </tr>\n",
       "            <tr>\n",
       "                        <th id=\"T_f0366_level0_row1\" class=\"row_heading level0 row1\" >27</th>\n",
       "                        <td id=\"T_f0366_row1_col0\" class=\"data row1 col0\" >http://www.youtube.com/watch?v=4V2uYORhQOk</td>\n",
       "            </tr>\n",
       "            <tr>\n",
       "                        <th id=\"T_f0366_level0_row2\" class=\"row_heading level0 row2\" >11</th>\n",
       "                        <td id=\"T_f0366_row2_col0\" class=\"data row2 col0\" >Prozac, wellbrutin, at least thirty minutes of moving your legs (and I don't mean moving them while sitting in your same desk chair), weed in moderation (maybe try edibles as a healthier alternative...</td>\n",
       "            </tr>\n",
       "            <tr>\n",
       "                        <th id=\"T_f0366_level0_row3\" class=\"row_heading level0 row3\" >6</th>\n",
       "                        <td id=\"T_f0366_row3_col0\" class=\"data row3 col0\" >The last thing my INFJ friend posted on his facebook before committing suicide the next day. Rest in peace~   http://vimeo.com/22842206</td>\n",
       "            </tr>\n",
       "            <tr>\n",
       "                        <th id=\"T_f0366_level0_row4\" class=\"row_heading level0 row4\" >37</th>\n",
       "                        <td id=\"T_f0366_row4_col0\" class=\"data row4 col0\" >http://www.youtube.com/watch?v=ZRCEq_JFeFM</td>\n",
       "            </tr>\n",
       "            <tr>\n",
       "                        <th id=\"T_f0366_level0_row5\" class=\"row_heading level0 row5\" >41</th>\n",
       "                        <td id=\"T_f0366_row5_col0\" class=\"data row5 col0\" >Not all artists are artists because they draw. It's the idea that counts in forming something of your own... like a signature.</td>\n",
       "            </tr>\n",
       "            <tr>\n",
       "                        <th id=\"T_f0366_level0_row6\" class=\"row_heading level0 row6\" >33</th>\n",
       "                        <td id=\"T_f0366_row6_col0\" class=\"data row6 col0\" >http://www.youtube.com/watch?v=IRcrv41hgz4</td>\n",
       "            </tr>\n",
       "            <tr>\n",
       "                        <th id=\"T_f0366_level0_row7\" class=\"row_heading level0 row7\" >28</th>\n",
       "                        <td id=\"T_f0366_row7_col0\" class=\"data row7 col0\" >http://www.youtube.com/watch?v=SlVmgFQQ0TI</td>\n",
       "            </tr>\n",
       "            <tr>\n",
       "                        <th id=\"T_f0366_level0_row8\" class=\"row_heading level0 row8\" >45</th>\n",
       "                        <td id=\"T_f0366_row8_col0\" class=\"data row8 col0\" >Banned for being too much of a thundering, grumbling kind of storm... yep.</td>\n",
       "            </tr>\n",
       "            <tr>\n",
       "                        <th id=\"T_f0366_level0_row9\" class=\"row_heading level0 row9\" >38</th>\n",
       "                        <td id=\"T_f0366_row9_col0\" class=\"data row9 col0\" >http://discovermagazine.com/2012/jul-aug/20-things-you-didnt-know-about-deserts/desert.jpg</td>\n",
       "            </tr>\n",
       "    </tbody></table>"
      ],
      "text/plain": [
       "<pandas.io.formats.style.Styler at 0x7fb582628d30>"
      ]
     },
     "execution_count": 64,
     "metadata": {},
     "output_type": "execute_result"
    }
   ],
   "source": [
    "# Show some posts of the first user\n",
    "user1post = [post.split('|||') for post in data.head(1).posts.values]  # list\n",
    "user1post_random = pd.DataFrame(\n",
    "\tdata=np.array(user1post).transpose(),\n",
    "\tcolumns=['post']).sample(10)\n",
    "user1post_random.style.set_table_styles([\n",
    "\t{'selector': 'th', 'props': [('text-align', 'left')]},\n",
    "\t{'selector': 'td', 'props': [('text-align', 'left')]}\n",
    "\t], overwrite=False)"
   ]
  },
  {
   "cell_type": "code",
   "execution_count": 65,
   "metadata": {},
   "outputs": [
    {
     "data": {
      "text/html": [
       "<div>\n",
       "<style scoped>\n",
       "    .dataframe tbody tr th:only-of-type {\n",
       "        vertical-align: middle;\n",
       "    }\n",
       "\n",
       "    .dataframe tbody tr th {\n",
       "        vertical-align: top;\n",
       "    }\n",
       "\n",
       "    .dataframe thead th {\n",
       "        text-align: right;\n",
       "    }\n",
       "</style>\n",
       "<table border=\"1\" class=\"dataframe\">\n",
       "  <thead>\n",
       "    <tr style=\"text-align: right;\">\n",
       "      <th></th>\n",
       "      <th>type</th>\n",
       "      <th>posts</th>\n",
       "    </tr>\n",
       "  </thead>\n",
       "  <tbody>\n",
       "    <tr>\n",
       "      <th>0</th>\n",
       "      <td>INFJ</td>\n",
       "      <td>'http://www.youtube.com/watch?v=qsXHcwe3krw|||...</td>\n",
       "    </tr>\n",
       "    <tr>\n",
       "      <th>1</th>\n",
       "      <td>ENTP</td>\n",
       "      <td>'I'm finding the lack of me in these posts ver...</td>\n",
       "    </tr>\n",
       "    <tr>\n",
       "      <th>2</th>\n",
       "      <td>INTP</td>\n",
       "      <td>'Good one  _____   https://www.youtube.com/wat...</td>\n",
       "    </tr>\n",
       "    <tr>\n",
       "      <th>3</th>\n",
       "      <td>INTJ</td>\n",
       "      <td>'Dear INTP,   I enjoyed our conversation the o...</td>\n",
       "    </tr>\n",
       "    <tr>\n",
       "      <th>4</th>\n",
       "      <td>ENTJ</td>\n",
       "      <td>'You're fired.|||That's another silly misconce...</td>\n",
       "    </tr>\n",
       "    <tr>\n",
       "      <th>...</th>\n",
       "      <td>...</td>\n",
       "      <td>...</td>\n",
       "    </tr>\n",
       "    <tr>\n",
       "      <th>8667</th>\n",
       "      <td>ENTP</td>\n",
       "      <td>'I think generally people experience post trau...</td>\n",
       "    </tr>\n",
       "    <tr>\n",
       "      <th>8669</th>\n",
       "      <td>INFJ</td>\n",
       "      <td>'I'm not sure about a method for picking out I...</td>\n",
       "    </tr>\n",
       "    <tr>\n",
       "      <th>8670</th>\n",
       "      <td>ISFP</td>\n",
       "      <td>'https://www.youtube.com/watch?v=t8edHB_h908||...</td>\n",
       "    </tr>\n",
       "    <tr>\n",
       "      <th>8672</th>\n",
       "      <td>INTP</td>\n",
       "      <td>'So many questions when i do these things.  I ...</td>\n",
       "    </tr>\n",
       "    <tr>\n",
       "      <th>8674</th>\n",
       "      <td>INFP</td>\n",
       "      <td>'It has been too long since I have been on per...</td>\n",
       "    </tr>\n",
       "  </tbody>\n",
       "</table>\n",
       "<p>4537 rows × 2 columns</p>\n",
       "</div>"
      ],
      "text/plain": [
       "      type                                              posts\n",
       "0     INFJ  'http://www.youtube.com/watch?v=qsXHcwe3krw|||...\n",
       "1     ENTP  'I'm finding the lack of me in these posts ver...\n",
       "2     INTP  'Good one  _____   https://www.youtube.com/wat...\n",
       "3     INTJ  'Dear INTP,   I enjoyed our conversation the o...\n",
       "4     ENTJ  'You're fired.|||That's another silly misconce...\n",
       "...    ...                                                ...\n",
       "8667  ENTP  'I think generally people experience post trau...\n",
       "8669  INFJ  'I'm not sure about a method for picking out I...\n",
       "8670  ISFP  'https://www.youtube.com/watch?v=t8edHB_h908||...\n",
       "8672  INTP  'So many questions when i do these things.  I ...\n",
       "8674  INFP  'It has been too long since I have been on per...\n",
       "\n",
       "[4537 rows x 2 columns]"
      ]
     },
     "execution_count": 65,
     "metadata": {},
     "output_type": "execute_result"
    }
   ],
   "source": [
    "# There are many records contains URL\n",
    "search_URL = data.loc[data['posts'].str.contains(\"www\", case=True)]\n",
    "search_URL"
   ]
  },
  {
   "cell_type": "code",
   "execution_count": 66,
   "metadata": {},
   "outputs": [
    {
     "data": {
      "application/vnd.plotly.v1+json": {
       "config": {
        "plotlyServerURL": "https://plot.ly"
       },
       "data": [
        {
         "alignmentgroup": "True",
         "hovertemplate": "type=%{x}<br>counts=%{y}<extra></extra>",
         "legendgroup": "INFP",
         "marker": {
          "color": "rgb(92, 83, 165)",
          "pattern": {
           "shape": ""
          }
         },
         "name": "INFP",
         "offsetgroup": "INFP",
         "orientation": "v",
         "showlegend": true,
         "textposition": "auto",
         "type": "bar",
         "x": [
          "INFP"
         ],
         "xaxis": "x",
         "y": [
          1832
         ],
         "yaxis": "y"
        },
        {
         "alignmentgroup": "True",
         "hovertemplate": "type=%{x}<br>counts=%{y}<extra></extra>",
         "legendgroup": "INFJ",
         "marker": {
          "color": "rgb(160, 89, 160)",
          "pattern": {
           "shape": ""
          }
         },
         "name": "INFJ",
         "offsetgroup": "INFJ",
         "orientation": "v",
         "showlegend": true,
         "textposition": "auto",
         "type": "bar",
         "x": [
          "INFJ"
         ],
         "xaxis": "x",
         "y": [
          1470
         ],
         "yaxis": "y"
        },
        {
         "alignmentgroup": "True",
         "hovertemplate": "type=%{x}<br>counts=%{y}<extra></extra>",
         "legendgroup": "INTP",
         "marker": {
          "color": "rgb(206, 102, 147)",
          "pattern": {
           "shape": ""
          }
         },
         "name": "INTP",
         "offsetgroup": "INTP",
         "orientation": "v",
         "showlegend": true,
         "textposition": "auto",
         "type": "bar",
         "x": [
          "INTP"
         ],
         "xaxis": "x",
         "y": [
          1304
         ],
         "yaxis": "y"
        },
        {
         "alignmentgroup": "True",
         "hovertemplate": "type=%{x}<br>counts=%{y}<extra></extra>",
         "legendgroup": "INTJ",
         "marker": {
          "color": "rgb(235, 127, 134)",
          "pattern": {
           "shape": ""
          }
         },
         "name": "INTJ",
         "offsetgroup": "INTJ",
         "orientation": "v",
         "showlegend": true,
         "textposition": "auto",
         "type": "bar",
         "x": [
          "INTJ"
         ],
         "xaxis": "x",
         "y": [
          1091
         ],
         "yaxis": "y"
        },
        {
         "alignmentgroup": "True",
         "hovertemplate": "type=%{x}<br>counts=%{y}<extra></extra>",
         "legendgroup": "ENTP",
         "marker": {
          "color": "rgb(248, 160, 126)",
          "pattern": {
           "shape": ""
          }
         },
         "name": "ENTP",
         "offsetgroup": "ENTP",
         "orientation": "v",
         "showlegend": true,
         "textposition": "auto",
         "type": "bar",
         "x": [
          "ENTP"
         ],
         "xaxis": "x",
         "y": [
          685
         ],
         "yaxis": "y"
        },
        {
         "alignmentgroup": "True",
         "hovertemplate": "type=%{x}<br>counts=%{y}<extra></extra>",
         "legendgroup": "ENFP",
         "marker": {
          "color": "rgb(250, 196, 132)",
          "pattern": {
           "shape": ""
          }
         },
         "name": "ENFP",
         "offsetgroup": "ENFP",
         "orientation": "v",
         "showlegend": true,
         "textposition": "auto",
         "type": "bar",
         "x": [
          "ENFP"
         ],
         "xaxis": "x",
         "y": [
          675
         ],
         "yaxis": "y"
        },
        {
         "alignmentgroup": "True",
         "hovertemplate": "type=%{x}<br>counts=%{y}<extra></extra>",
         "legendgroup": "ISTP",
         "marker": {
          "color": "rgb(243, 231, 155)",
          "pattern": {
           "shape": ""
          }
         },
         "name": "ISTP",
         "offsetgroup": "ISTP",
         "orientation": "v",
         "showlegend": true,
         "textposition": "auto",
         "type": "bar",
         "x": [
          "ISTP"
         ],
         "xaxis": "x",
         "y": [
          337
         ],
         "yaxis": "y"
        },
        {
         "alignmentgroup": "True",
         "hovertemplate": "type=%{x}<br>counts=%{y}<extra></extra>",
         "legendgroup": "ISFP",
         "marker": {
          "color": "rgb(92, 83, 165)",
          "pattern": {
           "shape": ""
          }
         },
         "name": "ISFP",
         "offsetgroup": "ISFP",
         "orientation": "v",
         "showlegend": true,
         "textposition": "auto",
         "type": "bar",
         "x": [
          "ISFP"
         ],
         "xaxis": "x",
         "y": [
          271
         ],
         "yaxis": "y"
        },
        {
         "alignmentgroup": "True",
         "hovertemplate": "type=%{x}<br>counts=%{y}<extra></extra>",
         "legendgroup": "ENTJ",
         "marker": {
          "color": "rgb(160, 89, 160)",
          "pattern": {
           "shape": ""
          }
         },
         "name": "ENTJ",
         "offsetgroup": "ENTJ",
         "orientation": "v",
         "showlegend": true,
         "textposition": "auto",
         "type": "bar",
         "x": [
          "ENTJ"
         ],
         "xaxis": "x",
         "y": [
          231
         ],
         "yaxis": "y"
        },
        {
         "alignmentgroup": "True",
         "hovertemplate": "type=%{x}<br>counts=%{y}<extra></extra>",
         "legendgroup": "ISTJ",
         "marker": {
          "color": "rgb(206, 102, 147)",
          "pattern": {
           "shape": ""
          }
         },
         "name": "ISTJ",
         "offsetgroup": "ISTJ",
         "orientation": "v",
         "showlegend": true,
         "textposition": "auto",
         "type": "bar",
         "x": [
          "ISTJ"
         ],
         "xaxis": "x",
         "y": [
          205
         ],
         "yaxis": "y"
        },
        {
         "alignmentgroup": "True",
         "hovertemplate": "type=%{x}<br>counts=%{y}<extra></extra>",
         "legendgroup": "ENFJ",
         "marker": {
          "color": "rgb(235, 127, 134)",
          "pattern": {
           "shape": ""
          }
         },
         "name": "ENFJ",
         "offsetgroup": "ENFJ",
         "orientation": "v",
         "showlegend": true,
         "textposition": "auto",
         "type": "bar",
         "x": [
          "ENFJ"
         ],
         "xaxis": "x",
         "y": [
          190
         ],
         "yaxis": "y"
        },
        {
         "alignmentgroup": "True",
         "hovertemplate": "type=%{x}<br>counts=%{y}<extra></extra>",
         "legendgroup": "ISFJ",
         "marker": {
          "color": "rgb(248, 160, 126)",
          "pattern": {
           "shape": ""
          }
         },
         "name": "ISFJ",
         "offsetgroup": "ISFJ",
         "orientation": "v",
         "showlegend": true,
         "textposition": "auto",
         "type": "bar",
         "x": [
          "ISFJ"
         ],
         "xaxis": "x",
         "y": [
          166
         ],
         "yaxis": "y"
        },
        {
         "alignmentgroup": "True",
         "hovertemplate": "type=%{x}<br>counts=%{y}<extra></extra>",
         "legendgroup": "ESTP",
         "marker": {
          "color": "rgb(250, 196, 132)",
          "pattern": {
           "shape": ""
          }
         },
         "name": "ESTP",
         "offsetgroup": "ESTP",
         "orientation": "v",
         "showlegend": true,
         "textposition": "auto",
         "type": "bar",
         "x": [
          "ESTP"
         ],
         "xaxis": "x",
         "y": [
          89
         ],
         "yaxis": "y"
        },
        {
         "alignmentgroup": "True",
         "hovertemplate": "type=%{x}<br>counts=%{y}<extra></extra>",
         "legendgroup": "ESFP",
         "marker": {
          "color": "rgb(243, 231, 155)",
          "pattern": {
           "shape": ""
          }
         },
         "name": "ESFP",
         "offsetgroup": "ESFP",
         "orientation": "v",
         "showlegend": true,
         "textposition": "auto",
         "type": "bar",
         "x": [
          "ESFP"
         ],
         "xaxis": "x",
         "y": [
          48
         ],
         "yaxis": "y"
        },
        {
         "alignmentgroup": "True",
         "hovertemplate": "type=%{x}<br>counts=%{y}<extra></extra>",
         "legendgroup": "ESFJ",
         "marker": {
          "color": "rgb(92, 83, 165)",
          "pattern": {
           "shape": ""
          }
         },
         "name": "ESFJ",
         "offsetgroup": "ESFJ",
         "orientation": "v",
         "showlegend": true,
         "textposition": "auto",
         "type": "bar",
         "x": [
          "ESFJ"
         ],
         "xaxis": "x",
         "y": [
          42
         ],
         "yaxis": "y"
        },
        {
         "alignmentgroup": "True",
         "hovertemplate": "type=%{x}<br>counts=%{y}<extra></extra>",
         "legendgroup": "ESTJ",
         "marker": {
          "color": "rgb(160, 89, 160)",
          "pattern": {
           "shape": ""
          }
         },
         "name": "ESTJ",
         "offsetgroup": "ESTJ",
         "orientation": "v",
         "showlegend": true,
         "textposition": "auto",
         "type": "bar",
         "x": [
          "ESTJ"
         ],
         "xaxis": "x",
         "y": [
          39
         ],
         "yaxis": "y"
        }
       ],
       "layout": {
        "barmode": "relative",
        "height": 600,
        "legend": {
         "title": {
          "text": "type"
         },
         "tracegroupgap": 0
        },
        "template": {
         "data": {
          "bar": [
           {
            "error_x": {
             "color": "#2a3f5f"
            },
            "error_y": {
             "color": "#2a3f5f"
            },
            "marker": {
             "line": {
              "color": "#E5ECF6",
              "width": 0.5
             },
             "pattern": {
              "fillmode": "overlay",
              "size": 10,
              "solidity": 0.2
             }
            },
            "type": "bar"
           }
          ],
          "barpolar": [
           {
            "marker": {
             "line": {
              "color": "#E5ECF6",
              "width": 0.5
             },
             "pattern": {
              "fillmode": "overlay",
              "size": 10,
              "solidity": 0.2
             }
            },
            "type": "barpolar"
           }
          ],
          "carpet": [
           {
            "aaxis": {
             "endlinecolor": "#2a3f5f",
             "gridcolor": "white",
             "linecolor": "white",
             "minorgridcolor": "white",
             "startlinecolor": "#2a3f5f"
            },
            "baxis": {
             "endlinecolor": "#2a3f5f",
             "gridcolor": "white",
             "linecolor": "white",
             "minorgridcolor": "white",
             "startlinecolor": "#2a3f5f"
            },
            "type": "carpet"
           }
          ],
          "choropleth": [
           {
            "colorbar": {
             "outlinewidth": 0,
             "ticks": ""
            },
            "type": "choropleth"
           }
          ],
          "contour": [
           {
            "colorbar": {
             "outlinewidth": 0,
             "ticks": ""
            },
            "colorscale": [
             [
              0,
              "#0d0887"
             ],
             [
              0.1111111111111111,
              "#46039f"
             ],
             [
              0.2222222222222222,
              "#7201a8"
             ],
             [
              0.3333333333333333,
              "#9c179e"
             ],
             [
              0.4444444444444444,
              "#bd3786"
             ],
             [
              0.5555555555555556,
              "#d8576b"
             ],
             [
              0.6666666666666666,
              "#ed7953"
             ],
             [
              0.7777777777777778,
              "#fb9f3a"
             ],
             [
              0.8888888888888888,
              "#fdca26"
             ],
             [
              1,
              "#f0f921"
             ]
            ],
            "type": "contour"
           }
          ],
          "contourcarpet": [
           {
            "colorbar": {
             "outlinewidth": 0,
             "ticks": ""
            },
            "type": "contourcarpet"
           }
          ],
          "heatmap": [
           {
            "colorbar": {
             "outlinewidth": 0,
             "ticks": ""
            },
            "colorscale": [
             [
              0,
              "#0d0887"
             ],
             [
              0.1111111111111111,
              "#46039f"
             ],
             [
              0.2222222222222222,
              "#7201a8"
             ],
             [
              0.3333333333333333,
              "#9c179e"
             ],
             [
              0.4444444444444444,
              "#bd3786"
             ],
             [
              0.5555555555555556,
              "#d8576b"
             ],
             [
              0.6666666666666666,
              "#ed7953"
             ],
             [
              0.7777777777777778,
              "#fb9f3a"
             ],
             [
              0.8888888888888888,
              "#fdca26"
             ],
             [
              1,
              "#f0f921"
             ]
            ],
            "type": "heatmap"
           }
          ],
          "heatmapgl": [
           {
            "colorbar": {
             "outlinewidth": 0,
             "ticks": ""
            },
            "colorscale": [
             [
              0,
              "#0d0887"
             ],
             [
              0.1111111111111111,
              "#46039f"
             ],
             [
              0.2222222222222222,
              "#7201a8"
             ],
             [
              0.3333333333333333,
              "#9c179e"
             ],
             [
              0.4444444444444444,
              "#bd3786"
             ],
             [
              0.5555555555555556,
              "#d8576b"
             ],
             [
              0.6666666666666666,
              "#ed7953"
             ],
             [
              0.7777777777777778,
              "#fb9f3a"
             ],
             [
              0.8888888888888888,
              "#fdca26"
             ],
             [
              1,
              "#f0f921"
             ]
            ],
            "type": "heatmapgl"
           }
          ],
          "histogram": [
           {
            "marker": {
             "pattern": {
              "fillmode": "overlay",
              "size": 10,
              "solidity": 0.2
             }
            },
            "type": "histogram"
           }
          ],
          "histogram2d": [
           {
            "colorbar": {
             "outlinewidth": 0,
             "ticks": ""
            },
            "colorscale": [
             [
              0,
              "#0d0887"
             ],
             [
              0.1111111111111111,
              "#46039f"
             ],
             [
              0.2222222222222222,
              "#7201a8"
             ],
             [
              0.3333333333333333,
              "#9c179e"
             ],
             [
              0.4444444444444444,
              "#bd3786"
             ],
             [
              0.5555555555555556,
              "#d8576b"
             ],
             [
              0.6666666666666666,
              "#ed7953"
             ],
             [
              0.7777777777777778,
              "#fb9f3a"
             ],
             [
              0.8888888888888888,
              "#fdca26"
             ],
             [
              1,
              "#f0f921"
             ]
            ],
            "type": "histogram2d"
           }
          ],
          "histogram2dcontour": [
           {
            "colorbar": {
             "outlinewidth": 0,
             "ticks": ""
            },
            "colorscale": [
             [
              0,
              "#0d0887"
             ],
             [
              0.1111111111111111,
              "#46039f"
             ],
             [
              0.2222222222222222,
              "#7201a8"
             ],
             [
              0.3333333333333333,
              "#9c179e"
             ],
             [
              0.4444444444444444,
              "#bd3786"
             ],
             [
              0.5555555555555556,
              "#d8576b"
             ],
             [
              0.6666666666666666,
              "#ed7953"
             ],
             [
              0.7777777777777778,
              "#fb9f3a"
             ],
             [
              0.8888888888888888,
              "#fdca26"
             ],
             [
              1,
              "#f0f921"
             ]
            ],
            "type": "histogram2dcontour"
           }
          ],
          "mesh3d": [
           {
            "colorbar": {
             "outlinewidth": 0,
             "ticks": ""
            },
            "type": "mesh3d"
           }
          ],
          "parcoords": [
           {
            "line": {
             "colorbar": {
              "outlinewidth": 0,
              "ticks": ""
             }
            },
            "type": "parcoords"
           }
          ],
          "pie": [
           {
            "automargin": true,
            "type": "pie"
           }
          ],
          "scatter": [
           {
            "fillpattern": {
             "fillmode": "overlay",
             "size": 10,
             "solidity": 0.2
            },
            "type": "scatter"
           }
          ],
          "scatter3d": [
           {
            "line": {
             "colorbar": {
              "outlinewidth": 0,
              "ticks": ""
             }
            },
            "marker": {
             "colorbar": {
              "outlinewidth": 0,
              "ticks": ""
             }
            },
            "type": "scatter3d"
           }
          ],
          "scattercarpet": [
           {
            "marker": {
             "colorbar": {
              "outlinewidth": 0,
              "ticks": ""
             }
            },
            "type": "scattercarpet"
           }
          ],
          "scattergeo": [
           {
            "marker": {
             "colorbar": {
              "outlinewidth": 0,
              "ticks": ""
             }
            },
            "type": "scattergeo"
           }
          ],
          "scattergl": [
           {
            "marker": {
             "colorbar": {
              "outlinewidth": 0,
              "ticks": ""
             }
            },
            "type": "scattergl"
           }
          ],
          "scattermapbox": [
           {
            "marker": {
             "colorbar": {
              "outlinewidth": 0,
              "ticks": ""
             }
            },
            "type": "scattermapbox"
           }
          ],
          "scatterpolar": [
           {
            "marker": {
             "colorbar": {
              "outlinewidth": 0,
              "ticks": ""
             }
            },
            "type": "scatterpolar"
           }
          ],
          "scatterpolargl": [
           {
            "marker": {
             "colorbar": {
              "outlinewidth": 0,
              "ticks": ""
             }
            },
            "type": "scatterpolargl"
           }
          ],
          "scatterternary": [
           {
            "marker": {
             "colorbar": {
              "outlinewidth": 0,
              "ticks": ""
             }
            },
            "type": "scatterternary"
           }
          ],
          "surface": [
           {
            "colorbar": {
             "outlinewidth": 0,
             "ticks": ""
            },
            "colorscale": [
             [
              0,
              "#0d0887"
             ],
             [
              0.1111111111111111,
              "#46039f"
             ],
             [
              0.2222222222222222,
              "#7201a8"
             ],
             [
              0.3333333333333333,
              "#9c179e"
             ],
             [
              0.4444444444444444,
              "#bd3786"
             ],
             [
              0.5555555555555556,
              "#d8576b"
             ],
             [
              0.6666666666666666,
              "#ed7953"
             ],
             [
              0.7777777777777778,
              "#fb9f3a"
             ],
             [
              0.8888888888888888,
              "#fdca26"
             ],
             [
              1,
              "#f0f921"
             ]
            ],
            "type": "surface"
           }
          ],
          "table": [
           {
            "cells": {
             "fill": {
              "color": "#EBF0F8"
             },
             "line": {
              "color": "white"
             }
            },
            "header": {
             "fill": {
              "color": "#C8D4E3"
             },
             "line": {
              "color": "white"
             }
            },
            "type": "table"
           }
          ]
         },
         "layout": {
          "annotationdefaults": {
           "arrowcolor": "#2a3f5f",
           "arrowhead": 0,
           "arrowwidth": 1
          },
          "autotypenumbers": "strict",
          "coloraxis": {
           "colorbar": {
            "outlinewidth": 0,
            "ticks": ""
           }
          },
          "colorscale": {
           "diverging": [
            [
             0,
             "#8e0152"
            ],
            [
             0.1,
             "#c51b7d"
            ],
            [
             0.2,
             "#de77ae"
            ],
            [
             0.3,
             "#f1b6da"
            ],
            [
             0.4,
             "#fde0ef"
            ],
            [
             0.5,
             "#f7f7f7"
            ],
            [
             0.6,
             "#e6f5d0"
            ],
            [
             0.7,
             "#b8e186"
            ],
            [
             0.8,
             "#7fbc41"
            ],
            [
             0.9,
             "#4d9221"
            ],
            [
             1,
             "#276419"
            ]
           ],
           "sequential": [
            [
             0,
             "#0d0887"
            ],
            [
             0.1111111111111111,
             "#46039f"
            ],
            [
             0.2222222222222222,
             "#7201a8"
            ],
            [
             0.3333333333333333,
             "#9c179e"
            ],
            [
             0.4444444444444444,
             "#bd3786"
            ],
            [
             0.5555555555555556,
             "#d8576b"
            ],
            [
             0.6666666666666666,
             "#ed7953"
            ],
            [
             0.7777777777777778,
             "#fb9f3a"
            ],
            [
             0.8888888888888888,
             "#fdca26"
            ],
            [
             1,
             "#f0f921"
            ]
           ],
           "sequentialminus": [
            [
             0,
             "#0d0887"
            ],
            [
             0.1111111111111111,
             "#46039f"
            ],
            [
             0.2222222222222222,
             "#7201a8"
            ],
            [
             0.3333333333333333,
             "#9c179e"
            ],
            [
             0.4444444444444444,
             "#bd3786"
            ],
            [
             0.5555555555555556,
             "#d8576b"
            ],
            [
             0.6666666666666666,
             "#ed7953"
            ],
            [
             0.7777777777777778,
             "#fb9f3a"
            ],
            [
             0.8888888888888888,
             "#fdca26"
            ],
            [
             1,
             "#f0f921"
            ]
           ]
          },
          "colorway": [
           "#636efa",
           "#EF553B",
           "#00cc96",
           "#ab63fa",
           "#FFA15A",
           "#19d3f3",
           "#FF6692",
           "#B6E880",
           "#FF97FF",
           "#FECB52"
          ],
          "font": {
           "color": "#2a3f5f"
          },
          "geo": {
           "bgcolor": "white",
           "lakecolor": "white",
           "landcolor": "#E5ECF6",
           "showlakes": true,
           "showland": true,
           "subunitcolor": "white"
          },
          "hoverlabel": {
           "align": "left"
          },
          "hovermode": "closest",
          "mapbox": {
           "style": "light"
          },
          "paper_bgcolor": "white",
          "plot_bgcolor": "#E5ECF6",
          "polar": {
           "angularaxis": {
            "gridcolor": "white",
            "linecolor": "white",
            "ticks": ""
           },
           "bgcolor": "#E5ECF6",
           "radialaxis": {
            "gridcolor": "white",
            "linecolor": "white",
            "ticks": ""
           }
          },
          "scene": {
           "xaxis": {
            "backgroundcolor": "#E5ECF6",
            "gridcolor": "white",
            "gridwidth": 2,
            "linecolor": "white",
            "showbackground": true,
            "ticks": "",
            "zerolinecolor": "white"
           },
           "yaxis": {
            "backgroundcolor": "#E5ECF6",
            "gridcolor": "white",
            "gridwidth": 2,
            "linecolor": "white",
            "showbackground": true,
            "ticks": "",
            "zerolinecolor": "white"
           },
           "zaxis": {
            "backgroundcolor": "#E5ECF6",
            "gridcolor": "white",
            "gridwidth": 2,
            "linecolor": "white",
            "showbackground": true,
            "ticks": "",
            "zerolinecolor": "white"
           }
          },
          "shapedefaults": {
           "line": {
            "color": "#2a3f5f"
           }
          },
          "ternary": {
           "aaxis": {
            "gridcolor": "white",
            "linecolor": "white",
            "ticks": ""
           },
           "baxis": {
            "gridcolor": "white",
            "linecolor": "white",
            "ticks": ""
           },
           "bgcolor": "#E5ECF6",
           "caxis": {
            "gridcolor": "white",
            "linecolor": "white",
            "ticks": ""
           }
          },
          "title": {
           "x": 0.05
          },
          "xaxis": {
           "automargin": true,
           "gridcolor": "white",
           "linecolor": "white",
           "ticks": "",
           "title": {
            "standoff": 15
           },
           "zerolinecolor": "white",
           "zerolinewidth": 2
          },
          "yaxis": {
           "automargin": true,
           "gridcolor": "white",
           "linecolor": "white",
           "ticks": "",
           "title": {
            "standoff": 15
           },
           "zerolinecolor": "white",
           "zerolinewidth": 2
          }
         }
        },
        "title": {
         "text": "Type count"
        },
        "width": 1000,
        "xaxis": {
         "anchor": "y",
         "categoryarray": [
          "INFP",
          "INFJ",
          "INTP",
          "INTJ",
          "ENTP",
          "ENFP",
          "ISTP",
          "ISFP",
          "ENTJ",
          "ISTJ",
          "ENFJ",
          "ISFJ",
          "ESTP",
          "ESFP",
          "ESFJ",
          "ESTJ"
         ],
         "categoryorder": "array",
         "domain": [
          0,
          1
         ],
         "title": {
          "text": "type"
         }
        },
        "yaxis": {
         "anchor": "x",
         "domain": [
          0,
          1
         ],
         "title": {
          "text": "counts"
         }
        }
       }
      }
     },
     "metadata": {},
     "output_type": "display_data"
    }
   ],
   "source": [
    "color = px.colors.sequential.Sunset_r\n",
    "df_count = data['type'].value_counts()\n",
    "df_count = df_count.rename_axis('type').reset_index(name='counts')\n",
    "fig = px.bar(df_count, x='type', y='counts',\n",
    "color='type', color_discrete_sequence=color,\n",
    "title='Type count',\n",
    "width=1000,\n",
    "height=600)\n",
    "fig.show()"
   ]
  },
  {
   "cell_type": "code",
   "execution_count": 67,
   "metadata": {},
   "outputs": [],
   "source": [
    "# Stratify split to ensure equal distribution of data\n",
    "train_data, test_data = train_test_split(data,\n",
    "\ttest_size=0.2,\n",
    "\trandom_state=42,\n",
    "\tstratify=data.type)"
   ]
  },
  {
   "cell_type": "code",
   "execution_count": 68,
   "metadata": {},
   "outputs": [
    {
     "data": {
      "text/html": [
       "<div>\n",
       "<style scoped>\n",
       "    .dataframe tbody tr th:only-of-type {\n",
       "        vertical-align: middle;\n",
       "    }\n",
       "\n",
       "    .dataframe tbody tr th {\n",
       "        vertical-align: top;\n",
       "    }\n",
       "\n",
       "    .dataframe thead th {\n",
       "        text-align: right;\n",
       "    }\n",
       "</style>\n",
       "<table border=\"1\" class=\"dataframe\">\n",
       "  <thead>\n",
       "    <tr style=\"text-align: right;\">\n",
       "      <th></th>\n",
       "      <th>type</th>\n",
       "      <th>posts</th>\n",
       "    </tr>\n",
       "  </thead>\n",
       "  <tbody>\n",
       "    <tr>\n",
       "      <th>1228</th>\n",
       "      <td>INFP</td>\n",
       "      <td>'We are mandarin speakers.  He receive educati...</td>\n",
       "    </tr>\n",
       "    <tr>\n",
       "      <th>1290</th>\n",
       "      <td>ISTP</td>\n",
       "      <td>'Nope.  Not now, not ever.  I'm too busy with ...</td>\n",
       "    </tr>\n",
       "    <tr>\n",
       "      <th>6756</th>\n",
       "      <td>ENFJ</td>\n",
       "      <td>'That's the only one I haven't gotten to read ...</td>\n",
       "    </tr>\n",
       "    <tr>\n",
       "      <th>1662</th>\n",
       "      <td>INFP</td>\n",
       "      <td>'I used to think that maturity was burning bri...</td>\n",
       "    </tr>\n",
       "    <tr>\n",
       "      <th>3338</th>\n",
       "      <td>INFP</td>\n",
       "      <td>'I get typed as both a 4w5 and 5w6 as well but...</td>\n",
       "    </tr>\n",
       "    <tr>\n",
       "      <th>...</th>\n",
       "      <td>...</td>\n",
       "      <td>...</td>\n",
       "    </tr>\n",
       "    <tr>\n",
       "      <th>7292</th>\n",
       "      <td>INFP</td>\n",
       "      <td>Haven't posted here in a while. Here was my at...</td>\n",
       "    </tr>\n",
       "    <tr>\n",
       "      <th>1086</th>\n",
       "      <td>INFP</td>\n",
       "      <td>'Ok, I'll go first. I'm a 29 year old INFP mal...</td>\n",
       "    </tr>\n",
       "    <tr>\n",
       "      <th>7435</th>\n",
       "      <td>ENTJ</td>\n",
       "      <td>'I have dated a few INFJs, including my curren...</td>\n",
       "    </tr>\n",
       "    <tr>\n",
       "      <th>1843</th>\n",
       "      <td>INTP</td>\n",
       "      <td>'People who are unable to replace social norms...</td>\n",
       "    </tr>\n",
       "    <tr>\n",
       "      <th>2530</th>\n",
       "      <td>ENTP</td>\n",
       "      <td>'Yep! you're right! I agree with you!! i think...</td>\n",
       "    </tr>\n",
       "  </tbody>\n",
       "</table>\n",
       "<p>6940 rows × 2 columns</p>\n",
       "</div>"
      ],
      "text/plain": [
       "      type                                              posts\n",
       "1228  INFP  'We are mandarin speakers.  He receive educati...\n",
       "1290  ISTP  'Nope.  Not now, not ever.  I'm too busy with ...\n",
       "6756  ENFJ  'That's the only one I haven't gotten to read ...\n",
       "1662  INFP  'I used to think that maturity was burning bri...\n",
       "3338  INFP  'I get typed as both a 4w5 and 5w6 as well but...\n",
       "...    ...                                                ...\n",
       "7292  INFP  Haven't posted here in a while. Here was my at...\n",
       "1086  INFP  'Ok, I'll go first. I'm a 29 year old INFP mal...\n",
       "7435  ENTJ  'I have dated a few INFJs, including my curren...\n",
       "1843  INTP  'People who are unable to replace social norms...\n",
       "2530  ENTP  'Yep! you're right! I agree with you!! i think...\n",
       "\n",
       "[6940 rows x 2 columns]"
      ]
     },
     "execution_count": 68,
     "metadata": {},
     "output_type": "execute_result"
    }
   ],
   "source": [
    "train_data"
   ]
  },
  {
   "cell_type": "code",
   "execution_count": 69,
   "metadata": {},
   "outputs": [],
   "source": [
    "df_train_count = train_data['type'].value_counts().rename_axis('type').reset_index(name='counts')\n",
    "df_test_count = test_data['type'].value_counts().rename_axis('type').reset_index(name='counts')"
   ]
  },
  {
   "cell_type": "code",
   "execution_count": 70,
   "metadata": {},
   "outputs": [
    {
     "data": {
      "text/html": [
       "<div>\n",
       "<style scoped>\n",
       "    .dataframe tbody tr th:only-of-type {\n",
       "        vertical-align: middle;\n",
       "    }\n",
       "\n",
       "    .dataframe tbody tr th {\n",
       "        vertical-align: top;\n",
       "    }\n",
       "\n",
       "    .dataframe thead th {\n",
       "        text-align: right;\n",
       "    }\n",
       "</style>\n",
       "<table border=\"1\" class=\"dataframe\">\n",
       "  <thead>\n",
       "    <tr style=\"text-align: right;\">\n",
       "      <th></th>\n",
       "      <th>type</th>\n",
       "      <th>counts</th>\n",
       "    </tr>\n",
       "  </thead>\n",
       "  <tbody>\n",
       "    <tr>\n",
       "      <th>0</th>\n",
       "      <td>INFP</td>\n",
       "      <td>1465</td>\n",
       "    </tr>\n",
       "    <tr>\n",
       "      <th>1</th>\n",
       "      <td>INFJ</td>\n",
       "      <td>1176</td>\n",
       "    </tr>\n",
       "    <tr>\n",
       "      <th>2</th>\n",
       "      <td>INTP</td>\n",
       "      <td>1043</td>\n",
       "    </tr>\n",
       "    <tr>\n",
       "      <th>3</th>\n",
       "      <td>INTJ</td>\n",
       "      <td>873</td>\n",
       "    </tr>\n",
       "    <tr>\n",
       "      <th>4</th>\n",
       "      <td>ENTP</td>\n",
       "      <td>548</td>\n",
       "    </tr>\n",
       "    <tr>\n",
       "      <th>5</th>\n",
       "      <td>ENFP</td>\n",
       "      <td>540</td>\n",
       "    </tr>\n",
       "    <tr>\n",
       "      <th>6</th>\n",
       "      <td>ISTP</td>\n",
       "      <td>270</td>\n",
       "    </tr>\n",
       "    <tr>\n",
       "      <th>7</th>\n",
       "      <td>ISFP</td>\n",
       "      <td>217</td>\n",
       "    </tr>\n",
       "    <tr>\n",
       "      <th>8</th>\n",
       "      <td>ENTJ</td>\n",
       "      <td>185</td>\n",
       "    </tr>\n",
       "    <tr>\n",
       "      <th>9</th>\n",
       "      <td>ISTJ</td>\n",
       "      <td>164</td>\n",
       "    </tr>\n",
       "    <tr>\n",
       "      <th>10</th>\n",
       "      <td>ENFJ</td>\n",
       "      <td>152</td>\n",
       "    </tr>\n",
       "    <tr>\n",
       "      <th>11</th>\n",
       "      <td>ISFJ</td>\n",
       "      <td>133</td>\n",
       "    </tr>\n",
       "    <tr>\n",
       "      <th>12</th>\n",
       "      <td>ESTP</td>\n",
       "      <td>71</td>\n",
       "    </tr>\n",
       "    <tr>\n",
       "      <th>13</th>\n",
       "      <td>ESFP</td>\n",
       "      <td>38</td>\n",
       "    </tr>\n",
       "    <tr>\n",
       "      <th>14</th>\n",
       "      <td>ESFJ</td>\n",
       "      <td>34</td>\n",
       "    </tr>\n",
       "    <tr>\n",
       "      <th>15</th>\n",
       "      <td>ESTJ</td>\n",
       "      <td>31</td>\n",
       "    </tr>\n",
       "  </tbody>\n",
       "</table>\n",
       "</div>"
      ],
      "text/plain": [
       "    type  counts\n",
       "0   INFP    1465\n",
       "1   INFJ    1176\n",
       "2   INTP    1043\n",
       "3   INTJ     873\n",
       "4   ENTP     548\n",
       "5   ENFP     540\n",
       "6   ISTP     270\n",
       "7   ISFP     217\n",
       "8   ENTJ     185\n",
       "9   ISTJ     164\n",
       "10  ENFJ     152\n",
       "11  ISFJ     133\n",
       "12  ESTP      71\n",
       "13  ESFP      38\n",
       "14  ESFJ      34\n",
       "15  ESTJ      31"
      ]
     },
     "execution_count": 70,
     "metadata": {},
     "output_type": "execute_result"
    }
   ],
   "source": [
    "df_train_count"
   ]
  },
  {
   "cell_type": "code",
   "execution_count": 71,
   "metadata": {},
   "outputs": [
    {
     "data": {
      "application/vnd.plotly.v1+json": {
       "config": {
        "plotlyServerURL": "https://plot.ly"
       },
       "data": [
        {
         "domain": {
          "x": [
           0,
           0.45
          ],
          "y": [
           0,
           1
          ]
         },
         "hole": 0.4,
         "hovertemplate": "Type: %{label}<br>Count: %{value}",
         "labels": [
          "INFP",
          "INFJ",
          "INTP",
          "INTJ",
          "ENTP",
          "ENFP",
          "ISTP",
          "ISFP",
          "ENTJ",
          "ISTJ",
          "ENFJ",
          "ISFJ",
          "ESTP",
          "ESFP",
          "ESFJ",
          "ESTJ"
         ],
         "marker": {
          "colors": [
           "rgb(92, 83, 165)",
           "rgb(160, 89, 160)",
           "rgb(206, 102, 147)",
           "rgb(235, 127, 134)",
           "rgb(248, 160, 126)",
           "rgb(250, 196, 132)",
           "rgb(243, 231, 155)"
          ]
         },
         "name": "Train",
         "type": "pie",
         "values": [
          1465,
          1176,
          1043,
          873,
          548,
          540,
          270,
          217,
          185,
          164,
          152,
          133,
          71,
          38,
          34,
          31
         ]
        },
        {
         "domain": {
          "x": [
           0.55,
           1
          ],
          "y": [
           0,
           1
          ]
         },
         "hole": 0.4,
         "hovertemplate": "Type: %{label}<br>Count: %{value}",
         "labels": [
          "INFP",
          "INFJ",
          "INTP",
          "INTJ",
          "ENTP",
          "ENFP",
          "ISTP",
          "ISFP",
          "ENTJ",
          "ISTJ",
          "ENFJ",
          "ISFJ",
          "ESTP",
          "ESFP",
          "ESTJ",
          "ESFJ"
         ],
         "marker": {
          "colors": [
           "rgb(92, 83, 165)",
           "rgb(160, 89, 160)",
           "rgb(206, 102, 147)",
           "rgb(235, 127, 134)",
           "rgb(248, 160, 126)",
           "rgb(250, 196, 132)",
           "rgb(243, 231, 155)"
          ]
         },
         "name": "Test",
         "type": "pie",
         "values": [
          367,
          294,
          261,
          218,
          137,
          135,
          67,
          54,
          46,
          41,
          38,
          33,
          18,
          10,
          8,
          8
         ]
        }
       ],
       "layout": {
        "annotations": [
         {
          "font": {
           "size": 18
          },
          "showarrow": false,
          "text": "Train",
          "x": 0.2,
          "y": 0.5
         },
         {
          "font": {
           "size": 18
          },
          "showarrow": false,
          "text": "Test",
          "x": 0.795,
          "y": 0.5
         }
        ],
        "template": {
         "data": {
          "bar": [
           {
            "error_x": {
             "color": "#2a3f5f"
            },
            "error_y": {
             "color": "#2a3f5f"
            },
            "marker": {
             "line": {
              "color": "#E5ECF6",
              "width": 0.5
             },
             "pattern": {
              "fillmode": "overlay",
              "size": 10,
              "solidity": 0.2
             }
            },
            "type": "bar"
           }
          ],
          "barpolar": [
           {
            "marker": {
             "line": {
              "color": "#E5ECF6",
              "width": 0.5
             },
             "pattern": {
              "fillmode": "overlay",
              "size": 10,
              "solidity": 0.2
             }
            },
            "type": "barpolar"
           }
          ],
          "carpet": [
           {
            "aaxis": {
             "endlinecolor": "#2a3f5f",
             "gridcolor": "white",
             "linecolor": "white",
             "minorgridcolor": "white",
             "startlinecolor": "#2a3f5f"
            },
            "baxis": {
             "endlinecolor": "#2a3f5f",
             "gridcolor": "white",
             "linecolor": "white",
             "minorgridcolor": "white",
             "startlinecolor": "#2a3f5f"
            },
            "type": "carpet"
           }
          ],
          "choropleth": [
           {
            "colorbar": {
             "outlinewidth": 0,
             "ticks": ""
            },
            "type": "choropleth"
           }
          ],
          "contour": [
           {
            "colorbar": {
             "outlinewidth": 0,
             "ticks": ""
            },
            "colorscale": [
             [
              0,
              "#0d0887"
             ],
             [
              0.1111111111111111,
              "#46039f"
             ],
             [
              0.2222222222222222,
              "#7201a8"
             ],
             [
              0.3333333333333333,
              "#9c179e"
             ],
             [
              0.4444444444444444,
              "#bd3786"
             ],
             [
              0.5555555555555556,
              "#d8576b"
             ],
             [
              0.6666666666666666,
              "#ed7953"
             ],
             [
              0.7777777777777778,
              "#fb9f3a"
             ],
             [
              0.8888888888888888,
              "#fdca26"
             ],
             [
              1,
              "#f0f921"
             ]
            ],
            "type": "contour"
           }
          ],
          "contourcarpet": [
           {
            "colorbar": {
             "outlinewidth": 0,
             "ticks": ""
            },
            "type": "contourcarpet"
           }
          ],
          "heatmap": [
           {
            "colorbar": {
             "outlinewidth": 0,
             "ticks": ""
            },
            "colorscale": [
             [
              0,
              "#0d0887"
             ],
             [
              0.1111111111111111,
              "#46039f"
             ],
             [
              0.2222222222222222,
              "#7201a8"
             ],
             [
              0.3333333333333333,
              "#9c179e"
             ],
             [
              0.4444444444444444,
              "#bd3786"
             ],
             [
              0.5555555555555556,
              "#d8576b"
             ],
             [
              0.6666666666666666,
              "#ed7953"
             ],
             [
              0.7777777777777778,
              "#fb9f3a"
             ],
             [
              0.8888888888888888,
              "#fdca26"
             ],
             [
              1,
              "#f0f921"
             ]
            ],
            "type": "heatmap"
           }
          ],
          "heatmapgl": [
           {
            "colorbar": {
             "outlinewidth": 0,
             "ticks": ""
            },
            "colorscale": [
             [
              0,
              "#0d0887"
             ],
             [
              0.1111111111111111,
              "#46039f"
             ],
             [
              0.2222222222222222,
              "#7201a8"
             ],
             [
              0.3333333333333333,
              "#9c179e"
             ],
             [
              0.4444444444444444,
              "#bd3786"
             ],
             [
              0.5555555555555556,
              "#d8576b"
             ],
             [
              0.6666666666666666,
              "#ed7953"
             ],
             [
              0.7777777777777778,
              "#fb9f3a"
             ],
             [
              0.8888888888888888,
              "#fdca26"
             ],
             [
              1,
              "#f0f921"
             ]
            ],
            "type": "heatmapgl"
           }
          ],
          "histogram": [
           {
            "marker": {
             "pattern": {
              "fillmode": "overlay",
              "size": 10,
              "solidity": 0.2
             }
            },
            "type": "histogram"
           }
          ],
          "histogram2d": [
           {
            "colorbar": {
             "outlinewidth": 0,
             "ticks": ""
            },
            "colorscale": [
             [
              0,
              "#0d0887"
             ],
             [
              0.1111111111111111,
              "#46039f"
             ],
             [
              0.2222222222222222,
              "#7201a8"
             ],
             [
              0.3333333333333333,
              "#9c179e"
             ],
             [
              0.4444444444444444,
              "#bd3786"
             ],
             [
              0.5555555555555556,
              "#d8576b"
             ],
             [
              0.6666666666666666,
              "#ed7953"
             ],
             [
              0.7777777777777778,
              "#fb9f3a"
             ],
             [
              0.8888888888888888,
              "#fdca26"
             ],
             [
              1,
              "#f0f921"
             ]
            ],
            "type": "histogram2d"
           }
          ],
          "histogram2dcontour": [
           {
            "colorbar": {
             "outlinewidth": 0,
             "ticks": ""
            },
            "colorscale": [
             [
              0,
              "#0d0887"
             ],
             [
              0.1111111111111111,
              "#46039f"
             ],
             [
              0.2222222222222222,
              "#7201a8"
             ],
             [
              0.3333333333333333,
              "#9c179e"
             ],
             [
              0.4444444444444444,
              "#bd3786"
             ],
             [
              0.5555555555555556,
              "#d8576b"
             ],
             [
              0.6666666666666666,
              "#ed7953"
             ],
             [
              0.7777777777777778,
              "#fb9f3a"
             ],
             [
              0.8888888888888888,
              "#fdca26"
             ],
             [
              1,
              "#f0f921"
             ]
            ],
            "type": "histogram2dcontour"
           }
          ],
          "mesh3d": [
           {
            "colorbar": {
             "outlinewidth": 0,
             "ticks": ""
            },
            "type": "mesh3d"
           }
          ],
          "parcoords": [
           {
            "line": {
             "colorbar": {
              "outlinewidth": 0,
              "ticks": ""
             }
            },
            "type": "parcoords"
           }
          ],
          "pie": [
           {
            "automargin": true,
            "type": "pie"
           }
          ],
          "scatter": [
           {
            "fillpattern": {
             "fillmode": "overlay",
             "size": 10,
             "solidity": 0.2
            },
            "type": "scatter"
           }
          ],
          "scatter3d": [
           {
            "line": {
             "colorbar": {
              "outlinewidth": 0,
              "ticks": ""
             }
            },
            "marker": {
             "colorbar": {
              "outlinewidth": 0,
              "ticks": ""
             }
            },
            "type": "scatter3d"
           }
          ],
          "scattercarpet": [
           {
            "marker": {
             "colorbar": {
              "outlinewidth": 0,
              "ticks": ""
             }
            },
            "type": "scattercarpet"
           }
          ],
          "scattergeo": [
           {
            "marker": {
             "colorbar": {
              "outlinewidth": 0,
              "ticks": ""
             }
            },
            "type": "scattergeo"
           }
          ],
          "scattergl": [
           {
            "marker": {
             "colorbar": {
              "outlinewidth": 0,
              "ticks": ""
             }
            },
            "type": "scattergl"
           }
          ],
          "scattermapbox": [
           {
            "marker": {
             "colorbar": {
              "outlinewidth": 0,
              "ticks": ""
             }
            },
            "type": "scattermapbox"
           }
          ],
          "scatterpolar": [
           {
            "marker": {
             "colorbar": {
              "outlinewidth": 0,
              "ticks": ""
             }
            },
            "type": "scatterpolar"
           }
          ],
          "scatterpolargl": [
           {
            "marker": {
             "colorbar": {
              "outlinewidth": 0,
              "ticks": ""
             }
            },
            "type": "scatterpolargl"
           }
          ],
          "scatterternary": [
           {
            "marker": {
             "colorbar": {
              "outlinewidth": 0,
              "ticks": ""
             }
            },
            "type": "scatterternary"
           }
          ],
          "surface": [
           {
            "colorbar": {
             "outlinewidth": 0,
             "ticks": ""
            },
            "colorscale": [
             [
              0,
              "#0d0887"
             ],
             [
              0.1111111111111111,
              "#46039f"
             ],
             [
              0.2222222222222222,
              "#7201a8"
             ],
             [
              0.3333333333333333,
              "#9c179e"
             ],
             [
              0.4444444444444444,
              "#bd3786"
             ],
             [
              0.5555555555555556,
              "#d8576b"
             ],
             [
              0.6666666666666666,
              "#ed7953"
             ],
             [
              0.7777777777777778,
              "#fb9f3a"
             ],
             [
              0.8888888888888888,
              "#fdca26"
             ],
             [
              1,
              "#f0f921"
             ]
            ],
            "type": "surface"
           }
          ],
          "table": [
           {
            "cells": {
             "fill": {
              "color": "#EBF0F8"
             },
             "line": {
              "color": "white"
             }
            },
            "header": {
             "fill": {
              "color": "#C8D4E3"
             },
             "line": {
              "color": "white"
             }
            },
            "type": "table"
           }
          ]
         },
         "layout": {
          "annotationdefaults": {
           "arrowcolor": "#2a3f5f",
           "arrowhead": 0,
           "arrowwidth": 1
          },
          "autotypenumbers": "strict",
          "coloraxis": {
           "colorbar": {
            "outlinewidth": 0,
            "ticks": ""
           }
          },
          "colorscale": {
           "diverging": [
            [
             0,
             "#8e0152"
            ],
            [
             0.1,
             "#c51b7d"
            ],
            [
             0.2,
             "#de77ae"
            ],
            [
             0.3,
             "#f1b6da"
            ],
            [
             0.4,
             "#fde0ef"
            ],
            [
             0.5,
             "#f7f7f7"
            ],
            [
             0.6,
             "#e6f5d0"
            ],
            [
             0.7,
             "#b8e186"
            ],
            [
             0.8,
             "#7fbc41"
            ],
            [
             0.9,
             "#4d9221"
            ],
            [
             1,
             "#276419"
            ]
           ],
           "sequential": [
            [
             0,
             "#0d0887"
            ],
            [
             0.1111111111111111,
             "#46039f"
            ],
            [
             0.2222222222222222,
             "#7201a8"
            ],
            [
             0.3333333333333333,
             "#9c179e"
            ],
            [
             0.4444444444444444,
             "#bd3786"
            ],
            [
             0.5555555555555556,
             "#d8576b"
            ],
            [
             0.6666666666666666,
             "#ed7953"
            ],
            [
             0.7777777777777778,
             "#fb9f3a"
            ],
            [
             0.8888888888888888,
             "#fdca26"
            ],
            [
             1,
             "#f0f921"
            ]
           ],
           "sequentialminus": [
            [
             0,
             "#0d0887"
            ],
            [
             0.1111111111111111,
             "#46039f"
            ],
            [
             0.2222222222222222,
             "#7201a8"
            ],
            [
             0.3333333333333333,
             "#9c179e"
            ],
            [
             0.4444444444444444,
             "#bd3786"
            ],
            [
             0.5555555555555556,
             "#d8576b"
            ],
            [
             0.6666666666666666,
             "#ed7953"
            ],
            [
             0.7777777777777778,
             "#fb9f3a"
            ],
            [
             0.8888888888888888,
             "#fdca26"
            ],
            [
             1,
             "#f0f921"
            ]
           ]
          },
          "colorway": [
           "#636efa",
           "#EF553B",
           "#00cc96",
           "#ab63fa",
           "#FFA15A",
           "#19d3f3",
           "#FF6692",
           "#B6E880",
           "#FF97FF",
           "#FECB52"
          ],
          "font": {
           "color": "#2a3f5f"
          },
          "geo": {
           "bgcolor": "white",
           "lakecolor": "white",
           "landcolor": "#E5ECF6",
           "showlakes": true,
           "showland": true,
           "subunitcolor": "white"
          },
          "hoverlabel": {
           "align": "left"
          },
          "hovermode": "closest",
          "mapbox": {
           "style": "light"
          },
          "paper_bgcolor": "white",
          "plot_bgcolor": "#E5ECF6",
          "polar": {
           "angularaxis": {
            "gridcolor": "white",
            "linecolor": "white",
            "ticks": ""
           },
           "bgcolor": "#E5ECF6",
           "radialaxis": {
            "gridcolor": "white",
            "linecolor": "white",
            "ticks": ""
           }
          },
          "scene": {
           "xaxis": {
            "backgroundcolor": "#E5ECF6",
            "gridcolor": "white",
            "gridwidth": 2,
            "linecolor": "white",
            "showbackground": true,
            "ticks": "",
            "zerolinecolor": "white"
           },
           "yaxis": {
            "backgroundcolor": "#E5ECF6",
            "gridcolor": "white",
            "gridwidth": 2,
            "linecolor": "white",
            "showbackground": true,
            "ticks": "",
            "zerolinecolor": "white"
           },
           "zaxis": {
            "backgroundcolor": "#E5ECF6",
            "gridcolor": "white",
            "gridwidth": 2,
            "linecolor": "white",
            "showbackground": true,
            "ticks": "",
            "zerolinecolor": "white"
           }
          },
          "shapedefaults": {
           "line": {
            "color": "#2a3f5f"
           }
          },
          "ternary": {
           "aaxis": {
            "gridcolor": "white",
            "linecolor": "white",
            "ticks": ""
           },
           "baxis": {
            "gridcolor": "white",
            "linecolor": "white",
            "ticks": ""
           },
           "bgcolor": "#E5ECF6",
           "caxis": {
            "gridcolor": "white",
            "linecolor": "white",
            "ticks": ""
           }
          },
          "title": {
           "x": 0.05
          },
          "xaxis": {
           "automargin": true,
           "gridcolor": "white",
           "linecolor": "white",
           "ticks": "",
           "title": {
            "standoff": 15
           },
           "zerolinecolor": "white",
           "zerolinewidth": 2
          },
          "yaxis": {
           "automargin": true,
           "gridcolor": "white",
           "linecolor": "white",
           "ticks": "",
           "title": {
            "standoff": 15
           },
           "zerolinecolor": "white",
           "zerolinewidth": 2
          }
         }
        },
        "title": {
         "text": "Train_Test Split"
        }
       }
      }
     },
     "metadata": {},
     "output_type": "display_data"
    }
   ],
   "source": [
    "# Create subplots: use 'domain' type for Pie subplot\n",
    "fig = make_subplots(rows=1, cols=2, specs=[[{'type':'domain'}, {'type':'domain'}]])\n",
    "fig.add_trace(go.Pie(labels=df_train_count['type'], values=df_train_count['counts'], name='Train'),\n",
    "              1, 1)\n",
    "fig.add_trace(go.Pie(labels=df_test_count['type'], values=df_test_count['counts'], name='Test'),\n",
    "              1, 2)\n",
    "\n",
    "fig.update_traces(hole=.4, hovertemplate='Type: %{label}<br>Count: %{value}', marker_colors=color)\n",
    "fig.update_layout(\n",
    "    title_text = \"Train_Test Split\",\n",
    "    annotations = [dict(text='Train', x=0.2, y=0.5, font_size=18, showarrow=False),\n",
    "                 dict(text='Test', x=0.795, y=0.5, font_size=18, showarrow=False)])\n",
    "fig.show()"
   ]
  },
  {
   "cell_type": "code",
   "execution_count": 72,
   "metadata": {},
   "outputs": [],
   "source": [
    "# fig = px.pie(train_data, names='type', title='Train data', color_discrete_sequence=colors, hole=0.3, width=800, height=600 )\n",
    "# fig.update_traces(textinfo='percent',hovertemplate='Type: %{label}<br>Count: %{value}')\n",
    "# fig.show()"
   ]
  },
  {
   "cell_type": "code",
   "execution_count": 73,
   "metadata": {},
   "outputs": [],
   "source": [
    "# fig = px.pie(test_data, names='type', title='Test data', color_discrete_sequence=colors, hole=0.3, width=800, height=600 )\n",
    "# fig.update_traces(textinfo='percent',hovertemplate='Type: %{label}<br>Count: %{value}')\n",
    "# fig.show()"
   ]
  },
  {
   "cell_type": "markdown",
   "metadata": {},
   "source": [
    "## 2: Text Preprocessing"
   ]
  },
  {
   "cell_type": "markdown",
   "metadata": {},
   "source": [
    "Todo:\n",
    "- 要考慮：目前有去除冒號跟井字號，但有些可能是 emoji 或 hashtag （例如：\":happy:\"、\"#mood\")\n",
    "- 目前是把超連結替換成 URL，也可以直接拔掉\n",
    "- 還沒做 stop words 包含 MBTI 的\n",
    "- 目前有把 porter stemmer 當參數之一，看要不要刪掉，也可以跟 SnowballStemmer 一起訓練，看結果有沒有差"
   ]
  },
  {
   "cell_type": "markdown",
   "metadata": {},
   "source": [
    "### 2.1: Cleaning\n",
    "- 簡單的去除分隔符、超連結、符號、多餘的空格"
   ]
  },
  {
   "cell_type": "markdown",
   "metadata": {},
   "source": [
    "#### getCleanPost()"
   ]
  },
  {
   "cell_type": "code",
   "execution_count": 74,
   "metadata": {},
   "outputs": [],
   "source": [
    "def getCleanPost(text):\n",
    "\ttext = re.sub(r'\\|\\|\\|', r' ', text)  # Remove splitter\n",
    "\ttext = re.sub(r'http\\S+', r'URL', text)  # Replace hyperlinks with \"URL\"\n",
    "\ttext = re.sub('[^0-9a-zA-Z]',' ', text)  # Keep only words\n",
    "\ttext = re.sub(' +', ' ', text)  # Remove redundant space\n",
    "\treturn text"
   ]
  },
  {
   "cell_type": "markdown",
   "metadata": {},
   "source": [
    "#### Function explanation"
   ]
  },
  {
   "cell_type": "code",
   "execution_count": 75,
   "metadata": {},
   "outputs": [
    {
     "name": "stdout",
     "output_type": "stream",
     "text": [
      "\u001b[96mBefore cleaning:\n",
      " 'http://www.youtube.com/watch?v=qsXHcwe3krw|||http://41.media.tumblr.com/tumblr_lfouy03PMA1qa1rooo1_500.jpg|||enfp and intj moments  https://www.youtube.com/watch?v=iz7lE1g4XM4  sportscenter not top ten plays  https://www.youtube.com/watch?v=uCdfze1etec  pranks|||What has been the most life-changing experience in your life?|||http://www.youtube.com/watch?v=vXZeYwwRDw8   http://www.youtube.com/watch?v=u8ejam5DP3E  On repeat for most of today.|||May the PerC Experience immerse you.|||The last thing my INFJ friend pos \n",
      "\n",
      "\u001b[94mAfter cleaning:\n",
      "  URL URL enfp and intj moments URL sportscenter not top ten plays URL pranks What has been the most life changing experience in your life URL URL On repeat for most of today May the PerC Experience immerse you The last thing my INFJ friend pos\n"
     ]
    }
   ],
   "source": [
    "'''\n",
    "Example of getCleanPost.\n",
    "input: Top 520 words in data.posts[0]\n",
    "output: getCleanPost(input)\n",
    "'''\n",
    "origi_sentence = data.posts[0][0:520]\n",
    "clean_sentence = getCleanPost(origi_sentence)\n",
    "\n",
    "print('\\033[96mBefore cleaning:\\n',origi_sentence,'\\n')\n",
    "\n",
    "print('\\033[94mAfter cleaning:\\n',clean_sentence)"
   ]
  },
  {
   "cell_type": "markdown",
   "metadata": {},
   "source": [
    "#### Apply"
   ]
  },
  {
   "cell_type": "code",
   "execution_count": 76,
   "metadata": {},
   "outputs": [
    {
     "data": {
      "application/vnd.jupyter.widget-view+json": {
       "model_id": "a40c300e80e54617bb718de8a2edb2b9",
       "version_major": 2,
       "version_minor": 0
      },
      "text/plain": [
       "  0%|          | 0/6940 [00:00<?, ?it/s]"
      ]
     },
     "metadata": {},
     "output_type": "display_data"
    },
    {
     "data": {
      "text/html": [
       "<div>\n",
       "<style scoped>\n",
       "    .dataframe tbody tr th:only-of-type {\n",
       "        vertical-align: middle;\n",
       "    }\n",
       "\n",
       "    .dataframe tbody tr th {\n",
       "        vertical-align: top;\n",
       "    }\n",
       "\n",
       "    .dataframe thead th {\n",
       "        text-align: right;\n",
       "    }\n",
       "</style>\n",
       "<table border=\"1\" class=\"dataframe\">\n",
       "  <thead>\n",
       "    <tr style=\"text-align: right;\">\n",
       "      <th></th>\n",
       "      <th>type</th>\n",
       "      <th>posts</th>\n",
       "      <th>posts_clean</th>\n",
       "    </tr>\n",
       "  </thead>\n",
       "  <tbody>\n",
       "    <tr>\n",
       "      <th>1228</th>\n",
       "      <td>INFP</td>\n",
       "      <td>'We are mandarin speakers.  He receive educati...</td>\n",
       "      <td>We are mandarin speakers He receive education...</td>\n",
       "    </tr>\n",
       "    <tr>\n",
       "      <th>1290</th>\n",
       "      <td>ISTP</td>\n",
       "      <td>'Nope.  Not now, not ever.  I'm too busy with ...</td>\n",
       "      <td>Nope Not now not ever I m too busy with work ...</td>\n",
       "    </tr>\n",
       "    <tr>\n",
       "      <th>6756</th>\n",
       "      <td>ENFJ</td>\n",
       "      <td>'That's the only one I haven't gotten to read ...</td>\n",
       "      <td>That s the only one I haven t gotten to read ...</td>\n",
       "    </tr>\n",
       "    <tr>\n",
       "      <th>1662</th>\n",
       "      <td>INFP</td>\n",
       "      <td>'I used to think that maturity was burning bri...</td>\n",
       "      <td>I used to think that maturity was burning bri...</td>\n",
       "    </tr>\n",
       "    <tr>\n",
       "      <th>3338</th>\n",
       "      <td>INFP</td>\n",
       "      <td>'I get typed as both a 4w5 and 5w6 as well but...</td>\n",
       "      <td>I get typed as both a 4w5 and 5w6 as well but...</td>\n",
       "    </tr>\n",
       "    <tr>\n",
       "      <th>...</th>\n",
       "      <td>...</td>\n",
       "      <td>...</td>\n",
       "      <td>...</td>\n",
       "    </tr>\n",
       "    <tr>\n",
       "      <th>7292</th>\n",
       "      <td>INFP</td>\n",
       "      <td>Haven't posted here in a while. Here was my at...</td>\n",
       "      <td>Haven t posted here in a while Here was my att...</td>\n",
       "    </tr>\n",
       "    <tr>\n",
       "      <th>1086</th>\n",
       "      <td>INFP</td>\n",
       "      <td>'Ok, I'll go first. I'm a 29 year old INFP mal...</td>\n",
       "      <td>Ok I ll go first I m a 29 year old INFP male ...</td>\n",
       "    </tr>\n",
       "    <tr>\n",
       "      <th>7435</th>\n",
       "      <td>ENTJ</td>\n",
       "      <td>'I have dated a few INFJs, including my curren...</td>\n",
       "      <td>I have dated a few INFJs including my current...</td>\n",
       "    </tr>\n",
       "    <tr>\n",
       "      <th>1843</th>\n",
       "      <td>INTP</td>\n",
       "      <td>'People who are unable to replace social norms...</td>\n",
       "      <td>People who are unable to replace social norms...</td>\n",
       "    </tr>\n",
       "    <tr>\n",
       "      <th>2530</th>\n",
       "      <td>ENTP</td>\n",
       "      <td>'Yep! you're right! I agree with you!! i think...</td>\n",
       "      <td>Yep you re right I agree with you i think see...</td>\n",
       "    </tr>\n",
       "  </tbody>\n",
       "</table>\n",
       "<p>6940 rows × 3 columns</p>\n",
       "</div>"
      ],
      "text/plain": [
       "      type                                              posts  \\\n",
       "1228  INFP  'We are mandarin speakers.  He receive educati...   \n",
       "1290  ISTP  'Nope.  Not now, not ever.  I'm too busy with ...   \n",
       "6756  ENFJ  'That's the only one I haven't gotten to read ...   \n",
       "1662  INFP  'I used to think that maturity was burning bri...   \n",
       "3338  INFP  'I get typed as both a 4w5 and 5w6 as well but...   \n",
       "...    ...                                                ...   \n",
       "7292  INFP  Haven't posted here in a while. Here was my at...   \n",
       "1086  INFP  'Ok, I'll go first. I'm a 29 year old INFP mal...   \n",
       "7435  ENTJ  'I have dated a few INFJs, including my curren...   \n",
       "1843  INTP  'People who are unable to replace social norms...   \n",
       "2530  ENTP  'Yep! you're right! I agree with you!! i think...   \n",
       "\n",
       "                                            posts_clean  \n",
       "1228   We are mandarin speakers He receive education...  \n",
       "1290   Nope Not now not ever I m too busy with work ...  \n",
       "6756   That s the only one I haven t gotten to read ...  \n",
       "1662   I used to think that maturity was burning bri...  \n",
       "3338   I get typed as both a 4w5 and 5w6 as well but...  \n",
       "...                                                 ...  \n",
       "7292  Haven t posted here in a while Here was my att...  \n",
       "1086   Ok I ll go first I m a 29 year old INFP male ...  \n",
       "7435   I have dated a few INFJs including my current...  \n",
       "1843   People who are unable to replace social norms...  \n",
       "2530   Yep you re right I agree with you i think see...  \n",
       "\n",
       "[6940 rows x 3 columns]"
      ]
     },
     "execution_count": 76,
     "metadata": {},
     "output_type": "execute_result"
    }
   ],
   "source": [
    "# Apply getCleanPost to all training data\n",
    "train_data_copy = train_data.copy()\n",
    "tqdm.pandas()  # Progress bar\n",
    "train_data_copy['posts_clean'] = train_data_copy['posts'].progress_apply(getCleanPost)\n",
    "train_data_copy"
   ]
  },
  {
   "cell_type": "markdown",
   "metadata": {},
   "source": [
    "### 2.2: Tokenization & Remove stop words\n",
    "- 轉小寫\n",
    "- 切詞\n",
    "- 移除 Stop words"
   ]
  },
  {
   "cell_type": "markdown",
   "metadata": {},
   "source": [
    "#### getCleanToken()"
   ]
  },
  {
   "cell_type": "code",
   "execution_count": 77,
   "metadata": {},
   "outputs": [
    {
     "name": "stdout",
     "output_type": "stream",
     "text": [
      "Stop words\n",
      " ['i', 'me', 'my', 'myself', 'we', 'our', 'ours', 'ourselves', 'you', \"you're\", \"you've\", \"you'll\", \"you'd\", 'your', 'yours', 'yourself', 'yourselves', 'he', 'him', 'his', 'himself', 'she', \"she's\", 'her', 'hers', 'herself', 'it', \"it's\", 'its', 'itself', 'they', 'them', 'their', 'theirs', 'themselves', 'what', 'which', 'who', 'whom', 'this', 'that', \"that'll\", 'these', 'those', 'am', 'is', 'are', 'was', 'were', 'be', 'been', 'being', 'have', 'has', 'had', 'having', 'do', 'does', 'did', 'doing', 'a', 'an', 'the', 'and', 'but', 'if', 'or', 'because', 'as', 'until', 'while', 'of', 'at', 'by', 'for', 'with', 'about', 'against', 'between', 'into', 'through', 'during', 'before', 'after', 'above', 'below', 'to', 'from', 'up', 'down', 'in', 'out', 'on', 'off', 'over', 'under', 'again', 'further', 'then', 'once', 'here', 'there', 'when', 'where', 'why', 'how', 'all', 'any', 'both', 'each', 'few', 'more', 'most', 'other', 'some', 'such', 'no', 'nor', 'not', 'only', 'own', 'same', 'so', 'than', 'too', 'very', 's', 't', 'can', 'will', 'just', 'don', \"don't\", 'should', \"should've\", 'now', 'd', 'll', 'm', 'o', 're', 've', 'y', 'ain', 'aren', \"aren't\", 'couldn', \"couldn't\", 'didn', \"didn't\", 'doesn', \"doesn't\", 'hadn', \"hadn't\", 'hasn', \"hasn't\", 'haven', \"haven't\", 'isn', \"isn't\", 'ma', 'mightn', \"mightn't\", 'mustn', \"mustn't\", 'needn', \"needn't\", 'shan', \"shan't\", 'shouldn', \"shouldn't\", 'wasn', \"wasn't\", 'weren', \"weren't\", 'won', \"won't\", 'wouldn', \"wouldn't\"]\n"
     ]
    }
   ],
   "source": [
    "# Stop word list\n",
    "stop_words = stopwords.words('english')\n",
    "print('Stop words\\n',stop_words)"
   ]
  },
  {
   "cell_type": "code",
   "execution_count": 78,
   "metadata": {},
   "outputs": [],
   "source": [
    "def getCleanToken(text):\n",
    "\t# getCleanPost\n",
    "\ttext = re.sub(r'\\|\\|\\|', r' ', text)\n",
    "\ttext = re.sub(r'http\\S+', r'URL', text)\n",
    "\ttext = re.sub('[^0-9a-zA-Z]',' ', text)\n",
    "\ttext = re.sub(' +', ' ', text)\n",
    "\t# Add \"Tokenization\" and remove stopword\n",
    "\ttext = text.lower()\n",
    "\ttokens = word_tokenize(text)\n",
    "\tfiltered_tokens = [w for w in tokens if not w in stop_words]\n",
    "\treturn filtered_tokens"
   ]
  },
  {
   "cell_type": "markdown",
   "metadata": {},
   "source": [
    "#### Function explanation"
   ]
  },
  {
   "cell_type": "code",
   "execution_count": 79,
   "metadata": {},
   "outputs": [
    {
     "name": "stdout",
     "output_type": "stream",
     "text": [
      "Original: 879 tokens\n",
      "\n",
      "After removing stop words: 508 tokens\n",
      "\n",
      "Removed words: ['t', 'for', 'who', 'no', 'were', 'which', 'with', 'her', 'few', 'his', 'very', 'he', 's', 'me', 'when', 'those', 'at', 'where', 'what', 'they', 'have', 'on', 'some', 'too', 'do', 'all', 'in', 'not', 'it', 'them', 'their', 'each', 'any', 'we', 'm', 'will', 'your', 'now', 'from', 'why', 'the', 'once', 'has', 'can', 'are', 'how', 'just', 'to', 'don', 'while', 'out', 'that', 'you', 'so', 'yours', 'am', 'o', 'up', 'this', 'other', 'll', 'him', 'a', 'only', 'here', 'as', 'and', 'or', 'of', 'did', 'more', 'an', 'then', 'is', 'if', 'about', 'won', 'because', 'my', 'be']\n"
     ]
    }
   ],
   "source": [
    "'''\n",
    "Example of the added part in getCleanToken.\n",
    "Referred to the paragraph # Add \"Tokenization\" and remove stopword\n",
    "input: getCleanPost(user #1228)\n",
    "output: getCleanToken(user #1228)\n",
    "'''\n",
    "clean_post = getCleanPost(train_data.posts[1228])\n",
    "\n",
    "# Tokenization\n",
    "tokens = word_tokenize(clean_post)\n",
    "print(f'Original: {len(tokens)} tokens\\n')\n",
    "\n",
    "# Stop words\n",
    "filtered_tokens = [w for w in tokens if not w in stop_words]\n",
    "print(f'After removing stop words: {len(filtered_tokens)} tokens\\n')\n",
    "\n",
    "# Check removed words\n",
    "print(f'Removed words: {list(set(tokens).difference(set(filtered_tokens)))}')"
   ]
  },
  {
   "cell_type": "markdown",
   "metadata": {},
   "source": [
    "#### Apply"
   ]
  },
  {
   "cell_type": "code",
   "execution_count": 80,
   "metadata": {},
   "outputs": [
    {
     "data": {
      "application/vnd.jupyter.widget-view+json": {
       "model_id": "35103c7de00840fcbee239a800ef023f",
       "version_major": 2,
       "version_minor": 0
      },
      "text/plain": [
       "  0%|          | 0/6940 [00:00<?, ?it/s]"
      ]
     },
     "metadata": {},
     "output_type": "display_data"
    }
   ],
   "source": [
    "# Apply getCleanToken to all training data\n",
    "tqdm.pandas()  # Progress bar\n",
    "train_data_copy['tokens_clean'] = train_data_copy['posts'].progress_apply(getCleanToken)"
   ]
  },
  {
   "cell_type": "code",
   "execution_count": 81,
   "metadata": {},
   "outputs": [
    {
     "data": {
      "text/html": [
       "<div>\n",
       "<style scoped>\n",
       "    .dataframe tbody tr th:only-of-type {\n",
       "        vertical-align: middle;\n",
       "    }\n",
       "\n",
       "    .dataframe tbody tr th {\n",
       "        vertical-align: top;\n",
       "    }\n",
       "\n",
       "    .dataframe thead th {\n",
       "        text-align: right;\n",
       "    }\n",
       "</style>\n",
       "<table border=\"1\" class=\"dataframe\">\n",
       "  <thead>\n",
       "    <tr style=\"text-align: right;\">\n",
       "      <th></th>\n",
       "      <th>type</th>\n",
       "      <th>posts</th>\n",
       "      <th>posts_clean</th>\n",
       "      <th>tokens_clean</th>\n",
       "    </tr>\n",
       "  </thead>\n",
       "  <tbody>\n",
       "    <tr>\n",
       "      <th>1228</th>\n",
       "      <td>INFP</td>\n",
       "      <td>'We are mandarin speakers.  He receive educati...</td>\n",
       "      <td>We are mandarin speakers He receive education...</td>\n",
       "      <td>[mandarin, speakers, receive, education, canad...</td>\n",
       "    </tr>\n",
       "    <tr>\n",
       "      <th>1290</th>\n",
       "      <td>ISTP</td>\n",
       "      <td>'Nope.  Not now, not ever.  I'm too busy with ...</td>\n",
       "      <td>Nope Not now not ever I m too busy with work ...</td>\n",
       "      <td>[nope, ever, busy, work, causes, adrenaline, r...</td>\n",
       "    </tr>\n",
       "    <tr>\n",
       "      <th>6756</th>\n",
       "      <td>ENFJ</td>\n",
       "      <td>'That's the only one I haven't gotten to read ...</td>\n",
       "      <td>That s the only one I haven t gotten to read ...</td>\n",
       "      <td>[one, gotten, read, yet, might, pick, one, boo...</td>\n",
       "    </tr>\n",
       "    <tr>\n",
       "      <th>1662</th>\n",
       "      <td>INFP</td>\n",
       "      <td>'I used to think that maturity was burning bri...</td>\n",
       "      <td>I used to think that maturity was burning bri...</td>\n",
       "      <td>[used, think, maturity, burning, bridges, with...</td>\n",
       "    </tr>\n",
       "    <tr>\n",
       "      <th>3338</th>\n",
       "      <td>INFP</td>\n",
       "      <td>'I get typed as both a 4w5 and 5w6 as well but...</td>\n",
       "      <td>I get typed as both a 4w5 and 5w6 as well but...</td>\n",
       "      <td>[get, typed, 4w5, 5w6, well, like, consider, 4...</td>\n",
       "    </tr>\n",
       "    <tr>\n",
       "      <th>...</th>\n",
       "      <td>...</td>\n",
       "      <td>...</td>\n",
       "      <td>...</td>\n",
       "      <td>...</td>\n",
       "    </tr>\n",
       "    <tr>\n",
       "      <th>7292</th>\n",
       "      <td>INFP</td>\n",
       "      <td>Haven't posted here in a while. Here was my at...</td>\n",
       "      <td>Haven t posted here in a while Here was my att...</td>\n",
       "      <td>[posted, attire, best, man, buddies, wedding, ...</td>\n",
       "    </tr>\n",
       "    <tr>\n",
       "      <th>1086</th>\n",
       "      <td>INFP</td>\n",
       "      <td>'Ok, I'll go first. I'm a 29 year old INFP mal...</td>\n",
       "      <td>Ok I ll go first I m a 29 year old INFP male ...</td>\n",
       "      <td>[ok, go, first, 29, year, old, infp, male, int...</td>\n",
       "    </tr>\n",
       "    <tr>\n",
       "      <th>7435</th>\n",
       "      <td>ENTJ</td>\n",
       "      <td>'I have dated a few INFJs, including my curren...</td>\n",
       "      <td>I have dated a few INFJs including my current...</td>\n",
       "      <td>[dated, infjs, including, current, partner, 6,...</td>\n",
       "    </tr>\n",
       "    <tr>\n",
       "      <th>1843</th>\n",
       "      <td>INTP</td>\n",
       "      <td>'People who are unable to replace social norms...</td>\n",
       "      <td>People who are unable to replace social norms...</td>\n",
       "      <td>[people, unable, replace, social, norms, ratio...</td>\n",
       "    </tr>\n",
       "    <tr>\n",
       "      <th>2530</th>\n",
       "      <td>ENTP</td>\n",
       "      <td>'Yep! you're right! I agree with you!! i think...</td>\n",
       "      <td>Yep you re right I agree with you i think see...</td>\n",
       "      <td>[yep, right, agree, think, seeking, pressure, ...</td>\n",
       "    </tr>\n",
       "  </tbody>\n",
       "</table>\n",
       "<p>6940 rows × 4 columns</p>\n",
       "</div>"
      ],
      "text/plain": [
       "      type                                              posts  \\\n",
       "1228  INFP  'We are mandarin speakers.  He receive educati...   \n",
       "1290  ISTP  'Nope.  Not now, not ever.  I'm too busy with ...   \n",
       "6756  ENFJ  'That's the only one I haven't gotten to read ...   \n",
       "1662  INFP  'I used to think that maturity was burning bri...   \n",
       "3338  INFP  'I get typed as both a 4w5 and 5w6 as well but...   \n",
       "...    ...                                                ...   \n",
       "7292  INFP  Haven't posted here in a while. Here was my at...   \n",
       "1086  INFP  'Ok, I'll go first. I'm a 29 year old INFP mal...   \n",
       "7435  ENTJ  'I have dated a few INFJs, including my curren...   \n",
       "1843  INTP  'People who are unable to replace social norms...   \n",
       "2530  ENTP  'Yep! you're right! I agree with you!! i think...   \n",
       "\n",
       "                                            posts_clean  \\\n",
       "1228   We are mandarin speakers He receive education...   \n",
       "1290   Nope Not now not ever I m too busy with work ...   \n",
       "6756   That s the only one I haven t gotten to read ...   \n",
       "1662   I used to think that maturity was burning bri...   \n",
       "3338   I get typed as both a 4w5 and 5w6 as well but...   \n",
       "...                                                 ...   \n",
       "7292  Haven t posted here in a while Here was my att...   \n",
       "1086   Ok I ll go first I m a 29 year old INFP male ...   \n",
       "7435   I have dated a few INFJs including my current...   \n",
       "1843   People who are unable to replace social norms...   \n",
       "2530   Yep you re right I agree with you i think see...   \n",
       "\n",
       "                                           tokens_clean  \n",
       "1228  [mandarin, speakers, receive, education, canad...  \n",
       "1290  [nope, ever, busy, work, causes, adrenaline, r...  \n",
       "6756  [one, gotten, read, yet, might, pick, one, boo...  \n",
       "1662  [used, think, maturity, burning, bridges, with...  \n",
       "3338  [get, typed, 4w5, 5w6, well, like, consider, 4...  \n",
       "...                                                 ...  \n",
       "7292  [posted, attire, best, man, buddies, wedding, ...  \n",
       "1086  [ok, go, first, 29, year, old, infp, male, int...  \n",
       "7435  [dated, infjs, including, current, partner, 6,...  \n",
       "1843  [people, unable, replace, social, norms, ratio...  \n",
       "2530  [yep, right, agree, think, seeking, pressure, ...  \n",
       "\n",
       "[6940 rows x 4 columns]"
      ]
     },
     "execution_count": 81,
     "metadata": {},
     "output_type": "execute_result"
    }
   ],
   "source": [
    "train_data_copy"
   ]
  },
  {
   "cell_type": "markdown",
   "metadata": {},
   "source": [
    "#### Compare"
   ]
  },
  {
   "cell_type": "code",
   "execution_count": 82,
   "metadata": {},
   "outputs": [
    {
     "data": {
      "text/html": [
       "<div>\n",
       "<style scoped>\n",
       "    .dataframe tbody tr th:only-of-type {\n",
       "        vertical-align: middle;\n",
       "    }\n",
       "\n",
       "    .dataframe tbody tr th {\n",
       "        vertical-align: top;\n",
       "    }\n",
       "\n",
       "    .dataframe thead th {\n",
       "        text-align: right;\n",
       "    }\n",
       "</style>\n",
       "<table border=\"1\" class=\"dataframe\">\n",
       "  <thead>\n",
       "    <tr style=\"text-align: right;\">\n",
       "      <th></th>\n",
       "      <th>type</th>\n",
       "      <th>posts</th>\n",
       "      <th>posts_clean</th>\n",
       "      <th>tokens_clean</th>\n",
       "      <th>Words count after getCleanPost</th>\n",
       "      <th>Words count after getCleanToken</th>\n",
       "    </tr>\n",
       "  </thead>\n",
       "  <tbody>\n",
       "    <tr>\n",
       "      <th>1228</th>\n",
       "      <td>INFP</td>\n",
       "      <td>'We are mandarin speakers.  He receive educati...</td>\n",
       "      <td>We are mandarin speakers He receive education...</td>\n",
       "      <td>[mandarin, speakers, receive, education, canad...</td>\n",
       "      <td>879</td>\n",
       "      <td>444</td>\n",
       "    </tr>\n",
       "    <tr>\n",
       "      <th>1290</th>\n",
       "      <td>ISTP</td>\n",
       "      <td>'Nope.  Not now, not ever.  I'm too busy with ...</td>\n",
       "      <td>Nope Not now not ever I m too busy with work ...</td>\n",
       "      <td>[nope, ever, busy, work, causes, adrenaline, r...</td>\n",
       "      <td>1299</td>\n",
       "      <td>648</td>\n",
       "    </tr>\n",
       "    <tr>\n",
       "      <th>6756</th>\n",
       "      <td>ENFJ</td>\n",
       "      <td>'That's the only one I haven't gotten to read ...</td>\n",
       "      <td>That s the only one I haven t gotten to read ...</td>\n",
       "      <td>[one, gotten, read, yet, might, pick, one, boo...</td>\n",
       "      <td>1273</td>\n",
       "      <td>571</td>\n",
       "    </tr>\n",
       "    <tr>\n",
       "      <th>1662</th>\n",
       "      <td>INFP</td>\n",
       "      <td>'I used to think that maturity was burning bri...</td>\n",
       "      <td>I used to think that maturity was burning bri...</td>\n",
       "      <td>[used, think, maturity, burning, bridges, with...</td>\n",
       "      <td>1479</td>\n",
       "      <td>678</td>\n",
       "    </tr>\n",
       "    <tr>\n",
       "      <th>3338</th>\n",
       "      <td>INFP</td>\n",
       "      <td>'I get typed as both a 4w5 and 5w6 as well but...</td>\n",
       "      <td>I get typed as both a 4w5 and 5w6 as well but...</td>\n",
       "      <td>[get, typed, 4w5, 5w6, well, like, consider, 4...</td>\n",
       "      <td>1142</td>\n",
       "      <td>522</td>\n",
       "    </tr>\n",
       "    <tr>\n",
       "      <th>...</th>\n",
       "      <td>...</td>\n",
       "      <td>...</td>\n",
       "      <td>...</td>\n",
       "      <td>...</td>\n",
       "      <td>...</td>\n",
       "      <td>...</td>\n",
       "    </tr>\n",
       "    <tr>\n",
       "      <th>7292</th>\n",
       "      <td>INFP</td>\n",
       "      <td>Haven't posted here in a while. Here was my at...</td>\n",
       "      <td>Haven t posted here in a while Here was my att...</td>\n",
       "      <td>[posted, attire, best, man, buddies, wedding, ...</td>\n",
       "      <td>653</td>\n",
       "      <td>331</td>\n",
       "    </tr>\n",
       "    <tr>\n",
       "      <th>1086</th>\n",
       "      <td>INFP</td>\n",
       "      <td>'Ok, I'll go first. I'm a 29 year old INFP mal...</td>\n",
       "      <td>Ok I ll go first I m a 29 year old INFP male ...</td>\n",
       "      <td>[ok, go, first, 29, year, old, infp, male, int...</td>\n",
       "      <td>1086</td>\n",
       "      <td>535</td>\n",
       "    </tr>\n",
       "    <tr>\n",
       "      <th>7435</th>\n",
       "      <td>ENTJ</td>\n",
       "      <td>'I have dated a few INFJs, including my curren...</td>\n",
       "      <td>I have dated a few INFJs including my current...</td>\n",
       "      <td>[dated, infjs, including, current, partner, 6,...</td>\n",
       "      <td>1367</td>\n",
       "      <td>683</td>\n",
       "    </tr>\n",
       "    <tr>\n",
       "      <th>1843</th>\n",
       "      <td>INTP</td>\n",
       "      <td>'People who are unable to replace social norms...</td>\n",
       "      <td>People who are unable to replace social norms...</td>\n",
       "      <td>[people, unable, replace, social, norms, ratio...</td>\n",
       "      <td>720</td>\n",
       "      <td>332</td>\n",
       "    </tr>\n",
       "    <tr>\n",
       "      <th>2530</th>\n",
       "      <td>ENTP</td>\n",
       "      <td>'Yep! you're right! I agree with you!! i think...</td>\n",
       "      <td>Yep you re right I agree with you i think see...</td>\n",
       "      <td>[yep, right, agree, think, seeking, pressure, ...</td>\n",
       "      <td>1751</td>\n",
       "      <td>787</td>\n",
       "    </tr>\n",
       "  </tbody>\n",
       "</table>\n",
       "<p>6940 rows × 6 columns</p>\n",
       "</div>"
      ],
      "text/plain": [
       "      type                                              posts  \\\n",
       "1228  INFP  'We are mandarin speakers.  He receive educati...   \n",
       "1290  ISTP  'Nope.  Not now, not ever.  I'm too busy with ...   \n",
       "6756  ENFJ  'That's the only one I haven't gotten to read ...   \n",
       "1662  INFP  'I used to think that maturity was burning bri...   \n",
       "3338  INFP  'I get typed as both a 4w5 and 5w6 as well but...   \n",
       "...    ...                                                ...   \n",
       "7292  INFP  Haven't posted here in a while. Here was my at...   \n",
       "1086  INFP  'Ok, I'll go first. I'm a 29 year old INFP mal...   \n",
       "7435  ENTJ  'I have dated a few INFJs, including my curren...   \n",
       "1843  INTP  'People who are unable to replace social norms...   \n",
       "2530  ENTP  'Yep! you're right! I agree with you!! i think...   \n",
       "\n",
       "                                            posts_clean  \\\n",
       "1228   We are mandarin speakers He receive education...   \n",
       "1290   Nope Not now not ever I m too busy with work ...   \n",
       "6756   That s the only one I haven t gotten to read ...   \n",
       "1662   I used to think that maturity was burning bri...   \n",
       "3338   I get typed as both a 4w5 and 5w6 as well but...   \n",
       "...                                                 ...   \n",
       "7292  Haven t posted here in a while Here was my att...   \n",
       "1086   Ok I ll go first I m a 29 year old INFP male ...   \n",
       "7435   I have dated a few INFJs including my current...   \n",
       "1843   People who are unable to replace social norms...   \n",
       "2530   Yep you re right I agree with you i think see...   \n",
       "\n",
       "                                           tokens_clean  \\\n",
       "1228  [mandarin, speakers, receive, education, canad...   \n",
       "1290  [nope, ever, busy, work, causes, adrenaline, r...   \n",
       "6756  [one, gotten, read, yet, might, pick, one, boo...   \n",
       "1662  [used, think, maturity, burning, bridges, with...   \n",
       "3338  [get, typed, 4w5, 5w6, well, like, consider, 4...   \n",
       "...                                                 ...   \n",
       "7292  [posted, attire, best, man, buddies, wedding, ...   \n",
       "1086  [ok, go, first, 29, year, old, infp, male, int...   \n",
       "7435  [dated, infjs, including, current, partner, 6,...   \n",
       "1843  [people, unable, replace, social, norms, ratio...   \n",
       "2530  [yep, right, agree, think, seeking, pressure, ...   \n",
       "\n",
       "      Words count after getCleanPost  Words count after getCleanToken  \n",
       "1228                             879                              444  \n",
       "1290                            1299                              648  \n",
       "6756                            1273                              571  \n",
       "1662                            1479                              678  \n",
       "3338                            1142                              522  \n",
       "...                              ...                              ...  \n",
       "7292                             653                              331  \n",
       "1086                            1086                              535  \n",
       "7435                            1367                              683  \n",
       "1843                             720                              332  \n",
       "2530                            1751                              787  \n",
       "\n",
       "[6940 rows x 6 columns]"
      ]
     },
     "execution_count": 82,
     "metadata": {},
     "output_type": "execute_result"
    }
   ],
   "source": [
    "# Statistics\n",
    "train_data_copy['Words count after getCleanPost'] = train_data_copy['posts_clean'].apply(lambda n: len(n.split()))\n",
    "train_data_copy['Words count after getCleanToken'] = train_data_copy['tokens_clean'].str.len()\n",
    "train_data_copy"
   ]
  },
  {
   "cell_type": "code",
   "execution_count": 83,
   "metadata": {},
   "outputs": [
    {
     "data": {
      "text/html": [
       "<div>\n",
       "<style scoped>\n",
       "    .dataframe tbody tr th:only-of-type {\n",
       "        vertical-align: middle;\n",
       "    }\n",
       "\n",
       "    .dataframe tbody tr th {\n",
       "        vertical-align: top;\n",
       "    }\n",
       "\n",
       "    .dataframe thead th {\n",
       "        text-align: right;\n",
       "    }\n",
       "</style>\n",
       "<table border=\"1\" class=\"dataframe\">\n",
       "  <thead>\n",
       "    <tr style=\"text-align: right;\">\n",
       "      <th></th>\n",
       "      <th>Words count after getCleanPost</th>\n",
       "      <th>Words count after getCleanToken</th>\n",
       "    </tr>\n",
       "  </thead>\n",
       "  <tbody>\n",
       "    <tr>\n",
       "      <th>count</th>\n",
       "      <td>6940.000000</td>\n",
       "      <td>6940.000000</td>\n",
       "    </tr>\n",
       "    <tr>\n",
       "      <th>mean</th>\n",
       "      <td>1320.436888</td>\n",
       "      <td>618.429251</td>\n",
       "    </tr>\n",
       "    <tr>\n",
       "      <th>std</th>\n",
       "      <td>325.409982</td>\n",
       "      <td>140.097720</td>\n",
       "    </tr>\n",
       "    <tr>\n",
       "      <th>min</th>\n",
       "      <td>5.000000</td>\n",
       "      <td>4.000000</td>\n",
       "    </tr>\n",
       "    <tr>\n",
       "      <th>25%</th>\n",
       "      <td>1132.000000</td>\n",
       "      <td>539.000000</td>\n",
       "    </tr>\n",
       "    <tr>\n",
       "      <th>50%</th>\n",
       "      <td>1374.000000</td>\n",
       "      <td>643.000000</td>\n",
       "    </tr>\n",
       "    <tr>\n",
       "      <th>75%</th>\n",
       "      <td>1561.000000</td>\n",
       "      <td>721.000000</td>\n",
       "    </tr>\n",
       "    <tr>\n",
       "      <th>max</th>\n",
       "      <td>1998.000000</td>\n",
       "      <td>927.000000</td>\n",
       "    </tr>\n",
       "  </tbody>\n",
       "</table>\n",
       "</div>"
      ],
      "text/plain": [
       "       Words count after getCleanPost  Words count after getCleanToken\n",
       "count                     6940.000000                      6940.000000\n",
       "mean                      1320.436888                       618.429251\n",
       "std                        325.409982                       140.097720\n",
       "min                          5.000000                         4.000000\n",
       "25%                       1132.000000                       539.000000\n",
       "50%                       1374.000000                       643.000000\n",
       "75%                       1561.000000                       721.000000\n",
       "max                       1998.000000                       927.000000"
      ]
     },
     "execution_count": 83,
     "metadata": {},
     "output_type": "execute_result"
    }
   ],
   "source": [
    "train_data_copy.describe()"
   ]
  },
  {
   "cell_type": "markdown",
   "metadata": {},
   "source": [
    "### 2.3: Stemming and Lemmatization\n",
    "- 比較 PorterStemmer 與 SnowballStemmer 的結果\n",
    "- 用 WordNetLemmatizer 進行 Lemmatization"
   ]
  },
  {
   "cell_type": "markdown",
   "metadata": {},
   "source": [
    "Preprocessor()"
   ]
  },
  {
   "cell_type": "code",
   "execution_count": 84,
   "metadata": {},
   "outputs": [],
   "source": [
    "def Preprocessor(text, stemmer='Snowball'):\n",
    "\t# getCleanToken\n",
    "\ttext = re.sub(r'\\|\\|\\|', r' ', text)\n",
    "\ttext = re.sub(r'http\\S+', r'URL', text)\n",
    "\ttext = re.sub('[^0-9a-zA-Z]',' ', text)\n",
    "\ttext = re.sub(' +', ' ', text)\n",
    "\ttext = text.lower()\n",
    "\ttokens = word_tokenize(text)\n",
    "\tfiltered_tokens = [w for w in tokens if not w in stop_words]\n",
    "\n",
    "\t# Add \"Stemming\" and \"Lemmatization\"\n",
    "\tstemmer = SnowballStemmer(\"english\")  # Initiate\n",
    "\tlemma = WordNetLemmatizer()  # Initiate\n",
    "\tstemmed = [stemmer.stem(t) for t in filtered_tokens]  # Stemming\t\n",
    "\tlemmatized = [lemma.lemmatize(t) for t in stemmed]  # Lemmatization\n",
    "\n",
    "\tif stemmer == 'Porter':\n",
    "\t\tstemmer = PorterStemmer()\n",
    "\t\tstemmed = [stemmer_ps.stem(t) for t in filtered_tokens]\n",
    "\t\tlemmatized = [lemma.lemmatize(t) for t in stemmed]\n",
    "\n",
    "\treturn lemmatized"
   ]
  },
  {
   "cell_type": "markdown",
   "metadata": {},
   "source": [
    "#### Function explanation"
   ]
  },
  {
   "cell_type": "code",
   "execution_count": 85,
   "metadata": {},
   "outputs": [],
   "source": [
    "'''\n",
    "Example of the added part in Preprocessor.\n",
    "Referred to the paragraph: # Add \"Stemming\" and \"Lemmatization\"\n",
    "input: getCleanToken(user #1228)\n",
    "output: Preprocessor(user #1228)\n",
    "'''\n",
    "clean_token = getCleanToken(train_data.posts[1228])\n",
    "# Initiate\n",
    "stemmer_ps = PorterStemmer()\n",
    "stemmer_ss = SnowballStemmer(\"english\") \n",
    "lemma = WordNetLemmatizer()\n",
    "# Stemming\n",
    "stemmed_ps = [stemmer_ps.stem(t) for t in clean_token]\n",
    "stemmed_ss = [stemmer_ss.stem(t) for t in clean_token]\n",
    "# Lemmatizing\n",
    "lemmatized_ps = [lemma.lemmatize(t) for t in stemmed_ps]\n",
    "lemmatized_ss = [lemma.lemmatize(t) for t in stemmed_ss]"
   ]
  },
  {
   "cell_type": "markdown",
   "metadata": {},
   "source": [
    "#### Compare different Stemmer"
   ]
  },
  {
   "cell_type": "code",
   "execution_count": 86,
   "metadata": {},
   "outputs": [
    {
     "data": {
      "text/html": [
       "<div>\n",
       "<style scoped>\n",
       "    .dataframe tbody tr th:only-of-type {\n",
       "        vertical-align: middle;\n",
       "    }\n",
       "\n",
       "    .dataframe tbody tr th {\n",
       "        vertical-align: top;\n",
       "    }\n",
       "\n",
       "    .dataframe thead th {\n",
       "        text-align: right;\n",
       "    }\n",
       "</style>\n",
       "<table border=\"1\" class=\"dataframe\">\n",
       "  <thead>\n",
       "    <tr style=\"text-align: right;\">\n",
       "      <th></th>\n",
       "      <th>Original(clean_token)</th>\n",
       "      <th>PorterStemmer</th>\n",
       "      <th>SnowballStemmer</th>\n",
       "      <th>Lemma with PorterStemmer</th>\n",
       "      <th>Lemma with SnowballStemmer</th>\n",
       "    </tr>\n",
       "  </thead>\n",
       "  <tbody>\n",
       "    <tr>\n",
       "      <th>0</th>\n",
       "      <td>mandarin</td>\n",
       "      <td>mandarin</td>\n",
       "      <td>mandarin</td>\n",
       "      <td>mandarin</td>\n",
       "      <td>mandarin</td>\n",
       "    </tr>\n",
       "    <tr>\n",
       "      <th>1</th>\n",
       "      <td>speakers</td>\n",
       "      <td>speaker</td>\n",
       "      <td>speaker</td>\n",
       "      <td>speaker</td>\n",
       "      <td>speaker</td>\n",
       "    </tr>\n",
       "    <tr>\n",
       "      <th>2</th>\n",
       "      <td>receive</td>\n",
       "      <td>receiv</td>\n",
       "      <td>receiv</td>\n",
       "      <td>receiv</td>\n",
       "      <td>receiv</td>\n",
       "    </tr>\n",
       "    <tr>\n",
       "      <th>3</th>\n",
       "      <td>education</td>\n",
       "      <td>educ</td>\n",
       "      <td>educ</td>\n",
       "      <td>educ</td>\n",
       "      <td>educ</td>\n",
       "    </tr>\n",
       "    <tr>\n",
       "      <th>4</th>\n",
       "      <td>canada</td>\n",
       "      <td>canada</td>\n",
       "      <td>canada</td>\n",
       "      <td>canada</td>\n",
       "      <td>canada</td>\n",
       "    </tr>\n",
       "    <tr>\n",
       "      <th>5</th>\n",
       "      <td>since</td>\n",
       "      <td>sinc</td>\n",
       "      <td>sinc</td>\n",
       "      <td>sinc</td>\n",
       "      <td>sinc</td>\n",
       "    </tr>\n",
       "    <tr>\n",
       "      <th>6</th>\n",
       "      <td>13</td>\n",
       "      <td>13</td>\n",
       "      <td>13</td>\n",
       "      <td>13</td>\n",
       "      <td>13</td>\n",
       "    </tr>\n",
       "    <tr>\n",
       "      <th>7</th>\n",
       "      <td>thanks</td>\n",
       "      <td>thank</td>\n",
       "      <td>thank</td>\n",
       "      <td>thank</td>\n",
       "      <td>thank</td>\n",
       "    </tr>\n",
       "    <tr>\n",
       "      <th>8</th>\n",
       "      <td>bellisaurius</td>\n",
       "      <td>bellisauriu</td>\n",
       "      <td>bellisaurius</td>\n",
       "      <td>bellisauriu</td>\n",
       "      <td>bellisaurius</td>\n",
       "    </tr>\n",
       "    <tr>\n",
       "      <th>9</th>\n",
       "      <td>appreciate</td>\n",
       "      <td>appreci</td>\n",
       "      <td>appreci</td>\n",
       "      <td>appreci</td>\n",
       "      <td>appreci</td>\n",
       "    </tr>\n",
       "  </tbody>\n",
       "</table>\n",
       "</div>"
      ],
      "text/plain": [
       "  Original(clean_token) PorterStemmer SnowballStemmer  \\\n",
       "0              mandarin      mandarin        mandarin   \n",
       "1              speakers       speaker         speaker   \n",
       "2               receive        receiv          receiv   \n",
       "3             education          educ            educ   \n",
       "4                canada        canada          canada   \n",
       "5                 since          sinc            sinc   \n",
       "6                    13            13              13   \n",
       "7                thanks         thank           thank   \n",
       "8          bellisaurius   bellisauriu    bellisaurius   \n",
       "9            appreciate       appreci         appreci   \n",
       "\n",
       "  Lemma with PorterStemmer Lemma with SnowballStemmer  \n",
       "0                 mandarin                   mandarin  \n",
       "1                  speaker                    speaker  \n",
       "2                   receiv                     receiv  \n",
       "3                     educ                       educ  \n",
       "4                   canada                     canada  \n",
       "5                     sinc                       sinc  \n",
       "6                       13                         13  \n",
       "7                    thank                      thank  \n",
       "8              bellisauriu               bellisaurius  \n",
       "9                  appreci                    appreci  "
      ]
     },
     "execution_count": 86,
     "metadata": {},
     "output_type": "execute_result"
    }
   ],
   "source": [
    "# Compare different Stemmer and Lemmatizer, which 'stle' stands for.\n",
    "df_stle = pd.DataFrame(\n",
    "          list(zip(clean_token, stemmed_ps, stemmed_ss, lemmatized_ps, lemmatized_ss)),\n",
    "          columns =['Original(clean_token)', 'PorterStemmer', 'SnowballStemmer', 'Lemma with PorterStemmer', 'Lemma with SnowballStemmer']) \n",
    "df_stle.head(10)"
   ]
  },
  {
   "cell_type": "code",
   "execution_count": 87,
   "metadata": {},
   "outputs": [
    {
     "name": "stdout",
     "output_type": "stream",
     "text": [
      "The PorterStemmer and SnowballStemmer has  15 / 444  different tokens in user #1228's posts.\n"
     ]
    },
    {
     "data": {
      "text/html": [
       "<div>\n",
       "<style scoped>\n",
       "    .dataframe tbody tr th:only-of-type {\n",
       "        vertical-align: middle;\n",
       "    }\n",
       "\n",
       "    .dataframe tbody tr th {\n",
       "        vertical-align: top;\n",
       "    }\n",
       "\n",
       "    .dataframe thead th {\n",
       "        text-align: right;\n",
       "    }\n",
       "</style>\n",
       "<table border=\"1\" class=\"dataframe\">\n",
       "  <thead>\n",
       "    <tr style=\"text-align: right;\">\n",
       "      <th></th>\n",
       "      <th>Original(clean_token)</th>\n",
       "      <th>PorterStemmer</th>\n",
       "      <th>SnowballStemmer</th>\n",
       "      <th>Lemma with PorterStemmer</th>\n",
       "      <th>Lemma with SnowballStemmer</th>\n",
       "    </tr>\n",
       "  </thead>\n",
       "  <tbody>\n",
       "    <tr>\n",
       "      <th>8</th>\n",
       "      <td>bellisaurius</td>\n",
       "      <td>bellisauriu</td>\n",
       "      <td>bellisaurius</td>\n",
       "      <td>bellisauriu</td>\n",
       "      <td>bellisaurius</td>\n",
       "    </tr>\n",
       "    <tr>\n",
       "      <th>10</th>\n",
       "      <td>kindly</td>\n",
       "      <td>kindli</td>\n",
       "      <td>kind</td>\n",
       "      <td>kindli</td>\n",
       "      <td>kind</td>\n",
       "    </tr>\n",
       "    <tr>\n",
       "      <th>41</th>\n",
       "      <td>yes</td>\n",
       "      <td>ye</td>\n",
       "      <td>yes</td>\n",
       "      <td>ye</td>\n",
       "      <td>yes</td>\n",
       "    </tr>\n",
       "    <tr>\n",
       "      <th>46</th>\n",
       "      <td>yes</td>\n",
       "      <td>ye</td>\n",
       "      <td>yes</td>\n",
       "      <td>ye</td>\n",
       "      <td>yes</td>\n",
       "    </tr>\n",
       "    <tr>\n",
       "      <th>157</th>\n",
       "      <td>yes</td>\n",
       "      <td>ye</td>\n",
       "      <td>yes</td>\n",
       "      <td>ye</td>\n",
       "      <td>yes</td>\n",
       "    </tr>\n",
       "    <tr>\n",
       "      <th>161</th>\n",
       "      <td>saurus</td>\n",
       "      <td>sauru</td>\n",
       "      <td>saurus</td>\n",
       "      <td>sauru</td>\n",
       "      <td>saurus</td>\n",
       "    </tr>\n",
       "    <tr>\n",
       "      <th>291</th>\n",
       "      <td>dos</td>\n",
       "      <td>do</td>\n",
       "      <td>dos</td>\n",
       "      <td>do</td>\n",
       "      <td>do</td>\n",
       "    </tr>\n",
       "    <tr>\n",
       "      <th>304</th>\n",
       "      <td>pros</td>\n",
       "      <td>pro</td>\n",
       "      <td>pros</td>\n",
       "      <td>pro</td>\n",
       "      <td>pro</td>\n",
       "    </tr>\n",
       "    <tr>\n",
       "      <th>318</th>\n",
       "      <td>exactly</td>\n",
       "      <td>exactli</td>\n",
       "      <td>exact</td>\n",
       "      <td>exactli</td>\n",
       "      <td>exact</td>\n",
       "    </tr>\n",
       "    <tr>\n",
       "      <th>382</th>\n",
       "      <td>dos</td>\n",
       "      <td>do</td>\n",
       "      <td>dos</td>\n",
       "      <td>do</td>\n",
       "      <td>do</td>\n",
       "    </tr>\n",
       "    <tr>\n",
       "      <th>387</th>\n",
       "      <td>dos</td>\n",
       "      <td>do</td>\n",
       "      <td>dos</td>\n",
       "      <td>do</td>\n",
       "      <td>do</td>\n",
       "    </tr>\n",
       "    <tr>\n",
       "      <th>399</th>\n",
       "      <td>dos</td>\n",
       "      <td>do</td>\n",
       "      <td>dos</td>\n",
       "      <td>do</td>\n",
       "      <td>do</td>\n",
       "    </tr>\n",
       "    <tr>\n",
       "      <th>409</th>\n",
       "      <td>dos</td>\n",
       "      <td>do</td>\n",
       "      <td>dos</td>\n",
       "      <td>do</td>\n",
       "      <td>do</td>\n",
       "    </tr>\n",
       "    <tr>\n",
       "      <th>414</th>\n",
       "      <td>dos</td>\n",
       "      <td>do</td>\n",
       "      <td>dos</td>\n",
       "      <td>do</td>\n",
       "      <td>do</td>\n",
       "    </tr>\n",
       "    <tr>\n",
       "      <th>422</th>\n",
       "      <td>communication</td>\n",
       "      <td>commun</td>\n",
       "      <td>communic</td>\n",
       "      <td>commun</td>\n",
       "      <td>communic</td>\n",
       "    </tr>\n",
       "  </tbody>\n",
       "</table>\n",
       "</div>"
      ],
      "text/plain": [
       "    Original(clean_token) PorterStemmer SnowballStemmer  \\\n",
       "8            bellisaurius   bellisauriu    bellisaurius   \n",
       "10                 kindly        kindli            kind   \n",
       "41                    yes            ye             yes   \n",
       "46                    yes            ye             yes   \n",
       "157                   yes            ye             yes   \n",
       "161                saurus         sauru          saurus   \n",
       "291                   dos            do             dos   \n",
       "304                  pros           pro            pros   \n",
       "318               exactly       exactli           exact   \n",
       "382                   dos            do             dos   \n",
       "387                   dos            do             dos   \n",
       "399                   dos            do             dos   \n",
       "409                   dos            do             dos   \n",
       "414                   dos            do             dos   \n",
       "422         communication        commun        communic   \n",
       "\n",
       "    Lemma with PorterStemmer Lemma with SnowballStemmer  \n",
       "8                bellisauriu               bellisaurius  \n",
       "10                    kindli                       kind  \n",
       "41                        ye                        yes  \n",
       "46                        ye                        yes  \n",
       "157                       ye                        yes  \n",
       "161                    sauru                     saurus  \n",
       "291                       do                         do  \n",
       "304                      pro                        pro  \n",
       "318                  exactli                      exact  \n",
       "382                       do                         do  \n",
       "387                       do                         do  \n",
       "399                       do                         do  \n",
       "409                       do                         do  \n",
       "414                       do                         do  \n",
       "422                   commun                   communic  "
      ]
     },
     "execution_count": 87,
     "metadata": {},
     "output_type": "execute_result"
    }
   ],
   "source": [
    "diff_result = df_stle.query('PorterStemmer != SnowballStemmer')\n",
    "print(f'The PorterStemmer and SnowballStemmer has\\\n",
    "  {diff_result.shape[0]} / {df_stle.shape[0]}\\\n",
    "  different tokens in user #1228\\'s posts.')\n",
    "diff_result"
   ]
  },
  {
   "cell_type": "markdown",
   "metadata": {},
   "source": [
    "#### Apply"
   ]
  },
  {
   "cell_type": "code",
   "execution_count": 88,
   "metadata": {},
   "outputs": [
    {
     "data": {
      "application/vnd.jupyter.widget-view+json": {
       "model_id": "e3359682e01648dd975e77f82820db04",
       "version_major": 2,
       "version_minor": 0
      },
      "text/plain": [
       "  0%|          | 0/6940 [00:00<?, ?it/s]"
      ]
     },
     "metadata": {},
     "output_type": "display_data"
    }
   ],
   "source": [
    "# Apply Preprocessor to all training data\n",
    "tqdm.pandas()  # Progress bar\n",
    "train_data_copy['preprocessed'] = train_data_copy['posts'].progress_apply(Preprocessor)"
   ]
  },
  {
   "cell_type": "markdown",
   "metadata": {},
   "source": [
    "### 2.4: Result"
   ]
  },
  {
   "cell_type": "markdown",
   "metadata": {},
   "source": [
    "#### Evolution"
   ]
  },
  {
   "cell_type": "code",
   "execution_count": 89,
   "metadata": {},
   "outputs": [
    {
     "data": {
      "text/html": [
       "<div>\n",
       "<style scoped>\n",
       "    .dataframe tbody tr th:only-of-type {\n",
       "        vertical-align: middle;\n",
       "    }\n",
       "\n",
       "    .dataframe tbody tr th {\n",
       "        vertical-align: top;\n",
       "    }\n",
       "\n",
       "    .dataframe thead th {\n",
       "        text-align: right;\n",
       "    }\n",
       "</style>\n",
       "<table border=\"1\" class=\"dataframe\">\n",
       "  <thead>\n",
       "    <tr style=\"text-align: right;\">\n",
       "      <th></th>\n",
       "      <th>type</th>\n",
       "      <th>posts</th>\n",
       "      <th>posts_clean</th>\n",
       "      <th>tokens_clean</th>\n",
       "      <th>preprocessed</th>\n",
       "    </tr>\n",
       "  </thead>\n",
       "  <tbody>\n",
       "    <tr>\n",
       "      <th>1228</th>\n",
       "      <td>INFP</td>\n",
       "      <td>'We are mandarin speakers.  He receive educati...</td>\n",
       "      <td>We are mandarin speakers He receive education...</td>\n",
       "      <td>[mandarin, speakers, receive, education, canad...</td>\n",
       "      <td>[mandarin, speaker, receiv, educ, canada, sinc...</td>\n",
       "    </tr>\n",
       "    <tr>\n",
       "      <th>1290</th>\n",
       "      <td>ISTP</td>\n",
       "      <td>'Nope.  Not now, not ever.  I'm too busy with ...</td>\n",
       "      <td>Nope Not now not ever I m too busy with work ...</td>\n",
       "      <td>[nope, ever, busy, work, causes, adrenaline, r...</td>\n",
       "      <td>[nope, ever, busi, work, caus, adrenalin, rush...</td>\n",
       "    </tr>\n",
       "    <tr>\n",
       "      <th>6756</th>\n",
       "      <td>ENFJ</td>\n",
       "      <td>'That's the only one I haven't gotten to read ...</td>\n",
       "      <td>That s the only one I haven t gotten to read ...</td>\n",
       "      <td>[one, gotten, read, yet, might, pick, one, boo...</td>\n",
       "      <td>[one, gotten, read, yet, might, pick, one, boo...</td>\n",
       "    </tr>\n",
       "    <tr>\n",
       "      <th>1662</th>\n",
       "      <td>INFP</td>\n",
       "      <td>'I used to think that maturity was burning bri...</td>\n",
       "      <td>I used to think that maturity was burning bri...</td>\n",
       "      <td>[used, think, maturity, burning, bridges, with...</td>\n",
       "      <td>[use, think, matur, burn, bridg, without, seco...</td>\n",
       "    </tr>\n",
       "    <tr>\n",
       "      <th>3338</th>\n",
       "      <td>INFP</td>\n",
       "      <td>'I get typed as both a 4w5 and 5w6 as well but...</td>\n",
       "      <td>I get typed as both a 4w5 and 5w6 as well but...</td>\n",
       "      <td>[get, typed, 4w5, 5w6, well, like, consider, 4...</td>\n",
       "      <td>[get, type, 4w5, 5w6, well, like, consid, 4w5,...</td>\n",
       "    </tr>\n",
       "    <tr>\n",
       "      <th>...</th>\n",
       "      <td>...</td>\n",
       "      <td>...</td>\n",
       "      <td>...</td>\n",
       "      <td>...</td>\n",
       "      <td>...</td>\n",
       "    </tr>\n",
       "    <tr>\n",
       "      <th>7292</th>\n",
       "      <td>INFP</td>\n",
       "      <td>Haven't posted here in a while. Here was my at...</td>\n",
       "      <td>Haven t posted here in a while Here was my att...</td>\n",
       "      <td>[posted, attire, best, man, buddies, wedding, ...</td>\n",
       "      <td>[post, attir, best, man, buddi, wed, 698410, u...</td>\n",
       "    </tr>\n",
       "    <tr>\n",
       "      <th>1086</th>\n",
       "      <td>INFP</td>\n",
       "      <td>'Ok, I'll go first. I'm a 29 year old INFP mal...</td>\n",
       "      <td>Ok I ll go first I m a 29 year old INFP male ...</td>\n",
       "      <td>[ok, go, first, 29, year, old, infp, male, int...</td>\n",
       "      <td>[ok, go, first, 29, year, old, infp, male, int...</td>\n",
       "    </tr>\n",
       "    <tr>\n",
       "      <th>7435</th>\n",
       "      <td>ENTJ</td>\n",
       "      <td>'I have dated a few INFJs, including my curren...</td>\n",
       "      <td>I have dated a few INFJs including my current...</td>\n",
       "      <td>[dated, infjs, including, current, partner, 6,...</td>\n",
       "      <td>[date, infj, includ, current, partner, 6, year...</td>\n",
       "    </tr>\n",
       "    <tr>\n",
       "      <th>1843</th>\n",
       "      <td>INTP</td>\n",
       "      <td>'People who are unable to replace social norms...</td>\n",
       "      <td>People who are unable to replace social norms...</td>\n",
       "      <td>[people, unable, replace, social, norms, ratio...</td>\n",
       "      <td>[peopl, unabl, replac, social, norm, ration, e...</td>\n",
       "    </tr>\n",
       "    <tr>\n",
       "      <th>2530</th>\n",
       "      <td>ENTP</td>\n",
       "      <td>'Yep! you're right! I agree with you!! i think...</td>\n",
       "      <td>Yep you re right I agree with you i think see...</td>\n",
       "      <td>[yep, right, agree, think, seeking, pressure, ...</td>\n",
       "      <td>[yep, right, agre, think, seek, pressur, relev...</td>\n",
       "    </tr>\n",
       "  </tbody>\n",
       "</table>\n",
       "<p>6940 rows × 5 columns</p>\n",
       "</div>"
      ],
      "text/plain": [
       "      type                                              posts  \\\n",
       "1228  INFP  'We are mandarin speakers.  He receive educati...   \n",
       "1290  ISTP  'Nope.  Not now, not ever.  I'm too busy with ...   \n",
       "6756  ENFJ  'That's the only one I haven't gotten to read ...   \n",
       "1662  INFP  'I used to think that maturity was burning bri...   \n",
       "3338  INFP  'I get typed as both a 4w5 and 5w6 as well but...   \n",
       "...    ...                                                ...   \n",
       "7292  INFP  Haven't posted here in a while. Here was my at...   \n",
       "1086  INFP  'Ok, I'll go first. I'm a 29 year old INFP mal...   \n",
       "7435  ENTJ  'I have dated a few INFJs, including my curren...   \n",
       "1843  INTP  'People who are unable to replace social norms...   \n",
       "2530  ENTP  'Yep! you're right! I agree with you!! i think...   \n",
       "\n",
       "                                            posts_clean  \\\n",
       "1228   We are mandarin speakers He receive education...   \n",
       "1290   Nope Not now not ever I m too busy with work ...   \n",
       "6756   That s the only one I haven t gotten to read ...   \n",
       "1662   I used to think that maturity was burning bri...   \n",
       "3338   I get typed as both a 4w5 and 5w6 as well but...   \n",
       "...                                                 ...   \n",
       "7292  Haven t posted here in a while Here was my att...   \n",
       "1086   Ok I ll go first I m a 29 year old INFP male ...   \n",
       "7435   I have dated a few INFJs including my current...   \n",
       "1843   People who are unable to replace social norms...   \n",
       "2530   Yep you re right I agree with you i think see...   \n",
       "\n",
       "                                           tokens_clean  \\\n",
       "1228  [mandarin, speakers, receive, education, canad...   \n",
       "1290  [nope, ever, busy, work, causes, adrenaline, r...   \n",
       "6756  [one, gotten, read, yet, might, pick, one, boo...   \n",
       "1662  [used, think, maturity, burning, bridges, with...   \n",
       "3338  [get, typed, 4w5, 5w6, well, like, consider, 4...   \n",
       "...                                                 ...   \n",
       "7292  [posted, attire, best, man, buddies, wedding, ...   \n",
       "1086  [ok, go, first, 29, year, old, infp, male, int...   \n",
       "7435  [dated, infjs, including, current, partner, 6,...   \n",
       "1843  [people, unable, replace, social, norms, ratio...   \n",
       "2530  [yep, right, agree, think, seeking, pressure, ...   \n",
       "\n",
       "                                           preprocessed  \n",
       "1228  [mandarin, speaker, receiv, educ, canada, sinc...  \n",
       "1290  [nope, ever, busi, work, caus, adrenalin, rush...  \n",
       "6756  [one, gotten, read, yet, might, pick, one, boo...  \n",
       "1662  [use, think, matur, burn, bridg, without, seco...  \n",
       "3338  [get, type, 4w5, 5w6, well, like, consid, 4w5,...  \n",
       "...                                                 ...  \n",
       "7292  [post, attir, best, man, buddi, wed, 698410, u...  \n",
       "1086  [ok, go, first, 29, year, old, infp, male, int...  \n",
       "7435  [date, infj, includ, current, partner, 6, year...  \n",
       "1843  [peopl, unabl, replac, social, norm, ration, e...  \n",
       "2530  [yep, right, agre, think, seek, pressur, relev...  \n",
       "\n",
       "[6940 rows x 5 columns]"
      ]
     },
     "execution_count": 89,
     "metadata": {},
     "output_type": "execute_result"
    }
   ],
   "source": [
    "train_data_copy.drop(train_data_copy.columns[[4,5]],axis = 1)"
   ]
  },
  {
   "cell_type": "markdown",
   "metadata": {},
   "source": [
    "#### Random example"
   ]
  },
  {
   "cell_type": "code",
   "execution_count": 131,
   "metadata": {},
   "outputs": [
    {
     "name": "stdout",
     "output_type": "stream",
     "text": [
      "Input (800 words):\n",
      "'http://www.youtube.com/watch?v=qsXHcwe3krw|||http://41.media.tumblr.com/tumblr_lfouy03PMA1qa1rooo1_500.jpg|||enfp and intj moments  https://www.youtube.com/watch?v=iz7lE1g4XM4  sportscenter not top ten plays  https://www.youtube.com/watch?v=uCdfze1etec  pranks|||What has been the most life-changing experience in your life?|||http://www.youtube.com/watch?v=vXZeYwwRDw8   http://www.youtube.com/watch?v=u8ejam5DP3E  On repeat for most of today.|||May the PerC Experience immerse you.|||The last thing my INFJ friend posted on his facebook before committing suicide the next day. Rest in peace~   http://vimeo.com/22842206|||Hello ENFJ7. Sorry to hear of your distress. It's only natural for a relationship to not be perfection all the time in every moment of existence. Try to figure the hard times ...\n"
     ]
    }
   ],
   "source": [
    "print(f'Input (800 words):\\n{train_data.posts[0][:800]}...')"
   ]
  },
  {
   "cell_type": "code",
   "execution_count": 121,
   "metadata": {},
   "outputs": [
    {
     "name": "stdout",
     "output_type": "stream",
     "text": [
      "Output:\n",
      "['url', 'url', 'enfp', 'intj', 'moment', 'url', 'sportscent', 'top', 'ten', 'play', 'url', 'prank', 'life', 'chang', 'experi', 'life', 'url', 'url', 'repeat', 'today', 'may', 'perc', 'experi', 'immers', 'last', 'thing', 'infj', 'friend', 'post', 'facebook', 'commit', 'suicid', 'next', 'day', 'rest', 'peac', 'url', 'hello', 'enfj7', 'sorri', 'hear', 'distress', 'natur', 'relationship', 'perfect', 'time', 'everi', 'moment', 'exist', 'tri', 'figur', 'hard', 'time', 'time', 'growth', '84389', '84390', 'url', 'url', 'welcom', 'stuff', 'url', 'game', 'set', 'match', 'prozac', 'wellbrutin', 'least', 'thirti', 'minut', 'move', 'leg', 'mean', 'move', 'sit', 'desk', 'chair', 'weed', 'moder', 'mayb', 'tri', 'edibl', 'healthier', 'altern', 'basic', 'come', 'three', 'item', 'determin', 'type', 'whichev', 'type', 'want', 'would', 'like', 'use', 'given', 'type', 'cognit', 'function', 'whatnot', 'left', 'thing', 'moder', 'sim', 'inde', 'video', 'game', 'good', 'one', 'note', 'good', 'one', 'somewhat', 'subject', 'complet', 'promot', 'death', 'given', 'sim', 'dear', 'enfp', 'favorit', 'video', 'game', 'grow', 'current', 'favorit', 'video', 'game', 'cool', 'url', 'appear', 'late', 'sad', 'someon', 'everyon', 'wait', 'thought', 'confid', 'good', 'thing', 'cherish', 'time', 'solitud', 'b', 'c', 'revel', 'within', 'inner', 'world', 'wherea', 'time', 'workin', 'enjoy', 'time', 'worri', 'peopl', 'alway', 'around', 'yo', 'entp', 'ladi', 'complimentari', 'person', 'well', 'hey', 'main', 'social', 'outlet', 'xbox', 'live', 'convers', 'even', 'verbal', 'fatigu', 'quick', 'url', 'realli', 'dig', 'part', '1', '46', '2', '50', 'url', 'ban', 'thread', 'requir', 'get', 'high', 'backyard', 'roast', 'eat', 'marshmellow', 'backyard', 'convers', 'someth', 'intellectu', 'follow', 'massag', 'kiss', 'url', 'url', 'url', 'ban', 'mani', 'b', 'sentenc', 'could', 'think', 'b', 'ban', 'watch', 'movi', 'corner', 'dunc', 'ban', 'health', 'class', 'clear', 'taught', 'noth', 'peer', 'pressur', 'ban', 'whole', 'host', 'reason', 'url', '1', 'two', 'babi', 'deer', 'left', 'right', 'munch', 'beetl', 'middl', '2', 'use', 'blood', 'two', 'caveman', 'diari', 'today', 'latest', 'happen', 'design', 'cave', 'diari', 'wall', '3', 'see', 'pokemon', 'world', 'infj', 'societi', 'everyon', 'becom', 'optimist', '49142', 'url', 'url', 'url', 'url', 'artist', 'artist', 'draw', 'idea', 'count', 'form', 'someth', 'like', 'signatur', 'welcom', 'robot', 'rank', 'person', 'down', 'self', 'esteem', 'cuz', 'avid', 'signatur', 'artist', 'like', 'proud', 'ban', 'take', 'room', 'bed', 'ya', 'got', 'ta', 'learn', 'share', 'roach', 'url', 'ban', 'much', 'thunder', 'grumbl', 'kind', 'storm', 'yep', 'ahh', 'old', 'high', 'school', 'music', 'heard', 'age', 'url', 'fail', 'public', 'speak', 'class', 'year', 'ago', 'sort', 'learn', 'could', 'better', 'posit', 'big', 'part', 'failur', 'overload', 'like', 'person', 'mental', 'confirm', 'intj', 'way', 'url', 'move', 'denver', 'area', 'start', 'new', 'life']\n"
     ]
    }
   ],
   "source": [
    "print(f'Output:\\n{Preprocessor(train_data.posts[0])}')"
   ]
  },
  {
   "cell_type": "code",
   "execution_count": null,
   "metadata": {},
   "outputs": [],
   "source": []
  }
 ],
 "metadata": {
  "kernelspec": {
   "display_name": "Python 3.8.2 ('base')",
   "language": "python",
   "name": "python3"
  },
  "language_info": {
   "codemirror_mode": {
    "name": "ipython",
    "version": 3
   },
   "file_extension": ".py",
   "mimetype": "text/x-python",
   "name": "python",
   "nbconvert_exporter": "python",
   "pygments_lexer": "ipython3",
   "version": "3.8.2"
  },
  "orig_nbformat": 4,
  "vscode": {
   "interpreter": {
    "hash": "e869ac8efe90cbfac82bf7a18539a20990ac3d9cb539ed36e4bdd738f05377b6"
   }
  }
 },
 "nbformat": 4,
 "nbformat_minor": 2
}
