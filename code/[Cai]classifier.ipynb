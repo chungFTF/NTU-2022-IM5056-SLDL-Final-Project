{
  "cells": [
    {
      "cell_type": "code",
      "execution_count": null,
      "metadata": {},
      "outputs": [],
      "source": [
        "import pandas as pd"
      ]
    },
    {
      "cell_type": "code",
      "execution_count": 2,
      "metadata": {
        "id": "w8jZj_WuKaEe"
      },
      "outputs": [],
      "source": [
        "from sklearn.feature_extraction.text import TfidfVectorizer\n",
        "\n",
        "tfidf = TfidfVectorizer(max_features = 3000, stop_words='english', lowercase=False, norm=None ,use_idf=True, smooth_idf=True)"
      ]
    },
    {
      "cell_type": "code",
      "execution_count": 11,
      "metadata": {
        "colab": {
          "base_uri": "https://localhost:8080/",
          "height": 488
        },
        "id": "diq9P4z0MXMQ",
        "outputId": "46e33f22-dcdf-44b8-81f3-6ec232482530"
      },
      "outputs": [
        {
          "data": {
            "text/html": [
              "\n",
              "  <div id=\"df-7c09444b-116c-4f9f-b732-7e9695b4edbe\">\n",
              "    <div class=\"colab-df-container\">\n",
              "      <div>\n",
              "<style scoped>\n",
              "    .dataframe tbody tr th:only-of-type {\n",
              "        vertical-align: middle;\n",
              "    }\n",
              "\n",
              "    .dataframe tbody tr th {\n",
              "        vertical-align: top;\n",
              "    }\n",
              "\n",
              "    .dataframe thead th {\n",
              "        text-align: right;\n",
              "    }\n",
              "</style>\n",
              "<table border=\"1\" class=\"dataframe\">\n",
              "  <thead>\n",
              "    <tr style=\"text-align: right;\">\n",
              "      <th></th>\n",
              "      <th>0</th>\n",
              "      <th>1</th>\n",
              "      <th>2</th>\n",
              "      <th>3</th>\n",
              "      <th>4</th>\n",
              "      <th>5</th>\n",
              "      <th>6</th>\n",
              "      <th>7</th>\n",
              "      <th>8</th>\n",
              "      <th>9</th>\n",
              "      <th>...</th>\n",
              "      <th>2990</th>\n",
              "      <th>2991</th>\n",
              "      <th>2992</th>\n",
              "      <th>2993</th>\n",
              "      <th>2994</th>\n",
              "      <th>2995</th>\n",
              "      <th>2996</th>\n",
              "      <th>2997</th>\n",
              "      <th>2998</th>\n",
              "      <th>2999</th>\n",
              "    </tr>\n",
              "  </thead>\n",
              "  <tbody>\n",
              "    <tr>\n",
              "      <th>0</th>\n",
              "      <td>0.000000</td>\n",
              "      <td>0.000000</td>\n",
              "      <td>0.000000</td>\n",
              "      <td>0.000000</td>\n",
              "      <td>0.000000</td>\n",
              "      <td>0.0</td>\n",
              "      <td>0.0</td>\n",
              "      <td>0.0</td>\n",
              "      <td>0.000000</td>\n",
              "      <td>0.000000</td>\n",
              "      <td>...</td>\n",
              "      <td>0.000000</td>\n",
              "      <td>0.000000</td>\n",
              "      <td>0.000000</td>\n",
              "      <td>0.000000</td>\n",
              "      <td>0.000000</td>\n",
              "      <td>0.000000</td>\n",
              "      <td>0.000000</td>\n",
              "      <td>0.000000</td>\n",
              "      <td>0.000000</td>\n",
              "      <td>3.788207</td>\n",
              "    </tr>\n",
              "    <tr>\n",
              "      <th>1</th>\n",
              "      <td>0.000000</td>\n",
              "      <td>29.085481</td>\n",
              "      <td>34.462994</td>\n",
              "      <td>72.815157</td>\n",
              "      <td>30.279096</td>\n",
              "      <td>0.0</td>\n",
              "      <td>0.0</td>\n",
              "      <td>0.0</td>\n",
              "      <td>0.000000</td>\n",
              "      <td>4.403022</td>\n",
              "      <td>...</td>\n",
              "      <td>37.489188</td>\n",
              "      <td>219.298689</td>\n",
              "      <td>5.644137</td>\n",
              "      <td>31.473958</td>\n",
              "      <td>3.227533</td>\n",
              "      <td>4.727918</td>\n",
              "      <td>0.000000</td>\n",
              "      <td>0.000000</td>\n",
              "      <td>0.000000</td>\n",
              "      <td>11.364621</td>\n",
              "    </tr>\n",
              "    <tr>\n",
              "      <th>2</th>\n",
              "      <td>0.000000</td>\n",
              "      <td>0.000000</td>\n",
              "      <td>0.000000</td>\n",
              "      <td>0.000000</td>\n",
              "      <td>0.000000</td>\n",
              "      <td>0.0</td>\n",
              "      <td>0.0</td>\n",
              "      <td>0.0</td>\n",
              "      <td>0.000000</td>\n",
              "      <td>0.000000</td>\n",
              "      <td>...</td>\n",
              "      <td>0.000000</td>\n",
              "      <td>0.000000</td>\n",
              "      <td>0.000000</td>\n",
              "      <td>0.000000</td>\n",
              "      <td>0.000000</td>\n",
              "      <td>0.000000</td>\n",
              "      <td>0.000000</td>\n",
              "      <td>0.000000</td>\n",
              "      <td>0.000000</td>\n",
              "      <td>0.000000</td>\n",
              "    </tr>\n",
              "    <tr>\n",
              "      <th>3</th>\n",
              "      <td>0.000000</td>\n",
              "      <td>0.000000</td>\n",
              "      <td>2.871916</td>\n",
              "      <td>0.000000</td>\n",
              "      <td>0.000000</td>\n",
              "      <td>0.0</td>\n",
              "      <td>0.0</td>\n",
              "      <td>0.0</td>\n",
              "      <td>0.000000</td>\n",
              "      <td>0.000000</td>\n",
              "      <td>...</td>\n",
              "      <td>0.000000</td>\n",
              "      <td>0.000000</td>\n",
              "      <td>0.000000</td>\n",
              "      <td>0.000000</td>\n",
              "      <td>0.000000</td>\n",
              "      <td>0.000000</td>\n",
              "      <td>3.808788</td>\n",
              "      <td>0.000000</td>\n",
              "      <td>0.000000</td>\n",
              "      <td>0.000000</td>\n",
              "    </tr>\n",
              "    <tr>\n",
              "      <th>4</th>\n",
              "      <td>0.000000</td>\n",
              "      <td>0.000000</td>\n",
              "      <td>0.000000</td>\n",
              "      <td>0.000000</td>\n",
              "      <td>0.000000</td>\n",
              "      <td>0.0</td>\n",
              "      <td>0.0</td>\n",
              "      <td>0.0</td>\n",
              "      <td>0.000000</td>\n",
              "      <td>0.000000</td>\n",
              "      <td>...</td>\n",
              "      <td>0.000000</td>\n",
              "      <td>0.000000</td>\n",
              "      <td>0.000000</td>\n",
              "      <td>0.000000</td>\n",
              "      <td>19.365201</td>\n",
              "      <td>0.000000</td>\n",
              "      <td>0.000000</td>\n",
              "      <td>0.000000</td>\n",
              "      <td>0.000000</td>\n",
              "      <td>0.000000</td>\n",
              "    </tr>\n",
              "    <tr>\n",
              "      <th>...</th>\n",
              "      <td>...</td>\n",
              "      <td>...</td>\n",
              "      <td>...</td>\n",
              "      <td>...</td>\n",
              "      <td>...</td>\n",
              "      <td>...</td>\n",
              "      <td>...</td>\n",
              "      <td>...</td>\n",
              "      <td>...</td>\n",
              "      <td>...</td>\n",
              "      <td>...</td>\n",
              "      <td>...</td>\n",
              "      <td>...</td>\n",
              "      <td>...</td>\n",
              "      <td>...</td>\n",
              "      <td>...</td>\n",
              "      <td>...</td>\n",
              "      <td>...</td>\n",
              "      <td>...</td>\n",
              "      <td>...</td>\n",
              "      <td>...</td>\n",
              "    </tr>\n",
              "    <tr>\n",
              "      <th>8770</th>\n",
              "      <td>0.000000</td>\n",
              "      <td>0.000000</td>\n",
              "      <td>0.000000</td>\n",
              "      <td>2.080433</td>\n",
              "      <td>0.000000</td>\n",
              "      <td>0.0</td>\n",
              "      <td>0.0</td>\n",
              "      <td>0.0</td>\n",
              "      <td>0.000000</td>\n",
              "      <td>0.000000</td>\n",
              "      <td>...</td>\n",
              "      <td>0.000000</td>\n",
              "      <td>0.000000</td>\n",
              "      <td>2.822068</td>\n",
              "      <td>0.000000</td>\n",
              "      <td>3.227533</td>\n",
              "      <td>0.000000</td>\n",
              "      <td>0.000000</td>\n",
              "      <td>0.000000</td>\n",
              "      <td>0.000000</td>\n",
              "      <td>0.000000</td>\n",
              "    </tr>\n",
              "    <tr>\n",
              "      <th>8771</th>\n",
              "      <td>0.000000</td>\n",
              "      <td>11.634192</td>\n",
              "      <td>0.000000</td>\n",
              "      <td>12.482598</td>\n",
              "      <td>0.000000</td>\n",
              "      <td>0.0</td>\n",
              "      <td>0.0</td>\n",
              "      <td>0.0</td>\n",
              "      <td>11.109147</td>\n",
              "      <td>0.000000</td>\n",
              "      <td>...</td>\n",
              "      <td>37.489188</td>\n",
              "      <td>22.207462</td>\n",
              "      <td>5.644137</td>\n",
              "      <td>0.000000</td>\n",
              "      <td>16.137667</td>\n",
              "      <td>9.455836</td>\n",
              "      <td>7.617575</td>\n",
              "      <td>4.244965</td>\n",
              "      <td>0.000000</td>\n",
              "      <td>11.364621</td>\n",
              "    </tr>\n",
              "    <tr>\n",
              "      <th>8772</th>\n",
              "      <td>0.000000</td>\n",
              "      <td>0.000000</td>\n",
              "      <td>0.000000</td>\n",
              "      <td>2.080433</td>\n",
              "      <td>0.000000</td>\n",
              "      <td>0.0</td>\n",
              "      <td>0.0</td>\n",
              "      <td>0.0</td>\n",
              "      <td>0.000000</td>\n",
              "      <td>0.000000</td>\n",
              "      <td>...</td>\n",
              "      <td>0.000000</td>\n",
              "      <td>0.000000</td>\n",
              "      <td>0.000000</td>\n",
              "      <td>0.000000</td>\n",
              "      <td>0.000000</td>\n",
              "      <td>0.000000</td>\n",
              "      <td>0.000000</td>\n",
              "      <td>0.000000</td>\n",
              "      <td>4.470304</td>\n",
              "      <td>0.000000</td>\n",
              "    </tr>\n",
              "    <tr>\n",
              "      <th>8773</th>\n",
              "      <td>4.507622</td>\n",
              "      <td>0.000000</td>\n",
              "      <td>0.000000</td>\n",
              "      <td>2.080433</td>\n",
              "      <td>0.000000</td>\n",
              "      <td>0.0</td>\n",
              "      <td>0.0</td>\n",
              "      <td>0.0</td>\n",
              "      <td>0.000000</td>\n",
              "      <td>0.000000</td>\n",
              "      <td>...</td>\n",
              "      <td>0.000000</td>\n",
              "      <td>5.551866</td>\n",
              "      <td>0.000000</td>\n",
              "      <td>0.000000</td>\n",
              "      <td>0.000000</td>\n",
              "      <td>0.000000</td>\n",
              "      <td>0.000000</td>\n",
              "      <td>0.000000</td>\n",
              "      <td>0.000000</td>\n",
              "      <td>0.000000</td>\n",
              "    </tr>\n",
              "    <tr>\n",
              "      <th>8774</th>\n",
              "      <td>0.000000</td>\n",
              "      <td>0.000000</td>\n",
              "      <td>0.000000</td>\n",
              "      <td>0.000000</td>\n",
              "      <td>2.329161</td>\n",
              "      <td>0.0</td>\n",
              "      <td>0.0</td>\n",
              "      <td>0.0</td>\n",
              "      <td>0.000000</td>\n",
              "      <td>0.000000</td>\n",
              "      <td>...</td>\n",
              "      <td>0.000000</td>\n",
              "      <td>0.000000</td>\n",
              "      <td>0.000000</td>\n",
              "      <td>0.000000</td>\n",
              "      <td>0.000000</td>\n",
              "      <td>0.000000</td>\n",
              "      <td>0.000000</td>\n",
              "      <td>0.000000</td>\n",
              "      <td>0.000000</td>\n",
              "      <td>0.000000</td>\n",
              "    </tr>\n",
              "  </tbody>\n",
              "</table>\n",
              "<p>8775 rows × 3000 columns</p>\n",
              "</div>\n",
              "      <button class=\"colab-df-convert\" onclick=\"convertToInteractive('df-7c09444b-116c-4f9f-b732-7e9695b4edbe')\"\n",
              "              title=\"Convert this dataframe to an interactive table.\"\n",
              "              style=\"display:none;\">\n",
              "        \n",
              "  <svg xmlns=\"http://www.w3.org/2000/svg\" height=\"24px\"viewBox=\"0 0 24 24\"\n",
              "       width=\"24px\">\n",
              "    <path d=\"M0 0h24v24H0V0z\" fill=\"none\"/>\n",
              "    <path d=\"M18.56 5.44l.94 2.06.94-2.06 2.06-.94-2.06-.94-.94-2.06-.94 2.06-2.06.94zm-11 1L8.5 8.5l.94-2.06 2.06-.94-2.06-.94L8.5 2.5l-.94 2.06-2.06.94zm10 10l.94 2.06.94-2.06 2.06-.94-2.06-.94-.94-2.06-.94 2.06-2.06.94z\"/><path d=\"M17.41 7.96l-1.37-1.37c-.4-.4-.92-.59-1.43-.59-.52 0-1.04.2-1.43.59L10.3 9.45l-7.72 7.72c-.78.78-.78 2.05 0 2.83L4 21.41c.39.39.9.59 1.41.59.51 0 1.02-.2 1.41-.59l7.78-7.78 2.81-2.81c.8-.78.8-2.07 0-2.86zM5.41 20L4 18.59l7.72-7.72 1.47 1.35L5.41 20z\"/>\n",
              "  </svg>\n",
              "      </button>\n",
              "      \n",
              "  <style>\n",
              "    .colab-df-container {\n",
              "      display:flex;\n",
              "      flex-wrap:wrap;\n",
              "      gap: 12px;\n",
              "    }\n",
              "\n",
              "    .colab-df-convert {\n",
              "      background-color: #E8F0FE;\n",
              "      border: none;\n",
              "      border-radius: 50%;\n",
              "      cursor: pointer;\n",
              "      display: none;\n",
              "      fill: #1967D2;\n",
              "      height: 32px;\n",
              "      padding: 0 0 0 0;\n",
              "      width: 32px;\n",
              "    }\n",
              "\n",
              "    .colab-df-convert:hover {\n",
              "      background-color: #E2EBFA;\n",
              "      box-shadow: 0px 1px 2px rgba(60, 64, 67, 0.3), 0px 1px 3px 1px rgba(60, 64, 67, 0.15);\n",
              "      fill: #174EA6;\n",
              "    }\n",
              "\n",
              "    [theme=dark] .colab-df-convert {\n",
              "      background-color: #3B4455;\n",
              "      fill: #D2E3FC;\n",
              "    }\n",
              "\n",
              "    [theme=dark] .colab-df-convert:hover {\n",
              "      background-color: #434B5C;\n",
              "      box-shadow: 0px 1px 3px 1px rgba(0, 0, 0, 0.15);\n",
              "      filter: drop-shadow(0px 1px 2px rgba(0, 0, 0, 0.3));\n",
              "      fill: #FFFFFF;\n",
              "    }\n",
              "  </style>\n",
              "\n",
              "      <script>\n",
              "        const buttonEl =\n",
              "          document.querySelector('#df-7c09444b-116c-4f9f-b732-7e9695b4edbe button.colab-df-convert');\n",
              "        buttonEl.style.display =\n",
              "          google.colab.kernel.accessAllowed ? 'block' : 'none';\n",
              "\n",
              "        async function convertToInteractive(key) {\n",
              "          const element = document.querySelector('#df-7c09444b-116c-4f9f-b732-7e9695b4edbe');\n",
              "          const dataTable =\n",
              "            await google.colab.kernel.invokeFunction('convertToInteractive',\n",
              "                                                     [key], {});\n",
              "          if (!dataTable) return;\n",
              "\n",
              "          const docLinkHtml = 'Like what you see? Visit the ' +\n",
              "            '<a target=\"_blank\" href=https://colab.research.google.com/notebooks/data_table.ipynb>data table notebook</a>'\n",
              "            + ' to learn more about interactive tables.';\n",
              "          element.innerHTML = '';\n",
              "          dataTable['output_type'] = 'display_data';\n",
              "          await google.colab.output.renderOutput(dataTable, element);\n",
              "          const docLink = document.createElement('div');\n",
              "          docLink.innerHTML = docLinkHtml;\n",
              "          element.appendChild(docLink);\n",
              "        }\n",
              "      </script>\n",
              "    </div>\n",
              "  </div>\n",
              "  "
            ],
            "text/plain": [
              "          0          1          2          3          4     5     6     7     \\\n",
              "0     0.000000   0.000000   0.000000   0.000000   0.000000   0.0   0.0   0.0   \n",
              "1     0.000000  29.085481  34.462994  72.815157  30.279096   0.0   0.0   0.0   \n",
              "2     0.000000   0.000000   0.000000   0.000000   0.000000   0.0   0.0   0.0   \n",
              "3     0.000000   0.000000   2.871916   0.000000   0.000000   0.0   0.0   0.0   \n",
              "4     0.000000   0.000000   0.000000   0.000000   0.000000   0.0   0.0   0.0   \n",
              "...        ...        ...        ...        ...        ...   ...   ...   ...   \n",
              "8770  0.000000   0.000000   0.000000   2.080433   0.000000   0.0   0.0   0.0   \n",
              "8771  0.000000  11.634192   0.000000  12.482598   0.000000   0.0   0.0   0.0   \n",
              "8772  0.000000   0.000000   0.000000   2.080433   0.000000   0.0   0.0   0.0   \n",
              "8773  4.507622   0.000000   0.000000   2.080433   0.000000   0.0   0.0   0.0   \n",
              "8774  0.000000   0.000000   0.000000   0.000000   2.329161   0.0   0.0   0.0   \n",
              "\n",
              "           8         9     ...       2990        2991      2992       2993  \\\n",
              "0      0.000000  0.000000  ...   0.000000    0.000000  0.000000   0.000000   \n",
              "1      0.000000  4.403022  ...  37.489188  219.298689  5.644137  31.473958   \n",
              "2      0.000000  0.000000  ...   0.000000    0.000000  0.000000   0.000000   \n",
              "3      0.000000  0.000000  ...   0.000000    0.000000  0.000000   0.000000   \n",
              "4      0.000000  0.000000  ...   0.000000    0.000000  0.000000   0.000000   \n",
              "...         ...       ...  ...        ...         ...       ...        ...   \n",
              "8770   0.000000  0.000000  ...   0.000000    0.000000  2.822068   0.000000   \n",
              "8771  11.109147  0.000000  ...  37.489188   22.207462  5.644137   0.000000   \n",
              "8772   0.000000  0.000000  ...   0.000000    0.000000  0.000000   0.000000   \n",
              "8773   0.000000  0.000000  ...   0.000000    5.551866  0.000000   0.000000   \n",
              "8774   0.000000  0.000000  ...   0.000000    0.000000  0.000000   0.000000   \n",
              "\n",
              "           2994      2995      2996      2997      2998       2999  \n",
              "0      0.000000  0.000000  0.000000  0.000000  0.000000   3.788207  \n",
              "1      3.227533  4.727918  0.000000  0.000000  0.000000  11.364621  \n",
              "2      0.000000  0.000000  0.000000  0.000000  0.000000   0.000000  \n",
              "3      0.000000  0.000000  3.808788  0.000000  0.000000   0.000000  \n",
              "4     19.365201  0.000000  0.000000  0.000000  0.000000   0.000000  \n",
              "...         ...       ...       ...       ...       ...        ...  \n",
              "8770   3.227533  0.000000  0.000000  0.000000  0.000000   0.000000  \n",
              "8771  16.137667  9.455836  7.617575  4.244965  0.000000  11.364621  \n",
              "8772   0.000000  0.000000  0.000000  0.000000  4.470304   0.000000  \n",
              "8773   0.000000  0.000000  0.000000  0.000000  0.000000   0.000000  \n",
              "8774   0.000000  0.000000  0.000000  0.000000  0.000000   0.000000  \n",
              "\n",
              "[8775 rows x 3000 columns]"
            ]
          },
          "metadata": {},
          "output_type": "display_data"
        }
      ],
      "source": [
        "x = tfidf.fit_transform({data}.flat)\n",
        "vec_text = x.toarray()\n",
        "vec_df = pd.DataFrame(vec_text)\n",
        "display(vec_df)"
      ]
    },
    {
      "cell_type": "code",
      "execution_count": 17,
      "metadata": {
        "colab": {
          "base_uri": "https://localhost:8080/",
          "height": 187
        },
        "id": "4R6r9DSx52dj",
        "outputId": "267d356f-9fed-456d-fded-671027f81670"
      },
      "outputs": [
        {
          "ename": "NameError",
          "evalue": "ignored",
          "output_type": "error",
          "traceback": [
            "\u001b[0;31m---------------------------------------------------------------------------\u001b[0m",
            "\u001b[0;31mNameError\u001b[0m                                 Traceback (most recent call last)",
            "\u001b[0;32m<ipython-input-17-8be8ee1b353d>\u001b[0m in \u001b[0;36m<module>\u001b[0;34m\u001b[0m\n\u001b[0;32m----> 1\u001b[0;31m \u001b[0mp\u001b[0m \u001b[0;34m=\u001b[0m \u001b[0mtfidf\u001b[0m\u001b[0;34m.\u001b[0m\u001b[0mtransform\u001b[0m\u001b[0;34m(\u001b[0m\u001b[0mtweet_test_process\u001b[0m\u001b[0;34m.\u001b[0m\u001b[0mtweet\u001b[0m\u001b[0;34m)\u001b[0m\u001b[0;34m\u001b[0m\u001b[0;34m\u001b[0m\u001b[0m\n\u001b[0m\u001b[1;32m      2\u001b[0m \u001b[0mvec_tweet_test\u001b[0m \u001b[0;34m=\u001b[0m \u001b[0mp\u001b[0m\u001b[0;34m.\u001b[0m\u001b[0mtoarray\u001b[0m\u001b[0;34m(\u001b[0m\u001b[0;34m)\u001b[0m\u001b[0;34m\u001b[0m\u001b[0;34m\u001b[0m\u001b[0m\n",
            "\u001b[0;31mNameError\u001b[0m: name 'tweet_test_process' is not defined"
          ]
        }
      ],
      "source": [
        "p = tfidf.transform({test_data}.tweet)\n",
        "vec_tweet_test = p.toarray()"
      ]
    },
    {
      "cell_type": "code",
      "execution_count": 14,
      "metadata": {
        "colab": {
          "base_uri": "https://localhost:8080/"
        },
        "id": "b-Rqs3L4ncxb",
        "outputId": "3bf93c70-221c-4162-9285-4a36f0f77cdb"
      },
      "outputs": [
        {
          "name": "stdout",
          "output_type": "stream",
          "text": [
            "Done\n"
          ]
        }
      ],
      "source": [
        "# word_list = tfidf.get_feature_names_out().tolist()\n",
        "\n",
        "# with open(r'/content/drive/MyDrive/word.txt', 'w') as fp:\n",
        "#     for item in word_list:\n",
        "#         # write each item on a new line\n",
        "#         fp.write(\"%s\\n\" % item)\n",
        "#     print('Done')"
      ]
    },
    {
      "cell_type": "code",
      "execution_count": 14,
      "metadata": {
        "colab": {
          "base_uri": "https://localhost:8080/"
        },
        "id": "wdNqEsnY92VR",
        "outputId": "23c2c96b-963e-45ab-e004-06b9a0484848"
      },
      "outputs": [
        {
          "data": {
            "text/plain": [
              "array(['__', '_button', 'aa', ..., 'zoom', 'zoomwhereithappen', 'zzz'],\n",
              "      dtype=object)"
            ]
          },
          "execution_count": 14,
          "metadata": {},
          "output_type": "execute_result"
        }
      ],
      "source": [
        "# tfidf.get_feature_names_out()"
      ]
    },
    {
      "cell_type": "code",
      "execution_count": 20,
      "metadata": {
        "id": "15hNWG2CSBOS"
      },
      "outputs": [],
      "source": [
        "y={data}.type.values"
      ]
    },
    {
      "cell_type": "code",
      "execution_count": 22,
      "metadata": {
        "colab": {
          "base_uri": "https://localhost:8080/"
        },
        "id": "uw5aelYfOTnr",
        "outputId": "c6c6c3cd-9ae8-42d9-faec-0dd00483f2d3"
      },
      "outputs": [
        {
          "name": "stdout",
          "output_type": "stream",
          "text": [
            "(6071, 3000) (6071,) (2603, 3000) (2603,)\n"
          ]
        }
      ],
      "source": [
        "from sklearn.model_selection import train_test_split\n",
        "X_train, X_test, y_train, y_test = train_test_split(vec_df, y, test_size=0.3, random_state=42, stratify=y)\n",
        "print((X_train.shape),(y_train.shape),(X_test.shape),(y_test.shape))"
      ]
    },
    {
      "cell_type": "markdown",
      "metadata": {
        "id": "Kn1c0h-NOHYJ"
      },
      "source": [
        "#### SVM"
      ]
    },
    {
      "cell_type": "code",
      "execution_count": 37,
      "metadata": {
        "colab": {
          "base_uri": "https://localhost:8080/"
        },
        "id": "yuo3jkzsRxqA",
        "outputId": "6a5d473e-354e-49e4-f220-e19b1c2d21b9"
      },
      "outputs": [
        {
          "data": {
            "text/plain": [
              "SVC(kernel='linear')"
            ]
          },
          "execution_count": 37,
          "metadata": {},
          "output_type": "execute_result"
        }
      ],
      "source": [
        "from sklearn.svm import SVC\n",
        "svm = SVC(kernel = 'linear')\n",
        "svm.fit(X_train,y_train)"
      ]
    },
    {
      "cell_type": "code",
      "execution_count": 25,
      "metadata": {
        "colab": {
          "base_uri": "https://localhost:8080/"
        },
        "id": "bTMc20x_h_Ss",
        "outputId": "e1fd3af2-8ee6-45ac-9b44-11aa7fc0d22c"
      },
      "outputs": [
        {
          "data": {
            "text/plain": [
              "array([0.33004115, 0.33278418, 0.33937397, 0.35172982, 0.3509061 ])"
            ]
          },
          "execution_count": 25,
          "metadata": {},
          "output_type": "execute_result"
        }
      ],
      "source": [
        "from sklearn.model_selection import cross_val_score\n",
        "from sklearn.svm import SVC\n",
        "\n",
        "svm = SVC(C = 0.5,kernel = 'linear')\n",
        "scores = cross_val_score(svm, X_train, y_train, cv=5)\n",
        "scores"
      ]
    },
    {
      "cell_type": "code",
      "execution_count": null,
      "metadata": {
        "id": "5qo8Tg5oiYHJ"
      },
      "outputs": [],
      "source": [
        "# import matplotlib.pyplot as plt\n",
        "# t = [1, 2, 3, 4, 5, 6, 7, 8, 9, 10]\n",
        "# score_list = []\n",
        "\n",
        "# for i in t:\n",
        "#   clf = svm.SVC(C = 0.5,kernel = 'linear')\n",
        "#   score = cross_val_score(clf, X_train, y_train, cv=10)\n",
        "#   score_list.append(sum(score) / len(score))\n",
        "    \n",
        "# plt.plot(t, score_list)\n",
        "# plt.xlabel(\"depth\")\n",
        "# plt.ylabel('f1-score')\n",
        "# plt.title(\"10-fold validation\")\n",
        "# plt.show()"
      ]
    },
    {
      "cell_type": "code",
      "execution_count": 38,
      "metadata": {
        "colab": {
          "base_uri": "https://localhost:8080/"
        },
        "id": "gCJ0nJJCSQHP",
        "outputId": "a5fc71d3-a77c-4e8b-cecd-630f0c32e334"
      },
      "outputs": [
        {
          "name": "stdout",
          "output_type": "stream",
          "text": [
            "Accuracy: 0.34114483288513253\n",
            "Precision: 0.3301293249678038\n",
            "recall: 0.34114483288513253\n",
            "f1-score: 0.33265150546827216\n"
          ]
        },
        {
          "name": "stderr",
          "output_type": "stream",
          "text": [
            "/usr/local/lib/python3.8/dist-packages/sklearn/metrics/_classification.py:1318: UndefinedMetricWarning: Precision is ill-defined and being set to 0.0 in labels with no predicted samples. Use `zero_division` parameter to control this behavior.\n",
            "  _warn_prf(average, modifier, msg_start, len(result))\n"
          ]
        }
      ],
      "source": [
        "import numpy as np\n",
        "from sklearn.metrics import accuracy_score\n",
        "from sklearn.metrics import recall_score\n",
        "from sklearn.metrics import precision_score\n",
        "from sklearn.metrics import f1_score\n",
        "\n",
        "Y_pred = svm.predict(X_test)\n",
        "accuracy = accuracy_score(y_test, Y_pred)\n",
        "precision = precision_score(y_test, Y_pred, average = 'weighted')\n",
        "recall = recall_score(y_test, Y_pred, average = 'weighted')\n",
        "f1score = f1_score(y_test, Y_pred, average = 'weighted')\n",
        "\n",
        "print('Accuracy:', accuracy)\n",
        "print('Precision:', precision)\n",
        "print('recall:', recall)\n",
        "print('f1-score:', f1score)"
      ]
    },
    {
      "cell_type": "code",
      "execution_count": 28,
      "metadata": {
        "colab": {
          "base_uri": "https://localhost:8080/"
        },
        "id": "YDWXUFWow4iB",
        "outputId": "57a34c6e-b14f-4a0a-a77f-e6d709859ab2"
      },
      "outputs": [
        {
          "name": "stdout",
          "output_type": "stream",
          "text": [
            "Accuracy: 0.34114483288513253\n",
            "Precision: 0.21505554373023725\n",
            "recall: 0.1909848180802801\n",
            "f1-score: 0.19633779584005528\n"
          ]
        },
        {
          "name": "stderr",
          "output_type": "stream",
          "text": [
            "/usr/local/lib/python3.8/dist-packages/sklearn/metrics/_classification.py:1318: UndefinedMetricWarning: Precision is ill-defined and being set to 0.0 in labels with no predicted samples. Use `zero_division` parameter to control this behavior.\n",
            "  _warn_prf(average, modifier, msg_start, len(result))\n"
          ]
        }
      ],
      "source": [
        "accuracy_ = accuracy_score(y_test, Y_pred)\n",
        "precision_ = precision_score(y_test, Y_pred, average = 'macro')\n",
        "recall_ = recall_score(y_test, Y_pred, average = 'macro')\n",
        "f1score_ = f1_score(y_test, Y_pred, average = 'macro')\n",
        "\n",
        "print('Accuracy:', accuracy_)\n",
        "print('Precision:', precision_)\n",
        "print('recall:', recall_)\n",
        "print('f1-score:', f1score_)"
      ]
    },
    {
      "cell_type": "code",
      "execution_count": 162,
      "metadata": {
        "colab": {
          "base_uri": "https://localhost:8080/"
        },
        "id": "j0MHcMQxBAns",
        "outputId": "c1679abb-056d-474f-d3fe-b9edfc6f6056"
      },
      "outputs": [
        {
          "data": {
            "text/plain": [
              "array(['ENFP'], dtype=object)"
            ]
          },
          "execution_count": 162,
          "metadata": {},
          "output_type": "execute_result"
        }
      ],
      "source": [
        "result = svm.predict(vec_tweet_test)\n",
        "result"
      ]
    },
    {
      "cell_type": "code",
      "execution_count": 40,
      "metadata": {
        "colab": {
          "base_uri": "https://localhost:8080/"
        },
        "id": "oKEKF2NcrCIn",
        "outputId": "54617b10-1525-4d51-bcc6-f1a63cfdba23"
      },
      "outputs": [
        {
          "name": "stdout",
          "output_type": "stream",
          "text": [
            "Accuracy: 0.3634268152132155\n",
            "Precision: 0.34012633093141925\n",
            "recall: 0.3634268152132155\n",
            "f1-score: 0.3486680754869029\n"
          ]
        },
        {
          "name": "stderr",
          "output_type": "stream",
          "text": [
            "/usr/local/lib/python3.8/dist-packages/sklearn/linear_model/_logistic.py:814: ConvergenceWarning: lbfgs failed to converge (status=1):\n",
            "STOP: TOTAL NO. of ITERATIONS REACHED LIMIT.\n",
            "\n",
            "Increase the number of iterations (max_iter) or scale the data as shown in:\n",
            "    https://scikit-learn.org/stable/modules/preprocessing.html\n",
            "Please also refer to the documentation for alternative solver options:\n",
            "    https://scikit-learn.org/stable/modules/linear_model.html#logistic-regression\n",
            "  n_iter_i = _check_optimize_result(\n",
            "/usr/local/lib/python3.8/dist-packages/sklearn/metrics/_classification.py:1318: UndefinedMetricWarning: Precision is ill-defined and being set to 0.0 in labels with no predicted samples. Use `zero_division` parameter to control this behavior.\n",
            "  _warn_prf(average, modifier, msg_start, len(result))\n"
          ]
        }
      ],
      "source": [
        "# Logistic Regression\n",
        "from sklearn.linear_model import LogisticRegression\n",
        "from sklearn.metrics import accuracy_score\n",
        "import numpy as np\n",
        "from sklearn.metrics import accuracy_score\n",
        "from sklearn.metrics import recall_score\n",
        "from sklearn.metrics import precision_score\n",
        "from sklearn.metrics import f1_score\n",
        "\n",
        "logreg = LogisticRegression()\n",
        "logreg.fit(X_train, y_train)\n",
        "\n",
        "Y_pred = logreg.predict(X_test)\n",
        "\n",
        "accuracy_clf = accuracy_score(y_test, Y_pred)\n",
        "precision_clf = precision_score(y_test, Y_pred, average = 'weighted')\n",
        "recall_clf = recall_score(y_test, Y_pred, average = 'weighted')\n",
        "f1score_clf = f1_score(y_test, Y_pred, average = 'weighted')\n",
        "\n",
        "print('Accuracy:', accuracy_clf)\n",
        "print('Precision:', precision_clf)\n",
        "print('recall:', recall_clf)\n",
        "print('f1-score:', f1score_clf)"
      ]
    },
    {
      "cell_type": "code",
      "execution_count": 41,
      "metadata": {
        "colab": {
          "base_uri": "https://localhost:8080/"
        },
        "id": "yMfsH1BrxyHM",
        "outputId": "a973f5f0-abc1-48b2-8cf4-2c51c0bda2ba"
      },
      "outputs": [
        {
          "name": "stdout",
          "output_type": "stream",
          "text": [
            "Accuracy: 0.3634268152132155\n",
            "Precision: 0.20808637172669733\n",
            "recall: 0.19219707364992455\n",
            "f1-score: 0.1951206483038158\n"
          ]
        },
        {
          "name": "stderr",
          "output_type": "stream",
          "text": [
            "/usr/local/lib/python3.8/dist-packages/sklearn/metrics/_classification.py:1318: UndefinedMetricWarning: Precision is ill-defined and being set to 0.0 in labels with no predicted samples. Use `zero_division` parameter to control this behavior.\n",
            "  _warn_prf(average, modifier, msg_start, len(result))\n"
          ]
        }
      ],
      "source": [
        "accuracy_clf_ = accuracy_score(y_test, Y_pred)\n",
        "precision_clf_ = precision_score(y_test, Y_pred, average = 'macro')\n",
        "recall_clf_ = recall_score(y_test, Y_pred, average = 'macro')\n",
        "f1score_clf_ = f1_score(y_test, Y_pred, average = 'macro')\n",
        "\n",
        "print('Accuracy:', accuracy_clf_)\n",
        "print('Precision:', precision_clf_)\n",
        "print('recall:', recall_clf_)\n",
        "print('f1-score:', f1score_clf_)"
      ]
    },
    {
      "cell_type": "code",
      "execution_count": 22,
      "metadata": {
        "colab": {
          "base_uri": "https://localhost:8080/",
          "height": 187
        },
        "id": "eNG2wooafbKB",
        "outputId": "1d0ecf42-0543-423d-ef48-6681ed178bcd"
      },
      "outputs": [
        {
          "ename": "NameError",
          "evalue": "ignored",
          "output_type": "error",
          "traceback": [
            "\u001b[0;31m---------------------------------------------------------------------------\u001b[0m",
            "\u001b[0;31mNameError\u001b[0m                                 Traceback (most recent call last)",
            "\u001b[0;32m<ipython-input-22-03deb5738fbd>\u001b[0m in \u001b[0;36m<module>\u001b[0;34m\u001b[0m\n\u001b[0;32m----> 1\u001b[0;31m \u001b[0mresult_clf\u001b[0m \u001b[0;34m=\u001b[0m \u001b[0mlogreg\u001b[0m\u001b[0;34m.\u001b[0m\u001b[0mpredict\u001b[0m\u001b[0;34m(\u001b[0m\u001b[0mvec_tweet_test\u001b[0m\u001b[0;34m)\u001b[0m\u001b[0;34m\u001b[0m\u001b[0;34m\u001b[0m\u001b[0m\n\u001b[0m\u001b[1;32m      2\u001b[0m \u001b[0mresult_clf\u001b[0m\u001b[0;34m\u001b[0m\u001b[0;34m\u001b[0m\u001b[0m\n",
            "\u001b[0;31mNameError\u001b[0m: name 'vec_tweet_test' is not defined"
          ]
        }
      ],
      "source": [
        "result_clf = logreg.predict(vec_tweet_test)\n",
        "result_clf"
      ]
    },
    {
      "cell_type": "markdown",
      "metadata": {
        "id": "P2lngmmIOFQT"
      },
      "source": [
        "#### RandomForest"
      ]
    },
    {
      "cell_type": "code",
      "execution_count": 20,
      "metadata": {
        "colab": {
          "base_uri": "https://localhost:8080/"
        },
        "id": "WTVScPNjNTnK",
        "outputId": "e2f03761-17a0-41db-af36-9c8147c3f6ce"
      },
      "outputs": [
        {
          "name": "stdout",
          "output_type": "stream",
          "text": [
            "Accuracy: 0.25584045584045584\n",
            "Precision: 0.2414897102053342\n",
            "recall: 0.25584045584045584\n",
            "f1-score: 0.14932378972500732\n"
          ]
        },
        {
          "name": "stderr",
          "output_type": "stream",
          "text": [
            "/usr/local/lib/python3.8/dist-packages/sklearn/metrics/_classification.py:1318: UndefinedMetricWarning: Precision is ill-defined and being set to 0.0 in labels with no predicted samples. Use `zero_division` parameter to control this behavior.\n",
            "  _warn_prf(average, modifier, msg_start, len(result))\n"
          ]
        }
      ],
      "source": [
        "from sklearn.ensemble import RandomForestClassifier\n",
        "from sklearn.metrics import accuracy_score\n",
        "\n",
        "\n",
        "random_forest = RandomForestClassifier(n_estimators=1000, random_state = 42, class_weight = 'balanced')\n",
        "random_forest.fit(X_train, y_train)\n",
        "\n",
        "\n",
        "Y_pred = random_forest.predict(X_test)\n",
        "\n",
        "accuracy_rf = accuracy_score(y_test, Y_pred)\n",
        "precision_rf = precision_score(y_test, Y_pred, average = 'weighted')\n",
        "recall_rf = recall_score(y_test, Y_pred, average = 'weighted')\n",
        "f1score_rf = f1_score(y_test, Y_pred, average = 'weighted')\n",
        "\n",
        "print('Accuracy:', accuracy_rf)\n",
        "print('Precision:', precision_rf)\n",
        "print('recall:', recall_rf)\n",
        "print('f1-score:', f1score_rf)"
      ]
    },
    {
      "cell_type": "code",
      "execution_count": 21,
      "metadata": {
        "colab": {
          "base_uri": "https://localhost:8080/"
        },
        "id": "2H61o54sy3eE",
        "outputId": "9b74c5a8-2270-47af-f29d-3f72165d5c00"
      },
      "outputs": [
        {
          "name": "stdout",
          "output_type": "stream",
          "text": [
            "Accuracy: 0.25584045584045584\n",
            "Precision: 0.1623092987856311\n",
            "recall: 0.09897742467955621\n",
            "f1-score: 0.06978521782921537\n"
          ]
        },
        {
          "name": "stderr",
          "output_type": "stream",
          "text": [
            "/usr/local/lib/python3.8/dist-packages/sklearn/metrics/_classification.py:1318: UndefinedMetricWarning: Precision is ill-defined and being set to 0.0 in labels with no predicted samples. Use `zero_division` parameter to control this behavior.\n",
            "  _warn_prf(average, modifier, msg_start, len(result))\n"
          ]
        }
      ],
      "source": [
        "accuracy_rf_ = accuracy_score(y_test, Y_pred)\n",
        "precision_rf_ = precision_score(y_test, Y_pred, average = 'macro')\n",
        "recall_rf_ = recall_score(y_test, Y_pred, average = 'macro')\n",
        "f1score_rf_ = f1_score(y_test, Y_pred, average = 'macro')\n",
        "\n",
        "print('Accuracy:', accuracy_rf_)\n",
        "print('Precision:', precision_rf_)\n",
        "print('recall:', recall_rf_)\n",
        "print('f1-score:', f1score_rf_)"
      ]
    },
    {
      "cell_type": "code",
      "execution_count": 168,
      "metadata": {
        "colab": {
          "base_uri": "https://localhost:8080/"
        },
        "id": "rX92ukNNKHIl",
        "outputId": "274988c9-1b2e-4847-e634-e312033719f3"
      },
      "outputs": [
        {
          "data": {
            "text/plain": [
              "array(['INFP'], dtype=object)"
            ]
          },
          "execution_count": 168,
          "metadata": {},
          "output_type": "execute_result"
        }
      ],
      "source": [
        "result_rf = random_forest.predict(vec_tweet_test)\n",
        "result_rf"
      ]
    }
  ],
  "metadata": {
    "colab": {
      "collapsed_sections": [
        "xbw4KJ9gIcC1",
        "WWaaHJxODXV6",
        "s8vLWJiREXT2",
        "sWtkmrLPEnIU",
        "Kn1c0h-NOHYJ",
        "65jckd62N7Nr",
        "22I40tG2N9Xg"
      ],
      "provenance": []
    },
    "gpuClass": "standard",
    "kernelspec": {
      "display_name": "Python 3",
      "name": "python3"
    },
    "language_info": {
      "name": "python"
    }
  },
  "nbformat": 4,
  "nbformat_minor": 0
}
